{
  "nbformat": 4,
  "nbformat_minor": 0,
  "metadata": {
    "kernelspec": {
      "display_name": "Python 3",
      "language": "python",
      "name": "python3"
    },
    "language_info": {
      "codemirror_mode": {
        "name": "ipython",
        "version": 3
      },
      "file_extension": ".py",
      "mimetype": "text/x-python",
      "name": "python",
      "nbconvert_exporter": "python",
      "pygments_lexer": "ipython3",
      "version": "3.6.1"
    },
    "colab": {
      "name": "01TF_Ch4.4_deep_net_in_tensorflow.ipynb",
      "provenance": [],
      "collapsed_sections": [],
      "include_colab_link": true
    }
  },
  "cells": [
    {
      "cell_type": "markdown",
      "metadata": {
        "id": "view-in-github",
        "colab_type": "text"
      },
      "source": [
        "<a href=\"https://colab.research.google.com/github/CarolBigData2016/google-colab/blob/master/01TF_Ch4_4_deep_net_in_tensorflow.ipynb\" target=\"_parent\"><img src=\"https://colab.research.google.com/assets/colab-badge.svg\" alt=\"Open In Colab\"/></a>"
      ]
    },
    {
      "cell_type": "markdown",
      "metadata": {
        "id": "dgM-Smtn1aip",
        "colab_type": "text"
      },
      "source": [
        "# Deep Neural Network in TensorFlow"
      ]
    },
    {
      "cell_type": "markdown",
      "metadata": {
        "id": "Z_fwBLsE1ait",
        "colab_type": "text"
      },
      "source": [
        "This notebook adds a dense hidden layer to the [Intermediate Net in TensorFlow](https://github.com/the-deep-learners/TensorFlow-LiveLessons/blob/master/notebooks/intermediate_net_in_tensorflow.ipynb) model architecture."
      ]
    },
    {
      "cell_type": "markdown",
      "metadata": {
        "id": "o2Hz0rR51aiv",
        "colab_type": "text"
      },
      "source": [
        "#### Load dependencies"
      ]
    },
    {
      "cell_type": "code",
      "metadata": {
        "id": "g1g-my771aix",
        "colab_type": "code",
        "colab": {
          "base_uri": "https://localhost:8080/",
          "height": 63
        },
        "outputId": "7e857221-38e7-4505-dff0-aa63428d115e"
      },
      "source": [
        "import numpy as np\n",
        "np.random.seed(42)\n",
        "import tensorflow as tf\n",
        "tf.set_random_seed(42)"
      ],
      "execution_count": 1,
      "outputs": [
        {
          "output_type": "display_data",
          "data": {
            "text/html": [
              "<p style=\"color: red;\">\n",
              "The default version of TensorFlow in Colab will soon switch to TensorFlow 2.x.<br>\n",
              "We recommend you <a href=\"https://www.tensorflow.org/guide/migrate\" target=\"_blank\">upgrade</a> now \n",
              "or ensure your notebook will continue to use TensorFlow 1.x via the <code>%tensorflow_version 1.x</code> magic:\n",
              "<a href=\"https://colab.research.google.com/notebooks/tensorflow_version.ipynb\" target=\"_blank\">more info</a>.</p>\n"
            ],
            "text/plain": [
              "<IPython.core.display.HTML object>"
            ]
          },
          "metadata": {
            "tags": []
          }
        }
      ]
    },
    {
      "cell_type": "markdown",
      "metadata": {
        "id": "1NFZkFCq1ai3",
        "colab_type": "text"
      },
      "source": [
        "#### Load data"
      ]
    },
    {
      "cell_type": "code",
      "metadata": {
        "id": "AZjGb9xr1ai5",
        "colab_type": "code",
        "colab": {
          "base_uri": "https://localhost:8080/",
          "height": 530
        },
        "outputId": "769a6f68-90a0-4189-fd74-a659879f2377"
      },
      "source": [
        "from tensorflow.examples.tutorials.mnist import input_data\n",
        "mnist = input_data.read_data_sets(\"MNIST_data/\", one_hot=True)"
      ],
      "execution_count": 2,
      "outputs": [
        {
          "output_type": "stream",
          "text": [
            "WARNING:tensorflow:From <ipython-input-2-8bf8ae5a5303>:2: read_data_sets (from tensorflow.contrib.learn.python.learn.datasets.mnist) is deprecated and will be removed in a future version.\n",
            "Instructions for updating:\n",
            "Please use alternatives such as official/mnist/dataset.py from tensorflow/models.\n",
            "WARNING:tensorflow:From /usr/local/lib/python3.6/dist-packages/tensorflow_core/contrib/learn/python/learn/datasets/mnist.py:260: maybe_download (from tensorflow.contrib.learn.python.learn.datasets.base) is deprecated and will be removed in a future version.\n",
            "Instructions for updating:\n",
            "Please write your own downloading logic.\n",
            "WARNING:tensorflow:From /usr/local/lib/python3.6/dist-packages/tensorflow_core/contrib/learn/python/learn/datasets/base.py:252: _internal_retry.<locals>.wrap.<locals>.wrapped_fn (from tensorflow.contrib.learn.python.learn.datasets.base) is deprecated and will be removed in a future version.\n",
            "Instructions for updating:\n",
            "Please use urllib or similar directly.\n",
            "Successfully downloaded train-images-idx3-ubyte.gz 9912422 bytes.\n",
            "WARNING:tensorflow:From /usr/local/lib/python3.6/dist-packages/tensorflow_core/contrib/learn/python/learn/datasets/mnist.py:262: extract_images (from tensorflow.contrib.learn.python.learn.datasets.mnist) is deprecated and will be removed in a future version.\n",
            "Instructions for updating:\n",
            "Please use tf.data to implement this functionality.\n",
            "Extracting MNIST_data/train-images-idx3-ubyte.gz\n",
            "Successfully downloaded train-labels-idx1-ubyte.gz 28881 bytes.\n",
            "WARNING:tensorflow:From /usr/local/lib/python3.6/dist-packages/tensorflow_core/contrib/learn/python/learn/datasets/mnist.py:267: extract_labels (from tensorflow.contrib.learn.python.learn.datasets.mnist) is deprecated and will be removed in a future version.\n",
            "Instructions for updating:\n",
            "Please use tf.data to implement this functionality.\n",
            "Extracting MNIST_data/train-labels-idx1-ubyte.gz\n",
            "WARNING:tensorflow:From /usr/local/lib/python3.6/dist-packages/tensorflow_core/contrib/learn/python/learn/datasets/mnist.py:110: dense_to_one_hot (from tensorflow.contrib.learn.python.learn.datasets.mnist) is deprecated and will be removed in a future version.\n",
            "Instructions for updating:\n",
            "Please use tf.one_hot on tensors.\n",
            "Successfully downloaded t10k-images-idx3-ubyte.gz 1648877 bytes.\n",
            "Extracting MNIST_data/t10k-images-idx3-ubyte.gz\n",
            "Successfully downloaded t10k-labels-idx1-ubyte.gz 4542 bytes.\n",
            "Extracting MNIST_data/t10k-labels-idx1-ubyte.gz\n",
            "WARNING:tensorflow:From /usr/local/lib/python3.6/dist-packages/tensorflow_core/contrib/learn/python/learn/datasets/mnist.py:290: DataSet.__init__ (from tensorflow.contrib.learn.python.learn.datasets.mnist) is deprecated and will be removed in a future version.\n",
            "Instructions for updating:\n",
            "Please use alternatives such as official/mnist/dataset.py from tensorflow/models.\n"
          ],
          "name": "stdout"
        }
      ]
    },
    {
      "cell_type": "markdown",
      "metadata": {
        "id": "iZ4loIwe1ai_",
        "colab_type": "text"
      },
      "source": [
        "#### Set neural network hyperparameters (tidier at top of file!)"
      ]
    },
    {
      "cell_type": "code",
      "metadata": {
        "id": "NGzMcVco1ajB",
        "colab_type": "code",
        "colab": {
          "base_uri": "https://localhost:8080/",
          "height": 153
        },
        "outputId": "bb58a8ee-a6ad-4948-e2dc-527fd462e4e0"
      },
      "source": [
        "lr = 0.1\n",
        "epochs = 20\n",
        "batch_size = 128\n",
        "weight_initializer = tf.contrib.layers.xavier_initializer()"
      ],
      "execution_count": 3,
      "outputs": [
        {
          "output_type": "stream",
          "text": [
            "WARNING:tensorflow:\n",
            "The TensorFlow contrib module will not be included in TensorFlow 2.0.\n",
            "For more information, please see:\n",
            "  * https://github.com/tensorflow/community/blob/master/rfcs/20180907-contrib-sunset.md\n",
            "  * https://github.com/tensorflow/addons\n",
            "  * https://github.com/tensorflow/io (for I/O related ops)\n",
            "If you depend on functionality not listed there, please file an issue.\n",
            "\n"
          ],
          "name": "stdout"
        }
      ]
    },
    {
      "cell_type": "markdown",
      "metadata": {
        "id": "XFjuag7O1ajF",
        "colab_type": "text"
      },
      "source": [
        "#### Set number of neurons for each layer"
      ]
    },
    {
      "cell_type": "code",
      "metadata": {
        "id": "hX3oeYib1ajG",
        "colab_type": "code",
        "colab": {}
      },
      "source": [
        "n_input = 784\n",
        "n_dense_1 = 64\n",
        "n_dense_2 = 64\n",
        "n_dense_3 = 64\n",
        "n_classes = 10"
      ],
      "execution_count": 0,
      "outputs": []
    },
    {
      "cell_type": "markdown",
      "metadata": {
        "id": "ILwmEXE71ajM",
        "colab_type": "text"
      },
      "source": [
        "#### Define placeholders Tensors for inputs and labels"
      ]
    },
    {
      "cell_type": "code",
      "metadata": {
        "id": "Wknec5kH1ajN",
        "colab_type": "code",
        "colab": {}
      },
      "source": [
        "x = tf.placeholder(tf.float32, [None, n_input])\n",
        "y = tf.placeholder(tf.float32, [None, n_classes])"
      ],
      "execution_count": 0,
      "outputs": []
    },
    {
      "cell_type": "markdown",
      "metadata": {
        "id": "qEfgujdF1ajR",
        "colab_type": "text"
      },
      "source": [
        "#### Define types of layers"
      ]
    },
    {
      "cell_type": "code",
      "metadata": {
        "id": "Ltz3MTrC1ajT",
        "colab_type": "code",
        "colab": {}
      },
      "source": [
        "# dense layer with ReLU activation:\n",
        "def dense(x, W, b):\n",
        "    z = tf.add(tf.matmul(x, W), b)\n",
        "    a = tf.nn.relu(z)\n",
        "    return a"
      ],
      "execution_count": 0,
      "outputs": []
    },
    {
      "cell_type": "markdown",
      "metadata": {
        "id": "SKRfgBH51ajX",
        "colab_type": "text"
      },
      "source": [
        "#### Design neural network architecture"
      ]
    },
    {
      "cell_type": "code",
      "metadata": {
        "id": "yxvxyiSe1ajY",
        "colab_type": "code",
        "colab": {}
      },
      "source": [
        "def network(x, weights, biases):\n",
        "    \n",
        "    # two dense hidden layers: \n",
        "    dense_1 = dense(x, weights['W1'], biases['b1'])\n",
        "    dense_2 = dense(dense_1, weights['W2'], biases['b2'])\n",
        "    dense_3 = dense(dense_2, weights['W3'], biases['b3'])\n",
        "    \n",
        "    # linear output layer (softmax)\n",
        "    out_layer_z = tf.add(tf.matmul(dense_3, weights['W_out']), biases['b_out'])\n",
        "    \n",
        "    return out_layer_z"
      ],
      "execution_count": 0,
      "outputs": []
    },
    {
      "cell_type": "markdown",
      "metadata": {
        "id": "RyC-9EEW1ajc",
        "colab_type": "text"
      },
      "source": [
        "#### Define dictionaries for storing weights and biases for each layer -- and initialize"
      ]
    },
    {
      "cell_type": "code",
      "metadata": {
        "id": "x3RINKwd1aje",
        "colab_type": "code",
        "colab": {}
      },
      "source": [
        "bias_dict = {\n",
        "    'b1': tf.Variable(tf.zeros([n_dense_1])), \n",
        "    'b2': tf.Variable(tf.zeros([n_dense_2])),\n",
        "    'b3': tf.Variable(tf.zeros([n_dense_3])),\n",
        "    'b_out': tf.Variable(tf.zeros([n_classes]))\n",
        "}\n",
        "\n",
        "weight_dict = {\n",
        "    'W1': tf.get_variable('W1', [n_input, n_dense_1], initializer=weight_initializer),\n",
        "    'W2': tf.get_variable('W2', [n_dense_1, n_dense_2], initializer=weight_initializer),\n",
        "    'W3': tf.get_variable('W3', [n_dense_3, n_dense_3], initializer=weight_initializer),\n",
        "    'W_out': tf.get_variable('W_out', [n_dense_3, n_classes], initializer=weight_initializer)\n",
        "}"
      ],
      "execution_count": 0,
      "outputs": []
    },
    {
      "cell_type": "markdown",
      "metadata": {
        "id": "w8NWfl7G1ajk",
        "colab_type": "text"
      },
      "source": [
        "#### Build model"
      ]
    },
    {
      "cell_type": "code",
      "metadata": {
        "id": "gUGR_MHs1ajm",
        "colab_type": "code",
        "colab": {}
      },
      "source": [
        "predictions = network(x, weights=weight_dict, biases=bias_dict)"
      ],
      "execution_count": 0,
      "outputs": []
    },
    {
      "cell_type": "markdown",
      "metadata": {
        "id": "GotYToN51ajr",
        "colab_type": "text"
      },
      "source": [
        "#### Define model's loss and its optimizer"
      ]
    },
    {
      "cell_type": "code",
      "metadata": {
        "id": "l-_wkmhx1ajs",
        "colab_type": "code",
        "colab": {
          "base_uri": "https://localhost:8080/",
          "height": 153
        },
        "outputId": "e847e79a-afd2-4ea8-9928-a0c67ad69dec"
      },
      "source": [
        "cost = tf.reduce_mean(tf.nn.softmax_cross_entropy_with_logits(logits=predictions, labels=y))\n",
        "optimizer = tf.train.GradientDescentOptimizer(learning_rate=lr).minimize(cost)"
      ],
      "execution_count": 11,
      "outputs": [
        {
          "output_type": "stream",
          "text": [
            "WARNING:tensorflow:From <ipython-input-11-9091e007b7dc>:1: softmax_cross_entropy_with_logits (from tensorflow.python.ops.nn_ops) is deprecated and will be removed in a future version.\n",
            "Instructions for updating:\n",
            "\n",
            "Future major versions of TensorFlow will allow gradients to flow\n",
            "into the labels input on backprop by default.\n",
            "\n",
            "See `tf.nn.softmax_cross_entropy_with_logits_v2`.\n",
            "\n"
          ],
          "name": "stdout"
        }
      ]
    },
    {
      "cell_type": "markdown",
      "metadata": {
        "id": "_-R6G_6Z1ajw",
        "colab_type": "text"
      },
      "source": [
        "#### Define evaluation metrics"
      ]
    },
    {
      "cell_type": "code",
      "metadata": {
        "id": "suIUjtTz1ajy",
        "colab_type": "code",
        "colab": {}
      },
      "source": [
        "# calculate accuracy by identifying test cases where the model's highest-probability class matches the true y label: \n",
        "correct_prediction = tf.equal(tf.argmax(predictions, 1), tf.argmax(y, 1))\n",
        "accuracy_pct = tf.reduce_mean(tf.cast(correct_prediction, tf.float32)) * 100"
      ],
      "execution_count": 0,
      "outputs": []
    },
    {
      "cell_type": "markdown",
      "metadata": {
        "id": "l6hbzbgu1aj4",
        "colab_type": "text"
      },
      "source": [
        "#### Create op for variable initialization"
      ]
    },
    {
      "cell_type": "code",
      "metadata": {
        "id": "W2lhL15c1aj6",
        "colab_type": "code",
        "colab": {}
      },
      "source": [
        "initializer_op = tf.global_variables_initializer()"
      ],
      "execution_count": 0,
      "outputs": []
    },
    {
      "cell_type": "markdown",
      "metadata": {
        "id": "UUh-zRN_1akA",
        "colab_type": "text"
      },
      "source": [
        "#### Train the network in a session"
      ]
    },
    {
      "cell_type": "code",
      "metadata": {
        "id": "UIml2aZj1akB",
        "colab_type": "code",
        "colab": {
          "base_uri": "https://localhost:8080/",
          "height": 442
        },
        "outputId": "691d0143-8775-4add-e2e7-08b5c3b03828"
      },
      "source": [
        "with tf.Session() as session:\n",
        "    session.run(initializer_op)\n",
        "    \n",
        "    print(\"Training for\", epochs, \"epochs.\")\n",
        "    \n",
        "    # loop over epochs: \n",
        "    for epoch in range(epochs):\n",
        "        \n",
        "        avg_cost = 0.0 # track cost to monitor performance during training\n",
        "        avg_accuracy_pct = 0.0\n",
        "        \n",
        "        # loop over all batches of the epoch:\n",
        "        n_batches = int(mnist.train.num_examples / batch_size)\n",
        "        for i in range(n_batches):\n",
        "            \n",
        "            batch_x, batch_y = mnist.train.next_batch(batch_size)\n",
        "            \n",
        "            # feed batch data to run optimization and fetching cost and accuracy: \n",
        "            _, batch_cost, batch_acc = session.run([optimizer, cost, accuracy_pct], \n",
        "                                                   feed_dict={x: batch_x, y: batch_y})\n",
        "            \n",
        "            # accumulate mean loss and accuracy over epoch: \n",
        "            avg_cost += batch_cost / n_batches\n",
        "            avg_accuracy_pct += batch_acc / n_batches\n",
        "            \n",
        "        # output logs at end of each epoch of training:\n",
        "        print(\"Epoch \", '%03d' % (epoch+1), \n",
        "              \": cost = \", '{:.3f}'.format(avg_cost), \n",
        "              \", accuracy = \", '{:.2f}'.format(avg_accuracy_pct), \"%\", \n",
        "              sep='')\n",
        "    \n",
        "    print(\"Training Complete. Testing Model.\\n\")\n",
        "    \n",
        "    test_cost = cost.eval({x: mnist.test.images, y: mnist.test.labels})\n",
        "    test_accuracy_pct = accuracy_pct.eval({x: mnist.test.images, y: mnist.test.labels})\n",
        "    \n",
        "    print(\"Test Cost:\", '{:.3f}'.format(test_cost))\n",
        "    print(\"Test Accuracy: \", '{:.2f}'.format(test_accuracy_pct), \"%\", sep='')"
      ],
      "execution_count": 14,
      "outputs": [
        {
          "output_type": "stream",
          "text": [
            "Training for 20 epochs.\n",
            "Epoch 001: cost = 0.542, accuracy = 83.35%\n",
            "Epoch 002: cost = 0.211, accuracy = 93.73%\n",
            "Epoch 003: cost = 0.158, accuracy = 95.29%\n",
            "Epoch 004: cost = 0.130, accuracy = 96.14%\n",
            "Epoch 005: cost = 0.110, accuracy = 96.72%\n",
            "Epoch 006: cost = 0.096, accuracy = 97.13%\n",
            "Epoch 007: cost = 0.085, accuracy = 97.51%\n",
            "Epoch 008: cost = 0.076, accuracy = 97.78%\n",
            "Epoch 009: cost = 0.067, accuracy = 97.90%\n",
            "Epoch 010: cost = 0.061, accuracy = 98.16%\n",
            "Epoch 011: cost = 0.055, accuracy = 98.31%\n",
            "Epoch 012: cost = 0.049, accuracy = 98.54%\n",
            "Epoch 013: cost = 0.045, accuracy = 98.69%\n",
            "Epoch 014: cost = 0.042, accuracy = 98.67%\n",
            "Epoch 015: cost = 0.038, accuracy = 98.82%\n",
            "Epoch 016: cost = 0.033, accuracy = 98.98%\n",
            "Epoch 017: cost = 0.030, accuracy = 99.12%\n",
            "Epoch 018: cost = 0.028, accuracy = 99.17%\n",
            "Epoch 019: cost = 0.024, accuracy = 99.32%\n",
            "Epoch 020: cost = 0.023, accuracy = 99.33%\n",
            "Training Complete. Testing Model.\n",
            "\n",
            "Test Cost: 0.118\n",
            "Test Accuracy: 96.69%\n"
          ],
          "name": "stdout"
        }
      ]
    },
    {
      "cell_type": "code",
      "metadata": {
        "id": "VQeJlB3b1akG",
        "colab_type": "code",
        "colab": {}
      },
      "source": [
        ""
      ],
      "execution_count": 0,
      "outputs": []
    }
  ]
}