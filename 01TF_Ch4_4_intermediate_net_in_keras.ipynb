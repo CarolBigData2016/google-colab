{
  "nbformat": 4,
  "nbformat_minor": 0,
  "metadata": {
    "kernelspec": {
      "display_name": "Python 3",
      "language": "python",
      "name": "python3"
    },
    "language_info": {
      "codemirror_mode": {
        "name": "ipython",
        "version": 3
      },
      "file_extension": ".py",
      "mimetype": "text/x-python",
      "name": "python",
      "nbconvert_exporter": "python",
      "pygments_lexer": "ipython3",
      "version": "3.5.2"
    },
    "colab": {
      "name": "01TF_Ch4.4_intermediate_net_in_keras.ipynb",
      "provenance": [],
      "collapsed_sections": [],
      "include_colab_link": true
    }
  },
  "cells": [
    {
      "cell_type": "markdown",
      "metadata": {
        "id": "view-in-github",
        "colab_type": "text"
      },
      "source": [
        "<a href=\"https://colab.research.google.com/github/CarolBigData2016/google-colab/blob/master/01TF_Ch4_4_intermediate_net_in_keras.ipynb\" target=\"_parent\"><img src=\"https://colab.research.google.com/assets/colab-badge.svg\" alt=\"Open In Colab\"/></a>"
      ]
    },
    {
      "cell_type": "markdown",
      "metadata": {
        "id": "yZkcCupmueh5",
        "colab_type": "text"
      },
      "source": [
        "# Intermediate Neural Network in Keras"
      ]
    },
    {
      "cell_type": "markdown",
      "metadata": {
        "id": "kSCGcCgqueh-",
        "colab_type": "text"
      },
      "source": [
        "In this notebook, we improve our [introductory shallow net](https://github.com/the-deep-learners/TensorFlow-LiveLessons/blob/master/notebooks/shallow_net_in_keras.ipynb) from Lesson 1 by applying the theory we have covered since. "
      ]
    },
    {
      "cell_type": "markdown",
      "metadata": {
        "id": "6jDaW0j0ueiA",
        "colab_type": "text"
      },
      "source": [
        "#### Set seed for reproducibility"
      ]
    },
    {
      "cell_type": "code",
      "metadata": {
        "id": "fXRXVkOVueiB",
        "colab_type": "code",
        "colab": {}
      },
      "source": [
        "import numpy as np\n",
        "np.random.seed(42)"
      ],
      "execution_count": 0,
      "outputs": []
    },
    {
      "cell_type": "markdown",
      "metadata": {
        "id": "UUIb55W6ueiG",
        "colab_type": "text"
      },
      "source": [
        "#### Load dependencies"
      ]
    },
    {
      "cell_type": "code",
      "metadata": {
        "id": "9mzZKEOgueiH",
        "colab_type": "code",
        "colab": {
          "base_uri": "https://localhost:8080/",
          "height": 80
        },
        "outputId": "da85147a-380f-4fa1-f4ff-761a4f7e8f7f"
      },
      "source": [
        "import keras\n",
        "from keras.datasets import mnist\n",
        "from keras.models import Sequential\n",
        "from keras.layers import Dense\n",
        "from keras.optimizers import SGD"
      ],
      "execution_count": 2,
      "outputs": [
        {
          "output_type": "stream",
          "text": [
            "Using TensorFlow backend.\n"
          ],
          "name": "stderr"
        },
        {
          "output_type": "display_data",
          "data": {
            "text/html": [
              "<p style=\"color: red;\">\n",
              "The default version of TensorFlow in Colab will soon switch to TensorFlow 2.x.<br>\n",
              "We recommend you <a href=\"https://www.tensorflow.org/guide/migrate\" target=\"_blank\">upgrade</a> now \n",
              "or ensure your notebook will continue to use TensorFlow 1.x via the <code>%tensorflow_version 1.x</code> magic:\n",
              "<a href=\"https://colab.research.google.com/notebooks/tensorflow_version.ipynb\" target=\"_blank\">more info</a>.</p>\n"
            ],
            "text/plain": [
              "<IPython.core.display.HTML object>"
            ]
          },
          "metadata": {
            "tags": []
          }
        }
      ]
    },
    {
      "cell_type": "markdown",
      "metadata": {
        "id": "I8jrGogIueiN",
        "colab_type": "text"
      },
      "source": [
        "#### Load data"
      ]
    },
    {
      "cell_type": "code",
      "metadata": {
        "id": "cg0XTTLyueiO",
        "colab_type": "code",
        "colab": {
          "base_uri": "https://localhost:8080/",
          "height": 51
        },
        "outputId": "9fb34dad-7d3b-4564-a4f6-857f6cbb811c"
      },
      "source": [
        "(X_train, y_train), (X_test, y_test) = mnist.load_data()"
      ],
      "execution_count": 3,
      "outputs": [
        {
          "output_type": "stream",
          "text": [
            "Downloading data from https://s3.amazonaws.com/img-datasets/mnist.npz\n",
            "11493376/11490434 [==============================] - 0s 0us/step\n"
          ],
          "name": "stdout"
        }
      ]
    },
    {
      "cell_type": "markdown",
      "metadata": {
        "id": "9QnvdvfDueiT",
        "colab_type": "text"
      },
      "source": [
        "#### Preprocess data"
      ]
    },
    {
      "cell_type": "code",
      "metadata": {
        "id": "5_go_vHEueiV",
        "colab_type": "code",
        "colab": {}
      },
      "source": [
        "X_train = X_train.reshape(60000, 784).astype('float32')\n",
        "X_test = X_test.reshape(10000, 784).astype('float32')"
      ],
      "execution_count": 0,
      "outputs": []
    },
    {
      "cell_type": "code",
      "metadata": {
        "id": "fwLQE3ZjueiZ",
        "colab_type": "code",
        "colab": {}
      },
      "source": [
        "X_train /= 255\n",
        "X_test /= 255"
      ],
      "execution_count": 0,
      "outputs": []
    },
    {
      "cell_type": "code",
      "metadata": {
        "id": "1Kvpof-zueid",
        "colab_type": "code",
        "colab": {}
      },
      "source": [
        "n_classes = 10\n",
        "y_train = keras.utils.to_categorical(y_train, n_classes)\n",
        "y_test = keras.utils.to_categorical(y_test, n_classes)"
      ],
      "execution_count": 0,
      "outputs": []
    },
    {
      "cell_type": "markdown",
      "metadata": {
        "id": "70gek9yjueih",
        "colab_type": "text"
      },
      "source": [
        "#### Design neural network architecture"
      ]
    },
    {
      "cell_type": "code",
      "metadata": {
        "id": "dO6BzlUsueii",
        "colab_type": "code",
        "colab": {
          "base_uri": "https://localhost:8080/",
          "height": 139
        },
        "outputId": "4a3289dd-edb9-4f0b-8120-d21677d7b736"
      },
      "source": [
        "model = Sequential()\n",
        "model.add(Dense(64, activation='relu', input_shape=(784,)))\n",
        "model.add(Dense(64, activation='relu'))\n",
        "model.add(Dense(10, activation='softmax'))"
      ],
      "execution_count": 7,
      "outputs": [
        {
          "output_type": "stream",
          "text": [
            "WARNING:tensorflow:From /usr/local/lib/python3.6/dist-packages/keras/backend/tensorflow_backend.py:66: The name tf.get_default_graph is deprecated. Please use tf.compat.v1.get_default_graph instead.\n",
            "\n",
            "WARNING:tensorflow:From /usr/local/lib/python3.6/dist-packages/keras/backend/tensorflow_backend.py:541: The name tf.placeholder is deprecated. Please use tf.compat.v1.placeholder instead.\n",
            "\n",
            "WARNING:tensorflow:From /usr/local/lib/python3.6/dist-packages/keras/backend/tensorflow_backend.py:4432: The name tf.random_uniform is deprecated. Please use tf.random.uniform instead.\n",
            "\n"
          ],
          "name": "stdout"
        }
      ]
    },
    {
      "cell_type": "code",
      "metadata": {
        "id": "a0uwNXjFueim",
        "colab_type": "code",
        "colab": {
          "base_uri": "https://localhost:8080/",
          "height": 255
        },
        "outputId": "e690703e-dbe4-45fd-9a2c-6c7609417d2f"
      },
      "source": [
        "model.summary()"
      ],
      "execution_count": 8,
      "outputs": [
        {
          "output_type": "stream",
          "text": [
            "Model: \"sequential_1\"\n",
            "_________________________________________________________________\n",
            "Layer (type)                 Output Shape              Param #   \n",
            "=================================================================\n",
            "dense_1 (Dense)              (None, 64)                50240     \n",
            "_________________________________________________________________\n",
            "dense_2 (Dense)              (None, 64)                4160      \n",
            "_________________________________________________________________\n",
            "dense_3 (Dense)              (None, 10)                650       \n",
            "=================================================================\n",
            "Total params: 55,050\n",
            "Trainable params: 55,050\n",
            "Non-trainable params: 0\n",
            "_________________________________________________________________\n"
          ],
          "name": "stdout"
        }
      ]
    },
    {
      "cell_type": "markdown",
      "metadata": {
        "id": "H5VItdllueiq",
        "colab_type": "text"
      },
      "source": [
        "#### Configure model"
      ]
    },
    {
      "cell_type": "code",
      "metadata": {
        "id": "3xCYBSc3ueir",
        "colab_type": "code",
        "colab": {
          "base_uri": "https://localhost:8080/",
          "height": 85
        },
        "outputId": "f9ce4ace-e477-464c-968c-f31fc2d0bf0e"
      },
      "source": [
        "model.compile(loss='categorical_crossentropy', optimizer=SGD(lr=0.1), metrics=['accuracy'])"
      ],
      "execution_count": 9,
      "outputs": [
        {
          "output_type": "stream",
          "text": [
            "WARNING:tensorflow:From /usr/local/lib/python3.6/dist-packages/keras/optimizers.py:793: The name tf.train.Optimizer is deprecated. Please use tf.compat.v1.train.Optimizer instead.\n",
            "\n",
            "WARNING:tensorflow:From /usr/local/lib/python3.6/dist-packages/keras/backend/tensorflow_backend.py:3576: The name tf.log is deprecated. Please use tf.math.log instead.\n",
            "\n"
          ],
          "name": "stdout"
        }
      ]
    },
    {
      "cell_type": "markdown",
      "metadata": {
        "id": "8tQZ_eb-ueiw",
        "colab_type": "text"
      },
      "source": [
        "#### Train!"
      ]
    },
    {
      "cell_type": "code",
      "metadata": {
        "id": "1aJaT5r8ueix",
        "colab_type": "code",
        "colab": {
          "base_uri": "https://localhost:8080/",
          "height": 1000
        },
        "outputId": "5dae03f3-7006-468a-8ef5-af173414e894"
      },
      "source": [
        "model.fit(X_train, y_train, batch_size=128, epochs=200, verbose=1, validation_data=(X_test, y_test))"
      ],
      "execution_count": 10,
      "outputs": [
        {
          "output_type": "stream",
          "text": [
            "WARNING:tensorflow:From /usr/local/lib/python3.6/dist-packages/tensorflow_core/python/ops/math_grad.py:1424: where (from tensorflow.python.ops.array_ops) is deprecated and will be removed in a future version.\n",
            "Instructions for updating:\n",
            "Use tf.where in 2.0, which has the same broadcast rule as np.where\n",
            "WARNING:tensorflow:From /usr/local/lib/python3.6/dist-packages/keras/backend/tensorflow_backend.py:1033: The name tf.assign_add is deprecated. Please use tf.compat.v1.assign_add instead.\n",
            "\n",
            "WARNING:tensorflow:From /usr/local/lib/python3.6/dist-packages/keras/backend/tensorflow_backend.py:1020: The name tf.assign is deprecated. Please use tf.compat.v1.assign instead.\n",
            "\n",
            "WARNING:tensorflow:From /usr/local/lib/python3.6/dist-packages/keras/backend/tensorflow_backend.py:3005: The name tf.Session is deprecated. Please use tf.compat.v1.Session instead.\n",
            "\n",
            "Train on 60000 samples, validate on 10000 samples\n",
            "Epoch 1/200\n",
            "WARNING:tensorflow:From /usr/local/lib/python3.6/dist-packages/keras/backend/tensorflow_backend.py:190: The name tf.get_default_session is deprecated. Please use tf.compat.v1.get_default_session instead.\n",
            "\n",
            "WARNING:tensorflow:From /usr/local/lib/python3.6/dist-packages/keras/backend/tensorflow_backend.py:197: The name tf.ConfigProto is deprecated. Please use tf.compat.v1.ConfigProto instead.\n",
            "\n",
            "WARNING:tensorflow:From /usr/local/lib/python3.6/dist-packages/keras/backend/tensorflow_backend.py:207: The name tf.global_variables is deprecated. Please use tf.compat.v1.global_variables instead.\n",
            "\n",
            "WARNING:tensorflow:From /usr/local/lib/python3.6/dist-packages/keras/backend/tensorflow_backend.py:216: The name tf.is_variable_initialized is deprecated. Please use tf.compat.v1.is_variable_initialized instead.\n",
            "\n",
            "WARNING:tensorflow:From /usr/local/lib/python3.6/dist-packages/keras/backend/tensorflow_backend.py:223: The name tf.variables_initializer is deprecated. Please use tf.compat.v1.variables_initializer instead.\n",
            "\n",
            "60000/60000 [==============================] - 2s 37us/step - loss: 0.4801 - acc: 0.8634 - val_loss: 0.2503 - val_acc: 0.9263\n",
            "Epoch 2/200\n",
            "60000/60000 [==============================] - 1s 24us/step - loss: 0.2266 - acc: 0.9344 - val_loss: 0.2014 - val_acc: 0.9401\n",
            "Epoch 3/200\n",
            "60000/60000 [==============================] - 1s 24us/step - loss: 0.1744 - acc: 0.9489 - val_loss: 0.1509 - val_acc: 0.9550\n",
            "Epoch 4/200\n",
            "60000/60000 [==============================] - 1s 24us/step - loss: 0.1441 - acc: 0.9575 - val_loss: 0.1341 - val_acc: 0.9601\n",
            "Epoch 5/200\n",
            "60000/60000 [==============================] - 1s 25us/step - loss: 0.1229 - acc: 0.9643 - val_loss: 0.1329 - val_acc: 0.9588\n",
            "Epoch 6/200\n",
            "60000/60000 [==============================] - 1s 24us/step - loss: 0.1075 - acc: 0.9685 - val_loss: 0.1093 - val_acc: 0.9667\n",
            "Epoch 7/200\n",
            "60000/60000 [==============================] - 1s 24us/step - loss: 0.0955 - acc: 0.9712 - val_loss: 0.1009 - val_acc: 0.9699\n",
            "Epoch 8/200\n",
            "60000/60000 [==============================] - 1s 23us/step - loss: 0.0853 - acc: 0.9751 - val_loss: 0.0944 - val_acc: 0.9718\n",
            "Epoch 9/200\n",
            "60000/60000 [==============================] - 1s 23us/step - loss: 0.0787 - acc: 0.9765 - val_loss: 0.0915 - val_acc: 0.9727\n",
            "Epoch 10/200\n",
            "60000/60000 [==============================] - 1s 24us/step - loss: 0.0708 - acc: 0.9788 - val_loss: 0.0967 - val_acc: 0.9712\n",
            "Epoch 11/200\n",
            "60000/60000 [==============================] - 1s 23us/step - loss: 0.0656 - acc: 0.9803 - val_loss: 0.0883 - val_acc: 0.9739\n",
            "Epoch 12/200\n",
            "60000/60000 [==============================] - 1s 23us/step - loss: 0.0598 - acc: 0.9820 - val_loss: 0.0838 - val_acc: 0.9753\n",
            "Epoch 13/200\n",
            "60000/60000 [==============================] - 1s 24us/step - loss: 0.0546 - acc: 0.9839 - val_loss: 0.0915 - val_acc: 0.9724\n",
            "Epoch 14/200\n",
            "60000/60000 [==============================] - 1s 23us/step - loss: 0.0511 - acc: 0.9850 - val_loss: 0.0864 - val_acc: 0.9739\n",
            "Epoch 15/200\n",
            "60000/60000 [==============================] - 1s 24us/step - loss: 0.0477 - acc: 0.9861 - val_loss: 0.0870 - val_acc: 0.9727\n",
            "Epoch 16/200\n",
            "60000/60000 [==============================] - 1s 24us/step - loss: 0.0443 - acc: 0.9867 - val_loss: 0.0924 - val_acc: 0.9722\n",
            "Epoch 17/200\n",
            "60000/60000 [==============================] - 1s 24us/step - loss: 0.0419 - acc: 0.9876 - val_loss: 0.0861 - val_acc: 0.9745\n",
            "Epoch 18/200\n",
            "60000/60000 [==============================] - 1s 24us/step - loss: 0.0387 - acc: 0.9884 - val_loss: 0.0849 - val_acc: 0.9750\n",
            "Epoch 19/200\n",
            "60000/60000 [==============================] - 1s 23us/step - loss: 0.0356 - acc: 0.9895 - val_loss: 0.0811 - val_acc: 0.9751\n",
            "Epoch 20/200\n",
            "60000/60000 [==============================] - 1s 24us/step - loss: 0.0333 - acc: 0.9902 - val_loss: 0.0798 - val_acc: 0.9768\n",
            "Epoch 21/200\n",
            "60000/60000 [==============================] - 1s 23us/step - loss: 0.0320 - acc: 0.9909 - val_loss: 0.0808 - val_acc: 0.9759\n",
            "Epoch 22/200\n",
            "60000/60000 [==============================] - 1s 24us/step - loss: 0.0293 - acc: 0.9917 - val_loss: 0.0777 - val_acc: 0.9781\n",
            "Epoch 23/200\n",
            "60000/60000 [==============================] - 1s 23us/step - loss: 0.0277 - acc: 0.9921 - val_loss: 0.0792 - val_acc: 0.9777\n",
            "Epoch 24/200\n",
            "60000/60000 [==============================] - 1s 24us/step - loss: 0.0261 - acc: 0.9929 - val_loss: 0.0786 - val_acc: 0.9774\n",
            "Epoch 25/200\n",
            "60000/60000 [==============================] - 1s 24us/step - loss: 0.0243 - acc: 0.9929 - val_loss: 0.0852 - val_acc: 0.9757\n",
            "Epoch 26/200\n",
            "60000/60000 [==============================] - 1s 24us/step - loss: 0.0235 - acc: 0.9934 - val_loss: 0.0837 - val_acc: 0.9767\n",
            "Epoch 27/200\n",
            "60000/60000 [==============================] - 1s 24us/step - loss: 0.0208 - acc: 0.9945 - val_loss: 0.0826 - val_acc: 0.9760\n",
            "Epoch 28/200\n",
            "60000/60000 [==============================] - 1s 23us/step - loss: 0.0195 - acc: 0.9947 - val_loss: 0.0809 - val_acc: 0.9768\n",
            "Epoch 29/200\n",
            "60000/60000 [==============================] - 1s 23us/step - loss: 0.0180 - acc: 0.9954 - val_loss: 0.0819 - val_acc: 0.9784\n",
            "Epoch 30/200\n",
            "60000/60000 [==============================] - 1s 24us/step - loss: 0.0165 - acc: 0.9958 - val_loss: 0.0840 - val_acc: 0.9782\n",
            "Epoch 31/200\n",
            "60000/60000 [==============================] - 1s 24us/step - loss: 0.0161 - acc: 0.9960 - val_loss: 0.0821 - val_acc: 0.9770\n",
            "Epoch 32/200\n",
            "60000/60000 [==============================] - 1s 24us/step - loss: 0.0145 - acc: 0.9964 - val_loss: 0.0827 - val_acc: 0.9789\n",
            "Epoch 33/200\n",
            "60000/60000 [==============================] - 1s 25us/step - loss: 0.0130 - acc: 0.9971 - val_loss: 0.0854 - val_acc: 0.9767\n",
            "Epoch 34/200\n",
            "60000/60000 [==============================] - 1s 24us/step - loss: 0.0126 - acc: 0.9971 - val_loss: 0.0833 - val_acc: 0.9779\n",
            "Epoch 35/200\n",
            "60000/60000 [==============================] - 1s 25us/step - loss: 0.0117 - acc: 0.9977 - val_loss: 0.0926 - val_acc: 0.9754\n",
            "Epoch 36/200\n",
            "60000/60000 [==============================] - 1s 24us/step - loss: 0.0110 - acc: 0.9977 - val_loss: 0.0877 - val_acc: 0.9777\n",
            "Epoch 37/200\n",
            "60000/60000 [==============================] - 1s 24us/step - loss: 0.0104 - acc: 0.9978 - val_loss: 0.0892 - val_acc: 0.9777\n",
            "Epoch 38/200\n",
            "60000/60000 [==============================] - 1s 24us/step - loss: 0.0092 - acc: 0.9983 - val_loss: 0.0895 - val_acc: 0.9761\n",
            "Epoch 39/200\n",
            "60000/60000 [==============================] - 1s 24us/step - loss: 0.0085 - acc: 0.9987 - val_loss: 0.0957 - val_acc: 0.9749\n",
            "Epoch 40/200\n",
            "60000/60000 [==============================] - 1s 24us/step - loss: 0.0079 - acc: 0.9988 - val_loss: 0.0906 - val_acc: 0.9779\n",
            "Epoch 41/200\n",
            "60000/60000 [==============================] - 1s 24us/step - loss: 0.0080 - acc: 0.9987 - val_loss: 0.0885 - val_acc: 0.9781\n",
            "Epoch 42/200\n",
            "60000/60000 [==============================] - 1s 24us/step - loss: 0.0070 - acc: 0.9989 - val_loss: 0.0912 - val_acc: 0.9784\n",
            "Epoch 43/200\n",
            "60000/60000 [==============================] - 1s 23us/step - loss: 0.0063 - acc: 0.9992 - val_loss: 0.0944 - val_acc: 0.9770\n",
            "Epoch 44/200\n",
            "60000/60000 [==============================] - 1s 23us/step - loss: 0.0057 - acc: 0.9994 - val_loss: 0.0910 - val_acc: 0.9778\n",
            "Epoch 45/200\n",
            "60000/60000 [==============================] - 1s 24us/step - loss: 0.0055 - acc: 0.9993 - val_loss: 0.0952 - val_acc: 0.9774\n",
            "Epoch 46/200\n",
            "60000/60000 [==============================] - 1s 24us/step - loss: 0.0050 - acc: 0.9996 - val_loss: 0.0935 - val_acc: 0.9786\n",
            "Epoch 47/200\n",
            "60000/60000 [==============================] - 1s 23us/step - loss: 0.0048 - acc: 0.9994 - val_loss: 0.0929 - val_acc: 0.9777\n",
            "Epoch 48/200\n",
            "60000/60000 [==============================] - 1s 24us/step - loss: 0.0043 - acc: 0.9997 - val_loss: 0.0956 - val_acc: 0.9774\n",
            "Epoch 49/200\n",
            "60000/60000 [==============================] - 1s 24us/step - loss: 0.0041 - acc: 0.9997 - val_loss: 0.0942 - val_acc: 0.9780\n",
            "Epoch 50/200\n",
            "60000/60000 [==============================] - 1s 23us/step - loss: 0.0040 - acc: 0.9998 - val_loss: 0.0952 - val_acc: 0.9780\n",
            "Epoch 51/200\n",
            "60000/60000 [==============================] - 1s 24us/step - loss: 0.0036 - acc: 0.9998 - val_loss: 0.0961 - val_acc: 0.9777\n",
            "Epoch 52/200\n",
            "60000/60000 [==============================] - 1s 24us/step - loss: 0.0035 - acc: 0.9999 - val_loss: 0.0976 - val_acc: 0.9786\n",
            "Epoch 53/200\n",
            "60000/60000 [==============================] - 1s 23us/step - loss: 0.0033 - acc: 0.9999 - val_loss: 0.0964 - val_acc: 0.9780\n",
            "Epoch 54/200\n",
            "60000/60000 [==============================] - 1s 24us/step - loss: 0.0031 - acc: 0.9998 - val_loss: 0.0985 - val_acc: 0.9778\n",
            "Epoch 55/200\n",
            "60000/60000 [==============================] - 1s 23us/step - loss: 0.0030 - acc: 0.9999 - val_loss: 0.0990 - val_acc: 0.9789\n",
            "Epoch 56/200\n",
            "60000/60000 [==============================] - 1s 24us/step - loss: 0.0029 - acc: 0.9998 - val_loss: 0.0983 - val_acc: 0.9791\n",
            "Epoch 57/200\n",
            "60000/60000 [==============================] - 1s 23us/step - loss: 0.0026 - acc: 0.9999 - val_loss: 0.0988 - val_acc: 0.9780\n",
            "Epoch 58/200\n",
            "60000/60000 [==============================] - 1s 23us/step - loss: 0.0027 - acc: 0.9999 - val_loss: 0.0985 - val_acc: 0.9784\n",
            "Epoch 59/200\n",
            "60000/60000 [==============================] - 1s 23us/step - loss: 0.0024 - acc: 1.0000 - val_loss: 0.1006 - val_acc: 0.9782\n",
            "Epoch 60/200\n",
            "60000/60000 [==============================] - 1s 24us/step - loss: 0.0023 - acc: 1.0000 - val_loss: 0.1010 - val_acc: 0.9791\n",
            "Epoch 61/200\n",
            "60000/60000 [==============================] - 1s 24us/step - loss: 0.0022 - acc: 1.0000 - val_loss: 0.1013 - val_acc: 0.9781\n",
            "Epoch 62/200\n",
            "60000/60000 [==============================] - 1s 23us/step - loss: 0.0022 - acc: 1.0000 - val_loss: 0.1039 - val_acc: 0.9777\n",
            "Epoch 63/200\n",
            "60000/60000 [==============================] - 1s 24us/step - loss: 0.0021 - acc: 1.0000 - val_loss: 0.1024 - val_acc: 0.9785\n",
            "Epoch 64/200\n",
            "60000/60000 [==============================] - 1s 24us/step - loss: 0.0020 - acc: 1.0000 - val_loss: 0.1027 - val_acc: 0.9788\n",
            "Epoch 65/200\n",
            "60000/60000 [==============================] - 1s 23us/step - loss: 0.0019 - acc: 1.0000 - val_loss: 0.1031 - val_acc: 0.9786\n",
            "Epoch 66/200\n",
            "60000/60000 [==============================] - 1s 24us/step - loss: 0.0019 - acc: 1.0000 - val_loss: 0.1038 - val_acc: 0.9780\n",
            "Epoch 67/200\n",
            "60000/60000 [==============================] - 1s 23us/step - loss: 0.0018 - acc: 1.0000 - val_loss: 0.1032 - val_acc: 0.9780\n",
            "Epoch 68/200\n",
            "60000/60000 [==============================] - 1s 24us/step - loss: 0.0018 - acc: 1.0000 - val_loss: 0.1038 - val_acc: 0.9788\n",
            "Epoch 69/200\n",
            "60000/60000 [==============================] - 1s 24us/step - loss: 0.0017 - acc: 1.0000 - val_loss: 0.1049 - val_acc: 0.9783\n",
            "Epoch 70/200\n",
            "60000/60000 [==============================] - 1s 23us/step - loss: 0.0017 - acc: 1.0000 - val_loss: 0.1050 - val_acc: 0.9782\n",
            "Epoch 71/200\n",
            "60000/60000 [==============================] - 1s 24us/step - loss: 0.0016 - acc: 1.0000 - val_loss: 0.1049 - val_acc: 0.9784\n",
            "Epoch 72/200\n",
            "60000/60000 [==============================] - 1s 23us/step - loss: 0.0016 - acc: 1.0000 - val_loss: 0.1056 - val_acc: 0.9784\n",
            "Epoch 73/200\n",
            "60000/60000 [==============================] - 1s 23us/step - loss: 0.0016 - acc: 1.0000 - val_loss: 0.1053 - val_acc: 0.9784\n",
            "Epoch 74/200\n",
            "60000/60000 [==============================] - 1s 23us/step - loss: 0.0015 - acc: 1.0000 - val_loss: 0.1065 - val_acc: 0.9789\n",
            "Epoch 75/200\n",
            "60000/60000 [==============================] - 1s 23us/step - loss: 0.0015 - acc: 1.0000 - val_loss: 0.1058 - val_acc: 0.9785\n",
            "Epoch 76/200\n",
            "60000/60000 [==============================] - 1s 24us/step - loss: 0.0014 - acc: 1.0000 - val_loss: 0.1068 - val_acc: 0.9780\n",
            "Epoch 77/200\n",
            "60000/60000 [==============================] - 1s 23us/step - loss: 0.0014 - acc: 1.0000 - val_loss: 0.1073 - val_acc: 0.9782\n",
            "Epoch 78/200\n",
            "60000/60000 [==============================] - 1s 24us/step - loss: 0.0014 - acc: 1.0000 - val_loss: 0.1072 - val_acc: 0.9790\n",
            "Epoch 79/200\n",
            "60000/60000 [==============================] - 1s 23us/step - loss: 0.0013 - acc: 1.0000 - val_loss: 0.1080 - val_acc: 0.9787\n",
            "Epoch 80/200\n",
            "60000/60000 [==============================] - 1s 24us/step - loss: 0.0013 - acc: 1.0000 - val_loss: 0.1072 - val_acc: 0.9788\n",
            "Epoch 81/200\n",
            "60000/60000 [==============================] - 1s 23us/step - loss: 0.0013 - acc: 1.0000 - val_loss: 0.1103 - val_acc: 0.9782\n",
            "Epoch 82/200\n",
            "60000/60000 [==============================] - 1s 23us/step - loss: 0.0013 - acc: 1.0000 - val_loss: 0.1089 - val_acc: 0.9789\n",
            "Epoch 83/200\n",
            "60000/60000 [==============================] - 1s 23us/step - loss: 0.0012 - acc: 1.0000 - val_loss: 0.1083 - val_acc: 0.9789\n",
            "Epoch 84/200\n",
            "60000/60000 [==============================] - 1s 24us/step - loss: 0.0012 - acc: 1.0000 - val_loss: 0.1097 - val_acc: 0.9786\n",
            "Epoch 85/200\n",
            "60000/60000 [==============================] - 1s 24us/step - loss: 0.0012 - acc: 1.0000 - val_loss: 0.1092 - val_acc: 0.9785\n",
            "Epoch 86/200\n",
            "60000/60000 [==============================] - 1s 24us/step - loss: 0.0012 - acc: 1.0000 - val_loss: 0.1112 - val_acc: 0.9785\n",
            "Epoch 87/200\n",
            "60000/60000 [==============================] - 1s 23us/step - loss: 0.0011 - acc: 1.0000 - val_loss: 0.1096 - val_acc: 0.9784\n",
            "Epoch 88/200\n",
            "60000/60000 [==============================] - 1s 23us/step - loss: 0.0012 - acc: 1.0000 - val_loss: 0.1102 - val_acc: 0.9783\n",
            "Epoch 89/200\n",
            "60000/60000 [==============================] - 1s 23us/step - loss: 0.0011 - acc: 1.0000 - val_loss: 0.1107 - val_acc: 0.9784\n",
            "Epoch 90/200\n",
            "60000/60000 [==============================] - 1s 24us/step - loss: 0.0011 - acc: 1.0000 - val_loss: 0.1109 - val_acc: 0.9787\n",
            "Epoch 91/200\n",
            "60000/60000 [==============================] - 1s 24us/step - loss: 0.0011 - acc: 1.0000 - val_loss: 0.1116 - val_acc: 0.9788\n",
            "Epoch 92/200\n",
            "60000/60000 [==============================] - 1s 24us/step - loss: 0.0011 - acc: 1.0000 - val_loss: 0.1115 - val_acc: 0.9782\n",
            "Epoch 93/200\n",
            "60000/60000 [==============================] - 1s 23us/step - loss: 0.0011 - acc: 1.0000 - val_loss: 0.1121 - val_acc: 0.9782\n",
            "Epoch 94/200\n",
            "60000/60000 [==============================] - 1s 23us/step - loss: 0.0010 - acc: 1.0000 - val_loss: 0.1122 - val_acc: 0.9785\n",
            "Epoch 95/200\n",
            "60000/60000 [==============================] - 1s 23us/step - loss: 0.0010 - acc: 1.0000 - val_loss: 0.1124 - val_acc: 0.9790\n",
            "Epoch 96/200\n",
            "60000/60000 [==============================] - 1s 24us/step - loss: 0.0010 - acc: 1.0000 - val_loss: 0.1123 - val_acc: 0.9789\n",
            "Epoch 97/200\n",
            "60000/60000 [==============================] - 1s 24us/step - loss: 9.9408e-04 - acc: 1.0000 - val_loss: 0.1121 - val_acc: 0.9783\n",
            "Epoch 98/200\n",
            "60000/60000 [==============================] - 1s 24us/step - loss: 9.8162e-04 - acc: 1.0000 - val_loss: 0.1128 - val_acc: 0.9784\n",
            "Epoch 99/200\n",
            "60000/60000 [==============================] - 1s 24us/step - loss: 9.6466e-04 - acc: 1.0000 - val_loss: 0.1128 - val_acc: 0.9787\n",
            "Epoch 100/200\n",
            "60000/60000 [==============================] - 1s 24us/step - loss: 9.5178e-04 - acc: 1.0000 - val_loss: 0.1127 - val_acc: 0.9786\n",
            "Epoch 101/200\n",
            "60000/60000 [==============================] - 1s 23us/step - loss: 9.4514e-04 - acc: 1.0000 - val_loss: 0.1138 - val_acc: 0.9786\n",
            "Epoch 102/200\n",
            "60000/60000 [==============================] - 1s 24us/step - loss: 9.2993e-04 - acc: 1.0000 - val_loss: 0.1140 - val_acc: 0.9788\n",
            "Epoch 103/200\n",
            "60000/60000 [==============================] - 1s 24us/step - loss: 9.2459e-04 - acc: 1.0000 - val_loss: 0.1140 - val_acc: 0.9786\n",
            "Epoch 104/200\n",
            "60000/60000 [==============================] - 1s 24us/step - loss: 9.0800e-04 - acc: 1.0000 - val_loss: 0.1140 - val_acc: 0.9785\n",
            "Epoch 105/200\n",
            "60000/60000 [==============================] - 1s 24us/step - loss: 8.9379e-04 - acc: 1.0000 - val_loss: 0.1143 - val_acc: 0.9785\n",
            "Epoch 106/200\n",
            "60000/60000 [==============================] - 1s 24us/step - loss: 8.8995e-04 - acc: 1.0000 - val_loss: 0.1144 - val_acc: 0.9789\n",
            "Epoch 107/200\n",
            "60000/60000 [==============================] - 1s 25us/step - loss: 8.7833e-04 - acc: 1.0000 - val_loss: 0.1146 - val_acc: 0.9786\n",
            "Epoch 108/200\n",
            "60000/60000 [==============================] - 1s 24us/step - loss: 8.6668e-04 - acc: 1.0000 - val_loss: 0.1145 - val_acc: 0.9785\n",
            "Epoch 109/200\n",
            "60000/60000 [==============================] - 1s 25us/step - loss: 8.5856e-04 - acc: 1.0000 - val_loss: 0.1150 - val_acc: 0.9788\n",
            "Epoch 110/200\n",
            "60000/60000 [==============================] - 2s 26us/step - loss: 8.4897e-04 - acc: 1.0000 - val_loss: 0.1154 - val_acc: 0.9784\n",
            "Epoch 111/200\n",
            "60000/60000 [==============================] - 2s 25us/step - loss: 8.3998e-04 - acc: 1.0000 - val_loss: 0.1153 - val_acc: 0.9782\n",
            "Epoch 112/200\n",
            "60000/60000 [==============================] - 2s 25us/step - loss: 8.3144e-04 - acc: 1.0000 - val_loss: 0.1162 - val_acc: 0.9783\n",
            "Epoch 113/200\n",
            "60000/60000 [==============================] - 2s 26us/step - loss: 8.2761e-04 - acc: 1.0000 - val_loss: 0.1161 - val_acc: 0.9785\n",
            "Epoch 114/200\n",
            "60000/60000 [==============================] - 2s 25us/step - loss: 8.1539e-04 - acc: 1.0000 - val_loss: 0.1165 - val_acc: 0.9783\n",
            "Epoch 115/200\n",
            "60000/60000 [==============================] - 2s 26us/step - loss: 8.0460e-04 - acc: 1.0000 - val_loss: 0.1164 - val_acc: 0.9785\n",
            "Epoch 116/200\n",
            "60000/60000 [==============================] - 1s 24us/step - loss: 7.9869e-04 - acc: 1.0000 - val_loss: 0.1164 - val_acc: 0.9782\n",
            "Epoch 117/200\n",
            "60000/60000 [==============================] - 1s 24us/step - loss: 7.9175e-04 - acc: 1.0000 - val_loss: 0.1170 - val_acc: 0.9790\n",
            "Epoch 118/200\n",
            "60000/60000 [==============================] - 1s 25us/step - loss: 7.7925e-04 - acc: 1.0000 - val_loss: 0.1168 - val_acc: 0.9788\n",
            "Epoch 119/200\n",
            "60000/60000 [==============================] - 1s 24us/step - loss: 7.7546e-04 - acc: 1.0000 - val_loss: 0.1170 - val_acc: 0.9783\n",
            "Epoch 120/200\n",
            "60000/60000 [==============================] - 1s 24us/step - loss: 7.6862e-04 - acc: 1.0000 - val_loss: 0.1171 - val_acc: 0.9784\n",
            "Epoch 121/200\n",
            "60000/60000 [==============================] - 1s 24us/step - loss: 7.6252e-04 - acc: 1.0000 - val_loss: 0.1173 - val_acc: 0.9789\n",
            "Epoch 122/200\n",
            "60000/60000 [==============================] - 1s 23us/step - loss: 7.5696e-04 - acc: 1.0000 - val_loss: 0.1178 - val_acc: 0.9786\n",
            "Epoch 123/200\n",
            "60000/60000 [==============================] - 1s 24us/step - loss: 7.4961e-04 - acc: 1.0000 - val_loss: 0.1178 - val_acc: 0.9786\n",
            "Epoch 124/200\n",
            "60000/60000 [==============================] - 1s 24us/step - loss: 7.4325e-04 - acc: 1.0000 - val_loss: 0.1179 - val_acc: 0.9785\n",
            "Epoch 125/200\n",
            "60000/60000 [==============================] - 1s 24us/step - loss: 7.3688e-04 - acc: 1.0000 - val_loss: 0.1183 - val_acc: 0.9783\n",
            "Epoch 126/200\n",
            "60000/60000 [==============================] - 1s 24us/step - loss: 7.2897e-04 - acc: 1.0000 - val_loss: 0.1183 - val_acc: 0.9788\n",
            "Epoch 127/200\n",
            "60000/60000 [==============================] - 1s 24us/step - loss: 7.2255e-04 - acc: 1.0000 - val_loss: 0.1182 - val_acc: 0.9789\n",
            "Epoch 128/200\n",
            "60000/60000 [==============================] - 1s 24us/step - loss: 7.1902e-04 - acc: 1.0000 - val_loss: 0.1186 - val_acc: 0.9784\n",
            "Epoch 129/200\n",
            "60000/60000 [==============================] - 1s 24us/step - loss: 7.1235e-04 - acc: 1.0000 - val_loss: 0.1186 - val_acc: 0.9782\n",
            "Epoch 130/200\n",
            "60000/60000 [==============================] - 1s 23us/step - loss: 7.0570e-04 - acc: 1.0000 - val_loss: 0.1189 - val_acc: 0.9786\n",
            "Epoch 131/200\n",
            "60000/60000 [==============================] - 1s 23us/step - loss: 7.0105e-04 - acc: 1.0000 - val_loss: 0.1190 - val_acc: 0.9783\n",
            "Epoch 132/200\n",
            "60000/60000 [==============================] - 1s 24us/step - loss: 6.9663e-04 - acc: 1.0000 - val_loss: 0.1191 - val_acc: 0.9788\n",
            "Epoch 133/200\n",
            "60000/60000 [==============================] - 1s 24us/step - loss: 6.9244e-04 - acc: 1.0000 - val_loss: 0.1194 - val_acc: 0.9787\n",
            "Epoch 134/200\n",
            "60000/60000 [==============================] - 1s 24us/step - loss: 6.8625e-04 - acc: 1.0000 - val_loss: 0.1195 - val_acc: 0.9788\n",
            "Epoch 135/200\n",
            "60000/60000 [==============================] - 1s 23us/step - loss: 6.7925e-04 - acc: 1.0000 - val_loss: 0.1195 - val_acc: 0.9785\n",
            "Epoch 136/200\n",
            "60000/60000 [==============================] - 1s 24us/step - loss: 6.7629e-04 - acc: 1.0000 - val_loss: 0.1203 - val_acc: 0.9781\n",
            "Epoch 137/200\n",
            "60000/60000 [==============================] - 1s 23us/step - loss: 6.6999e-04 - acc: 1.0000 - val_loss: 0.1199 - val_acc: 0.9789\n",
            "Epoch 138/200\n",
            "60000/60000 [==============================] - 1s 24us/step - loss: 6.6576e-04 - acc: 1.0000 - val_loss: 0.1206 - val_acc: 0.9786\n",
            "Epoch 139/200\n",
            "60000/60000 [==============================] - 1s 23us/step - loss: 6.6228e-04 - acc: 1.0000 - val_loss: 0.1206 - val_acc: 0.9785\n",
            "Epoch 140/200\n",
            "60000/60000 [==============================] - 1s 24us/step - loss: 6.5721e-04 - acc: 1.0000 - val_loss: 0.1204 - val_acc: 0.9786\n",
            "Epoch 141/200\n",
            "60000/60000 [==============================] - 1s 24us/step - loss: 6.5442e-04 - acc: 1.0000 - val_loss: 0.1212 - val_acc: 0.9788\n",
            "Epoch 142/200\n",
            "60000/60000 [==============================] - 1s 24us/step - loss: 6.4977e-04 - acc: 1.0000 - val_loss: 0.1211 - val_acc: 0.9791\n",
            "Epoch 143/200\n",
            "60000/60000 [==============================] - 1s 24us/step - loss: 6.4421e-04 - acc: 1.0000 - val_loss: 0.1213 - val_acc: 0.9787\n",
            "Epoch 144/200\n",
            "60000/60000 [==============================] - 1s 23us/step - loss: 6.4104e-04 - acc: 1.0000 - val_loss: 0.1213 - val_acc: 0.9783\n",
            "Epoch 145/200\n",
            "60000/60000 [==============================] - 1s 24us/step - loss: 6.3685e-04 - acc: 1.0000 - val_loss: 0.1215 - val_acc: 0.9787\n",
            "Epoch 146/200\n",
            "60000/60000 [==============================] - 1s 23us/step - loss: 6.3246e-04 - acc: 1.0000 - val_loss: 0.1219 - val_acc: 0.9788\n",
            "Epoch 147/200\n",
            "60000/60000 [==============================] - 1s 23us/step - loss: 6.2875e-04 - acc: 1.0000 - val_loss: 0.1212 - val_acc: 0.9785\n",
            "Epoch 148/200\n",
            "60000/60000 [==============================] - 1s 23us/step - loss: 6.2489e-04 - acc: 1.0000 - val_loss: 0.1212 - val_acc: 0.9785\n",
            "Epoch 149/200\n",
            "60000/60000 [==============================] - 1s 23us/step - loss: 6.2102e-04 - acc: 1.0000 - val_loss: 0.1223 - val_acc: 0.9788\n",
            "Epoch 150/200\n",
            "60000/60000 [==============================] - 1s 24us/step - loss: 6.1652e-04 - acc: 1.0000 - val_loss: 0.1220 - val_acc: 0.9788\n",
            "Epoch 151/200\n",
            "60000/60000 [==============================] - 1s 23us/step - loss: 6.1423e-04 - acc: 1.0000 - val_loss: 0.1223 - val_acc: 0.9787\n",
            "Epoch 152/200\n",
            "60000/60000 [==============================] - 1s 23us/step - loss: 6.0982e-04 - acc: 1.0000 - val_loss: 0.1221 - val_acc: 0.9782\n",
            "Epoch 153/200\n",
            "60000/60000 [==============================] - 1s 24us/step - loss: 6.0692e-04 - acc: 1.0000 - val_loss: 0.1227 - val_acc: 0.9789\n",
            "Epoch 154/200\n",
            "60000/60000 [==============================] - 1s 23us/step - loss: 6.0262e-04 - acc: 1.0000 - val_loss: 0.1228 - val_acc: 0.9787\n",
            "Epoch 155/200\n",
            "60000/60000 [==============================] - 1s 23us/step - loss: 5.9992e-04 - acc: 1.0000 - val_loss: 0.1227 - val_acc: 0.9789\n",
            "Epoch 156/200\n",
            "60000/60000 [==============================] - 1s 23us/step - loss: 5.9704e-04 - acc: 1.0000 - val_loss: 0.1229 - val_acc: 0.9784\n",
            "Epoch 157/200\n",
            "60000/60000 [==============================] - 1s 23us/step - loss: 5.9454e-04 - acc: 1.0000 - val_loss: 0.1228 - val_acc: 0.9784\n",
            "Epoch 158/200\n",
            "60000/60000 [==============================] - 1s 24us/step - loss: 5.8986e-04 - acc: 1.0000 - val_loss: 0.1231 - val_acc: 0.9789\n",
            "Epoch 159/200\n",
            "60000/60000 [==============================] - 1s 24us/step - loss: 5.8627e-04 - acc: 1.0000 - val_loss: 0.1234 - val_acc: 0.9784\n",
            "Epoch 160/200\n",
            "60000/60000 [==============================] - 1s 24us/step - loss: 5.8289e-04 - acc: 1.0000 - val_loss: 0.1229 - val_acc: 0.9785\n",
            "Epoch 161/200\n",
            "60000/60000 [==============================] - 1s 24us/step - loss: 5.8035e-04 - acc: 1.0000 - val_loss: 0.1235 - val_acc: 0.9783\n",
            "Epoch 162/200\n",
            "60000/60000 [==============================] - 1s 24us/step - loss: 5.7755e-04 - acc: 1.0000 - val_loss: 0.1236 - val_acc: 0.9787\n",
            "Epoch 163/200\n",
            "60000/60000 [==============================] - 1s 24us/step - loss: 5.7528e-04 - acc: 1.0000 - val_loss: 0.1239 - val_acc: 0.9789\n",
            "Epoch 164/200\n",
            "60000/60000 [==============================] - 1s 24us/step - loss: 5.7267e-04 - acc: 1.0000 - val_loss: 0.1239 - val_acc: 0.9791\n",
            "Epoch 165/200\n",
            "60000/60000 [==============================] - 1s 24us/step - loss: 5.6971e-04 - acc: 1.0000 - val_loss: 0.1241 - val_acc: 0.9789\n",
            "Epoch 166/200\n",
            "60000/60000 [==============================] - 1s 24us/step - loss: 5.6713e-04 - acc: 1.0000 - val_loss: 0.1240 - val_acc: 0.9788\n",
            "Epoch 167/200\n",
            "60000/60000 [==============================] - 1s 23us/step - loss: 5.6376e-04 - acc: 1.0000 - val_loss: 0.1244 - val_acc: 0.9788\n",
            "Epoch 168/200\n",
            "60000/60000 [==============================] - 1s 24us/step - loss: 5.6131e-04 - acc: 1.0000 - val_loss: 0.1242 - val_acc: 0.9787\n",
            "Epoch 169/200\n",
            "60000/60000 [==============================] - 1s 24us/step - loss: 5.5872e-04 - acc: 1.0000 - val_loss: 0.1246 - val_acc: 0.9788\n",
            "Epoch 170/200\n",
            "60000/60000 [==============================] - 1s 24us/step - loss: 5.5683e-04 - acc: 1.0000 - val_loss: 0.1246 - val_acc: 0.9786\n",
            "Epoch 171/200\n",
            "60000/60000 [==============================] - 1s 24us/step - loss: 5.5325e-04 - acc: 1.0000 - val_loss: 0.1246 - val_acc: 0.9786\n",
            "Epoch 172/200\n",
            "60000/60000 [==============================] - 1s 24us/step - loss: 5.5037e-04 - acc: 1.0000 - val_loss: 0.1248 - val_acc: 0.9788\n",
            "Epoch 173/200\n",
            "60000/60000 [==============================] - 1s 24us/step - loss: 5.4945e-04 - acc: 1.0000 - val_loss: 0.1251 - val_acc: 0.9786\n",
            "Epoch 174/200\n",
            "60000/60000 [==============================] - 1s 24us/step - loss: 5.4503e-04 - acc: 1.0000 - val_loss: 0.1249 - val_acc: 0.9784\n",
            "Epoch 175/200\n",
            "60000/60000 [==============================] - 1s 24us/step - loss: 5.4409e-04 - acc: 1.0000 - val_loss: 0.1249 - val_acc: 0.9786\n",
            "Epoch 176/200\n",
            "60000/60000 [==============================] - 1s 24us/step - loss: 5.4124e-04 - acc: 1.0000 - val_loss: 0.1252 - val_acc: 0.9789\n",
            "Epoch 177/200\n",
            "60000/60000 [==============================] - 1s 24us/step - loss: 5.3857e-04 - acc: 1.0000 - val_loss: 0.1252 - val_acc: 0.9789\n",
            "Epoch 178/200\n",
            "60000/60000 [==============================] - 1s 24us/step - loss: 5.3626e-04 - acc: 1.0000 - val_loss: 0.1253 - val_acc: 0.9786\n",
            "Epoch 179/200\n",
            "60000/60000 [==============================] - 1s 24us/step - loss: 5.3338e-04 - acc: 1.0000 - val_loss: 0.1253 - val_acc: 0.9787\n",
            "Epoch 180/200\n",
            "60000/60000 [==============================] - 1s 24us/step - loss: 5.3236e-04 - acc: 1.0000 - val_loss: 0.1254 - val_acc: 0.9787\n",
            "Epoch 181/200\n",
            "60000/60000 [==============================] - 1s 24us/step - loss: 5.3047e-04 - acc: 1.0000 - val_loss: 0.1259 - val_acc: 0.9788\n",
            "Epoch 182/200\n",
            "60000/60000 [==============================] - 1s 24us/step - loss: 5.2733e-04 - acc: 1.0000 - val_loss: 0.1261 - val_acc: 0.9788\n",
            "Epoch 183/200\n",
            "60000/60000 [==============================] - 1s 24us/step - loss: 5.2646e-04 - acc: 1.0000 - val_loss: 0.1263 - val_acc: 0.9786\n",
            "Epoch 184/200\n",
            "60000/60000 [==============================] - 1s 23us/step - loss: 5.2361e-04 - acc: 1.0000 - val_loss: 0.1263 - val_acc: 0.9788\n",
            "Epoch 185/200\n",
            "60000/60000 [==============================] - 1s 23us/step - loss: 5.2224e-04 - acc: 1.0000 - val_loss: 0.1263 - val_acc: 0.9786\n",
            "Epoch 186/200\n",
            "60000/60000 [==============================] - 1s 23us/step - loss: 5.1926e-04 - acc: 1.0000 - val_loss: 0.1262 - val_acc: 0.9785\n",
            "Epoch 187/200\n",
            "60000/60000 [==============================] - 1s 24us/step - loss: 5.1774e-04 - acc: 1.0000 - val_loss: 0.1263 - val_acc: 0.9785\n",
            "Epoch 188/200\n",
            "60000/60000 [==============================] - 1s 24us/step - loss: 5.1577e-04 - acc: 1.0000 - val_loss: 0.1265 - val_acc: 0.9787\n",
            "Epoch 189/200\n",
            "60000/60000 [==============================] - 1s 24us/step - loss: 5.1421e-04 - acc: 1.0000 - val_loss: 0.1268 - val_acc: 0.9787\n",
            "Epoch 190/200\n",
            "60000/60000 [==============================] - 1s 23us/step - loss: 5.1161e-04 - acc: 1.0000 - val_loss: 0.1268 - val_acc: 0.9788\n",
            "Epoch 191/200\n",
            "60000/60000 [==============================] - 1s 23us/step - loss: 5.0899e-04 - acc: 1.0000 - val_loss: 0.1266 - val_acc: 0.9786\n",
            "Epoch 192/200\n",
            "60000/60000 [==============================] - 1s 23us/step - loss: 5.0858e-04 - acc: 1.0000 - val_loss: 0.1270 - val_acc: 0.9787\n",
            "Epoch 193/200\n",
            "60000/60000 [==============================] - 1s 23us/step - loss: 5.0627e-04 - acc: 1.0000 - val_loss: 0.1271 - val_acc: 0.9785\n",
            "Epoch 194/200\n",
            "60000/60000 [==============================] - 1s 24us/step - loss: 5.0489e-04 - acc: 1.0000 - val_loss: 0.1271 - val_acc: 0.9788\n",
            "Epoch 195/200\n",
            "60000/60000 [==============================] - 1s 24us/step - loss: 5.0198e-04 - acc: 1.0000 - val_loss: 0.1275 - val_acc: 0.9785\n",
            "Epoch 196/200\n",
            "60000/60000 [==============================] - 1s 24us/step - loss: 5.0055e-04 - acc: 1.0000 - val_loss: 0.1275 - val_acc: 0.9787\n",
            "Epoch 197/200\n",
            "60000/60000 [==============================] - 1s 23us/step - loss: 4.9903e-04 - acc: 1.0000 - val_loss: 0.1277 - val_acc: 0.9789\n",
            "Epoch 198/200\n",
            "60000/60000 [==============================] - 1s 23us/step - loss: 4.9729e-04 - acc: 1.0000 - val_loss: 0.1280 - val_acc: 0.9789\n",
            "Epoch 199/200\n",
            "60000/60000 [==============================] - 1s 23us/step - loss: 4.9590e-04 - acc: 1.0000 - val_loss: 0.1276 - val_acc: 0.9787\n",
            "Epoch 200/200\n",
            "60000/60000 [==============================] - 1s 23us/step - loss: 4.9335e-04 - acc: 1.0000 - val_loss: 0.1279 - val_acc: 0.9785\n"
          ],
          "name": "stdout"
        },
        {
          "output_type": "execute_result",
          "data": {
            "text/plain": [
              "<keras.callbacks.History at 0x7fe6c61a78d0>"
            ]
          },
          "metadata": {
            "tags": []
          },
          "execution_count": 10
        }
      ]
    },
    {
      "cell_type": "code",
      "metadata": {
        "id": "zwAu8nTuuei1",
        "colab_type": "code",
        "colab": {}
      },
      "source": [
        ""
      ],
      "execution_count": 0,
      "outputs": []
    }
  ]
}