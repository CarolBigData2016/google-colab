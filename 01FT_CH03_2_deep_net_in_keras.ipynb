{
  "nbformat": 4,
  "nbformat_minor": 0,
  "metadata": {
    "kernelspec": {
      "display_name": "Python 3",
      "language": "python",
      "name": "python3"
    },
    "language_info": {
      "codemirror_mode": {
        "name": "ipython",
        "version": 3
      },
      "file_extension": ".py",
      "mimetype": "text/x-python",
      "name": "python",
      "nbconvert_exporter": "python",
      "pygments_lexer": "ipython3",
      "version": "3.5.2"
    },
    "colab": {
      "name": "01FT_CH03.2_deep_net_in_keras.ipynb",
      "provenance": [],
      "collapsed_sections": [],
      "include_colab_link": true
    }
  },
  "cells": [
    {
      "cell_type": "markdown",
      "metadata": {
        "id": "view-in-github",
        "colab_type": "text"
      },
      "source": [
        "<a href=\"https://colab.research.google.com/github/CarolBigData2016/google-colab/blob/master/01FT_CH03_2_deep_net_in_keras.ipynb\" target=\"_parent\"><img src=\"https://colab.research.google.com/assets/colab-badge.svg\" alt=\"Open In Colab\"/></a>"
      ]
    },
    {
      "cell_type": "markdown",
      "metadata": {
        "id": "ABZYjz4RgUU7",
        "colab_type": "text"
      },
      "source": [
        "# Deep Neural Network in Keras"
      ]
    },
    {
      "cell_type": "markdown",
      "metadata": {
        "id": "Azbsly-QgUVA",
        "colab_type": "text"
      },
      "source": [
        "In this notebook, we improve on our [intermediate neural net](https://github.com/the-deep-learners/TensorFlow-LiveLessons/blob/master/notebooks/intermediate_net_in_keras.ipynb) from Lesson *2* by applying the theory we've covered since."
      ]
    },
    {
      "cell_type": "markdown",
      "metadata": {
        "id": "T_giYk5RgUVC",
        "colab_type": "text"
      },
      "source": [
        "#### Set seed for reproducibility"
      ]
    },
    {
      "cell_type": "code",
      "metadata": {
        "id": "AUypdoscgUVF",
        "colab_type": "code",
        "colab": {}
      },
      "source": [
        "import numpy as np\n",
        "np.random.seed(42)"
      ],
      "execution_count": 0,
      "outputs": []
    },
    {
      "cell_type": "markdown",
      "metadata": {
        "id": "kEpmhV1igUVK",
        "colab_type": "text"
      },
      "source": [
        "#### Load dependencies"
      ]
    },
    {
      "cell_type": "code",
      "metadata": {
        "id": "qCaRDBWHgUVL",
        "colab_type": "code",
        "colab": {}
      },
      "source": [
        "import keras\n",
        "from keras.datasets import mnist\n",
        "from keras.models import Sequential\n",
        "from keras.layers import Dense\n",
        "from keras.layers import Dropout # new!\n",
        "from keras.layers.normalization import BatchNormalization # new!\n",
        "from keras import regularizers # new! \n",
        "from keras.optimizers import SGD"
      ],
      "execution_count": 0,
      "outputs": []
    },
    {
      "cell_type": "markdown",
      "metadata": {
        "id": "2UU-IJ6PgUVR",
        "colab_type": "text"
      },
      "source": [
        "#### Load data"
      ]
    },
    {
      "cell_type": "code",
      "metadata": {
        "id": "SgQC_geBgUVT",
        "colab_type": "code",
        "colab": {}
      },
      "source": [
        "(X_train, y_train), (X_test, y_test) = mnist.load_data()"
      ],
      "execution_count": 0,
      "outputs": []
    },
    {
      "cell_type": "markdown",
      "metadata": {
        "id": "bcLwEz-CgUVY",
        "colab_type": "text"
      },
      "source": [
        "#### Preprocess data"
      ]
    },
    {
      "cell_type": "code",
      "metadata": {
        "id": "NpefH511gUVZ",
        "colab_type": "code",
        "colab": {}
      },
      "source": [
        "X_train = X_train.reshape(60000, 784).astype('float32')\n",
        "X_test = X_test.reshape(10000, 784).astype('float32')"
      ],
      "execution_count": 0,
      "outputs": []
    },
    {
      "cell_type": "code",
      "metadata": {
        "id": "kPrZxbJsgUVd",
        "colab_type": "code",
        "colab": {}
      },
      "source": [
        "X_train /= 255\n",
        "X_test /= 255"
      ],
      "execution_count": 0,
      "outputs": []
    },
    {
      "cell_type": "code",
      "metadata": {
        "id": "MvpRTUIIgUVh",
        "colab_type": "code",
        "colab": {}
      },
      "source": [
        "n_classes = 10\n",
        "y_train = keras.utils.to_categorical(y_train, n_classes)\n",
        "y_test = keras.utils.to_categorical(y_test, n_classes)"
      ],
      "execution_count": 0,
      "outputs": []
    },
    {
      "cell_type": "markdown",
      "metadata": {
        "id": "CwDgLrmygUVp",
        "colab_type": "text"
      },
      "source": [
        "#### Design neural network architecture"
      ]
    },
    {
      "cell_type": "code",
      "metadata": {
        "id": "Y1f60soZgUVr",
        "colab_type": "code",
        "colab": {}
      },
      "source": [
        "model = Sequential()\n",
        "model.add(Dense(64, activation='relu', input_shape=(784,)))\n",
        "model.add(BatchNormalization())\n",
        "model.add(Dropout(0.5))\n",
        "model.add(Dense(64, activation='relu'))\n",
        "model.add(BatchNormalization())\n",
        "model.add(Dropout(0.5))\n",
        "# model.add(Dense(64, activation='relu'))\n",
        "# model.add(BatchNormalization())\n",
        "# model.add(Dropout(0.5))\n",
        "model.add(Dense(10, activation='softmax'))"
      ],
      "execution_count": 0,
      "outputs": []
    },
    {
      "cell_type": "code",
      "metadata": {
        "id": "T3yYPSrEgUVv",
        "colab_type": "code",
        "colab": {
          "base_uri": "https://localhost:8080/",
          "height": 391
        },
        "outputId": "1133ecc5-7346-4138-fed0-c0b5379e52bb"
      },
      "source": [
        "model.summary()"
      ],
      "execution_count": 20,
      "outputs": [
        {
          "output_type": "stream",
          "text": [
            "Model: \"sequential_4\"\n",
            "_________________________________________________________________\n",
            "Layer (type)                 Output Shape              Param #   \n",
            "=================================================================\n",
            "dense_10 (Dense)             (None, 64)                50240     \n",
            "_________________________________________________________________\n",
            "batch_normalization_7 (Batch (None, 64)                256       \n",
            "_________________________________________________________________\n",
            "dropout_7 (Dropout)          (None, 64)                0         \n",
            "_________________________________________________________________\n",
            "dense_11 (Dense)             (None, 64)                4160      \n",
            "_________________________________________________________________\n",
            "batch_normalization_8 (Batch (None, 64)                256       \n",
            "_________________________________________________________________\n",
            "dropout_8 (Dropout)          (None, 64)                0         \n",
            "_________________________________________________________________\n",
            "dense_12 (Dense)             (None, 10)                650       \n",
            "=================================================================\n",
            "Total params: 55,562\n",
            "Trainable params: 55,306\n",
            "Non-trainable params: 256\n",
            "_________________________________________________________________\n"
          ],
          "name": "stdout"
        }
      ]
    },
    {
      "cell_type": "markdown",
      "metadata": {
        "id": "84XC9wIHgUVz",
        "colab_type": "text"
      },
      "source": [
        "#### Configure model"
      ]
    },
    {
      "cell_type": "code",
      "metadata": {
        "id": "kdtyHbUugUV0",
        "colab_type": "code",
        "colab": {}
      },
      "source": [
        "model.compile(loss='categorical_crossentropy', optimizer='adam', metrics=['accuracy'])"
      ],
      "execution_count": 0,
      "outputs": []
    },
    {
      "cell_type": "markdown",
      "metadata": {
        "id": "wT1QB2wFgUV5",
        "colab_type": "text"
      },
      "source": [
        "#### Train!"
      ]
    },
    {
      "cell_type": "code",
      "metadata": {
        "id": "ffFZWgo8gUV7",
        "colab_type": "code",
        "colab": {
          "base_uri": "https://localhost:8080/",
          "height": 1000
        },
        "outputId": "bfb2857d-0583-427c-a172-92e252541dfa"
      },
      "source": [
        "model.fit(X_train, y_train, batch_size=128, epochs=200, verbose=1, validation_data=(X_test, y_test))"
      ],
      "execution_count": 23,
      "outputs": [
        {
          "output_type": "stream",
          "text": [
            "Train on 60000 samples, validate on 10000 samples\n",
            "Epoch 1/200\n",
            "60000/60000 [==============================] - 3s 55us/step - loss: 0.8604 - acc: 0.7341 - val_loss: 0.2625 - val_acc: 0.9222\n",
            "Epoch 2/200\n",
            "60000/60000 [==============================] - 3s 47us/step - loss: 0.4466 - acc: 0.8714 - val_loss: 0.2257 - val_acc: 0.9317\n",
            "Epoch 3/200\n",
            "60000/60000 [==============================] - 3s 45us/step - loss: 0.3702 - acc: 0.8929 - val_loss: 0.1875 - val_acc: 0.9428\n",
            "Epoch 4/200\n",
            "60000/60000 [==============================] - 3s 42us/step - loss: 0.3325 - acc: 0.9038 - val_loss: 0.1732 - val_acc: 0.9487\n",
            "Epoch 5/200\n",
            "60000/60000 [==============================] - 3s 42us/step - loss: 0.3066 - acc: 0.9122 - val_loss: 0.1553 - val_acc: 0.9540\n",
            "Epoch 6/200\n",
            "60000/60000 [==============================] - 2s 40us/step - loss: 0.2891 - acc: 0.9169 - val_loss: 0.1536 - val_acc: 0.9524\n",
            "Epoch 7/200\n",
            "60000/60000 [==============================] - 2s 40us/step - loss: 0.2743 - acc: 0.9204 - val_loss: 0.1456 - val_acc: 0.9568\n",
            "Epoch 8/200\n",
            "60000/60000 [==============================] - 2s 41us/step - loss: 0.2667 - acc: 0.9225 - val_loss: 0.1400 - val_acc: 0.9575\n",
            "Epoch 9/200\n",
            "60000/60000 [==============================] - 3s 46us/step - loss: 0.2551 - acc: 0.9262 - val_loss: 0.1297 - val_acc: 0.9608\n",
            "Epoch 10/200\n",
            "60000/60000 [==============================] - 3s 45us/step - loss: 0.2500 - acc: 0.9265 - val_loss: 0.1258 - val_acc: 0.9622\n",
            "Epoch 11/200\n",
            "60000/60000 [==============================] - 3s 43us/step - loss: 0.2411 - acc: 0.9288 - val_loss: 0.1322 - val_acc: 0.9597\n",
            "Epoch 12/200\n",
            "60000/60000 [==============================] - 2s 40us/step - loss: 0.2398 - acc: 0.9291 - val_loss: 0.1217 - val_acc: 0.9630\n",
            "Epoch 13/200\n",
            "60000/60000 [==============================] - 2s 41us/step - loss: 0.2321 - acc: 0.9327 - val_loss: 0.1211 - val_acc: 0.9634\n",
            "Epoch 14/200\n",
            "60000/60000 [==============================] - 3s 45us/step - loss: 0.2282 - acc: 0.9332 - val_loss: 0.1223 - val_acc: 0.9634\n",
            "Epoch 15/200\n",
            "60000/60000 [==============================] - 2s 42us/step - loss: 0.2247 - acc: 0.9335 - val_loss: 0.1168 - val_acc: 0.9638\n",
            "Epoch 16/200\n",
            "60000/60000 [==============================] - 2s 40us/step - loss: 0.2195 - acc: 0.9356 - val_loss: 0.1158 - val_acc: 0.9641\n",
            "Epoch 17/200\n",
            "60000/60000 [==============================] - 3s 46us/step - loss: 0.2163 - acc: 0.9359 - val_loss: 0.1123 - val_acc: 0.9660\n",
            "Epoch 18/200\n",
            "60000/60000 [==============================] - 3s 44us/step - loss: 0.2121 - acc: 0.9376 - val_loss: 0.1152 - val_acc: 0.9649\n",
            "Epoch 19/200\n",
            "60000/60000 [==============================] - 2s 41us/step - loss: 0.2126 - acc: 0.9383 - val_loss: 0.1137 - val_acc: 0.9659\n",
            "Epoch 20/200\n",
            "60000/60000 [==============================] - 3s 43us/step - loss: 0.2076 - acc: 0.9392 - val_loss: 0.1151 - val_acc: 0.9653\n",
            "Epoch 21/200\n",
            "60000/60000 [==============================] - 3s 44us/step - loss: 0.2085 - acc: 0.9395 - val_loss: 0.1113 - val_acc: 0.9675\n",
            "Epoch 22/200\n",
            "60000/60000 [==============================] - 2s 40us/step - loss: 0.2025 - acc: 0.9401 - val_loss: 0.1153 - val_acc: 0.9654\n",
            "Epoch 23/200\n",
            "60000/60000 [==============================] - 2s 41us/step - loss: 0.2001 - acc: 0.9403 - val_loss: 0.1129 - val_acc: 0.9661\n",
            "Epoch 24/200\n",
            "60000/60000 [==============================] - 2s 41us/step - loss: 0.2001 - acc: 0.9413 - val_loss: 0.1110 - val_acc: 0.9668\n",
            "Epoch 25/200\n",
            "60000/60000 [==============================] - 3s 43us/step - loss: 0.1959 - acc: 0.9425 - val_loss: 0.1088 - val_acc: 0.9684\n",
            "Epoch 26/200\n",
            "60000/60000 [==============================] - 3s 43us/step - loss: 0.1937 - acc: 0.9423 - val_loss: 0.1086 - val_acc: 0.9687\n",
            "Epoch 27/200\n",
            "60000/60000 [==============================] - 2s 42us/step - loss: 0.1895 - acc: 0.9446 - val_loss: 0.1065 - val_acc: 0.9681\n",
            "Epoch 28/200\n",
            "60000/60000 [==============================] - 3s 44us/step - loss: 0.1903 - acc: 0.9440 - val_loss: 0.1084 - val_acc: 0.9672\n",
            "Epoch 29/200\n",
            "60000/60000 [==============================] - 3s 43us/step - loss: 0.1917 - acc: 0.9432 - val_loss: 0.1050 - val_acc: 0.9681\n",
            "Epoch 30/200\n",
            "60000/60000 [==============================] - 3s 45us/step - loss: 0.1906 - acc: 0.9433 - val_loss: 0.1025 - val_acc: 0.9699\n",
            "Epoch 31/200\n",
            "60000/60000 [==============================] - 3s 48us/step - loss: 0.1850 - acc: 0.9450 - val_loss: 0.1039 - val_acc: 0.9693\n",
            "Epoch 32/200\n",
            "60000/60000 [==============================] - 2s 40us/step - loss: 0.1843 - acc: 0.9447 - val_loss: 0.1028 - val_acc: 0.9691\n",
            "Epoch 33/200\n",
            "60000/60000 [==============================] - 3s 44us/step - loss: 0.1854 - acc: 0.9443 - val_loss: 0.1033 - val_acc: 0.9691\n",
            "Epoch 34/200\n",
            "60000/60000 [==============================] - 2s 41us/step - loss: 0.1829 - acc: 0.9456 - val_loss: 0.1059 - val_acc: 0.9682\n",
            "Epoch 35/200\n",
            "60000/60000 [==============================] - 3s 44us/step - loss: 0.1828 - acc: 0.9445 - val_loss: 0.1054 - val_acc: 0.9684\n",
            "Epoch 36/200\n",
            "60000/60000 [==============================] - 2s 42us/step - loss: 0.1807 - acc: 0.9456 - val_loss: 0.1036 - val_acc: 0.9691\n",
            "Epoch 37/200\n",
            "60000/60000 [==============================] - 2s 40us/step - loss: 0.1800 - acc: 0.9461 - val_loss: 0.1056 - val_acc: 0.9697\n",
            "Epoch 38/200\n",
            "60000/60000 [==============================] - 2s 40us/step - loss: 0.1800 - acc: 0.9468 - val_loss: 0.1026 - val_acc: 0.9694\n",
            "Epoch 39/200\n",
            "60000/60000 [==============================] - 2s 39us/step - loss: 0.1783 - acc: 0.9467 - val_loss: 0.1017 - val_acc: 0.9699\n",
            "Epoch 40/200\n",
            "60000/60000 [==============================] - 2s 40us/step - loss: 0.1783 - acc: 0.9461 - val_loss: 0.1042 - val_acc: 0.9683\n",
            "Epoch 41/200\n",
            "60000/60000 [==============================] - 2s 41us/step - loss: 0.1746 - acc: 0.9483 - val_loss: 0.0990 - val_acc: 0.9705\n",
            "Epoch 42/200\n",
            "60000/60000 [==============================] - 2s 41us/step - loss: 0.1745 - acc: 0.9478 - val_loss: 0.0999 - val_acc: 0.9707\n",
            "Epoch 43/200\n",
            "60000/60000 [==============================] - 2s 40us/step - loss: 0.1753 - acc: 0.9480 - val_loss: 0.1060 - val_acc: 0.9695\n",
            "Epoch 44/200\n",
            "60000/60000 [==============================] - 3s 42us/step - loss: 0.1742 - acc: 0.9478 - val_loss: 0.1016 - val_acc: 0.9702\n",
            "Epoch 45/200\n",
            "60000/60000 [==============================] - 3s 44us/step - loss: 0.1770 - acc: 0.9472 - val_loss: 0.1030 - val_acc: 0.9703\n",
            "Epoch 46/200\n",
            "60000/60000 [==============================] - 3s 49us/step - loss: 0.1756 - acc: 0.9481 - val_loss: 0.1048 - val_acc: 0.9688\n",
            "Epoch 47/200\n",
            "60000/60000 [==============================] - 3s 44us/step - loss: 0.1707 - acc: 0.9491 - val_loss: 0.1012 - val_acc: 0.9702\n",
            "Epoch 48/200\n",
            "60000/60000 [==============================] - 3s 42us/step - loss: 0.1731 - acc: 0.9483 - val_loss: 0.0989 - val_acc: 0.9709\n",
            "Epoch 49/200\n",
            "60000/60000 [==============================] - 3s 47us/step - loss: 0.1689 - acc: 0.9502 - val_loss: 0.1034 - val_acc: 0.9697\n",
            "Epoch 50/200\n",
            "60000/60000 [==============================] - 3s 46us/step - loss: 0.1708 - acc: 0.9492 - val_loss: 0.1046 - val_acc: 0.9702\n",
            "Epoch 51/200\n",
            "60000/60000 [==============================] - 2s 41us/step - loss: 0.1702 - acc: 0.9494 - val_loss: 0.1026 - val_acc: 0.9710\n",
            "Epoch 52/200\n",
            "60000/60000 [==============================] - 3s 44us/step - loss: 0.1700 - acc: 0.9490 - val_loss: 0.1008 - val_acc: 0.9705\n",
            "Epoch 53/200\n",
            "60000/60000 [==============================] - 3s 45us/step - loss: 0.1670 - acc: 0.9509 - val_loss: 0.1011 - val_acc: 0.9700\n",
            "Epoch 54/200\n",
            "60000/60000 [==============================] - 3s 47us/step - loss: 0.1659 - acc: 0.9494 - val_loss: 0.1004 - val_acc: 0.9705\n",
            "Epoch 55/200\n",
            "60000/60000 [==============================] - 3s 47us/step - loss: 0.1693 - acc: 0.9494 - val_loss: 0.1084 - val_acc: 0.9689\n",
            "Epoch 56/200\n",
            "60000/60000 [==============================] - 2s 41us/step - loss: 0.1671 - acc: 0.9502 - val_loss: 0.1040 - val_acc: 0.9710\n",
            "Epoch 57/200\n",
            "60000/60000 [==============================] - 2s 39us/step - loss: 0.1671 - acc: 0.9507 - val_loss: 0.1023 - val_acc: 0.9693\n",
            "Epoch 58/200\n",
            "60000/60000 [==============================] - 3s 42us/step - loss: 0.1646 - acc: 0.9502 - val_loss: 0.1047 - val_acc: 0.9689\n",
            "Epoch 59/200\n",
            "60000/60000 [==============================] - 3s 45us/step - loss: 0.1672 - acc: 0.9499 - val_loss: 0.1045 - val_acc: 0.9706\n",
            "Epoch 60/200\n",
            "60000/60000 [==============================] - 3s 46us/step - loss: 0.1631 - acc: 0.9505 - val_loss: 0.1009 - val_acc: 0.9715\n",
            "Epoch 61/200\n",
            "60000/60000 [==============================] - 3s 43us/step - loss: 0.1679 - acc: 0.9496 - val_loss: 0.1066 - val_acc: 0.9693\n",
            "Epoch 62/200\n",
            "60000/60000 [==============================] - 3s 42us/step - loss: 0.1648 - acc: 0.9506 - val_loss: 0.1025 - val_acc: 0.9712\n",
            "Epoch 63/200\n",
            "60000/60000 [==============================] - 2s 41us/step - loss: 0.1636 - acc: 0.9508 - val_loss: 0.1083 - val_acc: 0.9685\n",
            "Epoch 64/200\n",
            "60000/60000 [==============================] - 3s 44us/step - loss: 0.1639 - acc: 0.9504 - val_loss: 0.1034 - val_acc: 0.9699\n",
            "Epoch 65/200\n",
            "60000/60000 [==============================] - 2s 41us/step - loss: 0.1634 - acc: 0.9504 - val_loss: 0.1018 - val_acc: 0.9711\n",
            "Epoch 66/200\n",
            "60000/60000 [==============================] - 3s 49us/step - loss: 0.1615 - acc: 0.9525 - val_loss: 0.1048 - val_acc: 0.9711\n",
            "Epoch 67/200\n",
            "60000/60000 [==============================] - 3s 45us/step - loss: 0.1636 - acc: 0.9513 - val_loss: 0.1009 - val_acc: 0.9707\n",
            "Epoch 68/200\n",
            "60000/60000 [==============================] - 3s 42us/step - loss: 0.1616 - acc: 0.9514 - val_loss: 0.1043 - val_acc: 0.9708\n",
            "Epoch 69/200\n",
            "60000/60000 [==============================] - 3s 42us/step - loss: 0.1620 - acc: 0.9521 - val_loss: 0.1027 - val_acc: 0.9718\n",
            "Epoch 70/200\n",
            "60000/60000 [==============================] - 3s 42us/step - loss: 0.1584 - acc: 0.9522 - val_loss: 0.1070 - val_acc: 0.9695\n",
            "Epoch 71/200\n",
            "60000/60000 [==============================] - 2s 40us/step - loss: 0.1555 - acc: 0.9534 - val_loss: 0.1034 - val_acc: 0.9700\n",
            "Epoch 72/200\n",
            "60000/60000 [==============================] - 2s 40us/step - loss: 0.1560 - acc: 0.9527 - val_loss: 0.1032 - val_acc: 0.9703\n",
            "Epoch 73/200\n",
            "60000/60000 [==============================] - 2s 41us/step - loss: 0.1571 - acc: 0.9521 - val_loss: 0.1054 - val_acc: 0.9698\n",
            "Epoch 74/200\n",
            "60000/60000 [==============================] - 2s 41us/step - loss: 0.1591 - acc: 0.9517 - val_loss: 0.1022 - val_acc: 0.9705\n",
            "Epoch 75/200\n",
            "60000/60000 [==============================] - 3s 44us/step - loss: 0.1587 - acc: 0.9534 - val_loss: 0.1037 - val_acc: 0.9702\n",
            "Epoch 76/200\n",
            "60000/60000 [==============================] - 3s 48us/step - loss: 0.1553 - acc: 0.9524 - val_loss: 0.1059 - val_acc: 0.9696\n",
            "Epoch 77/200\n",
            "60000/60000 [==============================] - 3s 47us/step - loss: 0.1553 - acc: 0.9531 - val_loss: 0.1038 - val_acc: 0.9711\n",
            "Epoch 78/200\n",
            "60000/60000 [==============================] - 3s 48us/step - loss: 0.1569 - acc: 0.9532 - val_loss: 0.1044 - val_acc: 0.9714\n",
            "Epoch 79/200\n",
            "60000/60000 [==============================] - 3s 45us/step - loss: 0.1577 - acc: 0.9525 - val_loss: 0.1002 - val_acc: 0.9719\n",
            "Epoch 80/200\n",
            "60000/60000 [==============================] - 3s 46us/step - loss: 0.1510 - acc: 0.9557 - val_loss: 0.1013 - val_acc: 0.9720\n",
            "Epoch 81/200\n",
            "60000/60000 [==============================] - 3s 44us/step - loss: 0.1532 - acc: 0.9536 - val_loss: 0.1045 - val_acc: 0.9712\n",
            "Epoch 82/200\n",
            "60000/60000 [==============================] - 3s 43us/step - loss: 0.1536 - acc: 0.9526 - val_loss: 0.1051 - val_acc: 0.9701\n",
            "Epoch 83/200\n",
            "60000/60000 [==============================] - 2s 41us/step - loss: 0.1542 - acc: 0.9537 - val_loss: 0.1067 - val_acc: 0.9694\n",
            "Epoch 84/200\n",
            "60000/60000 [==============================] - 3s 44us/step - loss: 0.1550 - acc: 0.9536 - val_loss: 0.1033 - val_acc: 0.9706\n",
            "Epoch 85/200\n",
            "60000/60000 [==============================] - 2s 40us/step - loss: 0.1538 - acc: 0.9529 - val_loss: 0.1067 - val_acc: 0.9701\n",
            "Epoch 86/200\n",
            "60000/60000 [==============================] - 3s 44us/step - loss: 0.1525 - acc: 0.9542 - val_loss: 0.1023 - val_acc: 0.9708\n",
            "Epoch 87/200\n",
            "60000/60000 [==============================] - 3s 45us/step - loss: 0.1527 - acc: 0.9540 - val_loss: 0.1027 - val_acc: 0.9707\n",
            "Epoch 88/200\n",
            "60000/60000 [==============================] - 3s 42us/step - loss: 0.1529 - acc: 0.9537 - val_loss: 0.1037 - val_acc: 0.9701\n",
            "Epoch 89/200\n",
            "60000/60000 [==============================] - 3s 47us/step - loss: 0.1503 - acc: 0.9543 - val_loss: 0.1038 - val_acc: 0.9703\n",
            "Epoch 90/200\n",
            "60000/60000 [==============================] - 3s 47us/step - loss: 0.1520 - acc: 0.9541 - val_loss: 0.1019 - val_acc: 0.9713\n",
            "Epoch 91/200\n",
            "60000/60000 [==============================] - 3s 45us/step - loss: 0.1502 - acc: 0.9550 - val_loss: 0.1044 - val_acc: 0.9704\n",
            "Epoch 92/200\n",
            "60000/60000 [==============================] - 3s 42us/step - loss: 0.1517 - acc: 0.9546 - val_loss: 0.1008 - val_acc: 0.9710\n",
            "Epoch 93/200\n",
            "60000/60000 [==============================] - 3s 42us/step - loss: 0.1543 - acc: 0.9538 - val_loss: 0.1045 - val_acc: 0.9704\n",
            "Epoch 94/200\n",
            "60000/60000 [==============================] - 2s 39us/step - loss: 0.1516 - acc: 0.9536 - val_loss: 0.1014 - val_acc: 0.9712\n",
            "Epoch 95/200\n",
            "60000/60000 [==============================] - 2s 39us/step - loss: 0.1545 - acc: 0.9543 - val_loss: 0.1044 - val_acc: 0.9701\n",
            "Epoch 96/200\n",
            "60000/60000 [==============================] - 3s 43us/step - loss: 0.1496 - acc: 0.9547 - val_loss: 0.1049 - val_acc: 0.9709\n",
            "Epoch 97/200\n",
            "60000/60000 [==============================] - 2s 41us/step - loss: 0.1512 - acc: 0.9543 - val_loss: 0.1022 - val_acc: 0.9707\n",
            "Epoch 98/200\n",
            "60000/60000 [==============================] - 2s 41us/step - loss: 0.1521 - acc: 0.9550 - val_loss: 0.1082 - val_acc: 0.9691\n",
            "Epoch 99/200\n",
            "60000/60000 [==============================] - 2s 40us/step - loss: 0.1490 - acc: 0.9548 - val_loss: 0.1105 - val_acc: 0.9700\n",
            "Epoch 100/200\n",
            "60000/60000 [==============================] - 3s 42us/step - loss: 0.1521 - acc: 0.9541 - val_loss: 0.1041 - val_acc: 0.9706\n",
            "Epoch 101/200\n",
            "60000/60000 [==============================] - 3s 47us/step - loss: 0.1488 - acc: 0.9551 - val_loss: 0.1026 - val_acc: 0.9715\n",
            "Epoch 102/200\n",
            "60000/60000 [==============================] - 3s 49us/step - loss: 0.1483 - acc: 0.9559 - val_loss: 0.1040 - val_acc: 0.9710\n",
            "Epoch 103/200\n",
            "60000/60000 [==============================] - 3s 47us/step - loss: 0.1466 - acc: 0.9559 - val_loss: 0.1076 - val_acc: 0.9704\n",
            "Epoch 104/200\n",
            "60000/60000 [==============================] - 3s 48us/step - loss: 0.1445 - acc: 0.9558 - val_loss: 0.1065 - val_acc: 0.9706\n",
            "Epoch 105/200\n",
            "60000/60000 [==============================] - 3s 46us/step - loss: 0.1489 - acc: 0.9556 - val_loss: 0.1010 - val_acc: 0.9707\n",
            "Epoch 106/200\n",
            "60000/60000 [==============================] - 3s 46us/step - loss: 0.1491 - acc: 0.9556 - val_loss: 0.1044 - val_acc: 0.9699\n",
            "Epoch 107/200\n",
            "60000/60000 [==============================] - 2s 41us/step - loss: 0.1475 - acc: 0.9557 - val_loss: 0.1038 - val_acc: 0.9710\n",
            "Epoch 108/200\n",
            "60000/60000 [==============================] - 3s 42us/step - loss: 0.1498 - acc: 0.9546 - val_loss: 0.1031 - val_acc: 0.9696\n",
            "Epoch 109/200\n",
            "60000/60000 [==============================] - 3s 42us/step - loss: 0.1484 - acc: 0.9559 - val_loss: 0.1058 - val_acc: 0.9697\n",
            "Epoch 110/200\n",
            "60000/60000 [==============================] - 3s 43us/step - loss: 0.1441 - acc: 0.9562 - val_loss: 0.1024 - val_acc: 0.9705\n",
            "Epoch 111/200\n",
            "60000/60000 [==============================] - 3s 42us/step - loss: 0.1405 - acc: 0.9561 - val_loss: 0.1065 - val_acc: 0.9716\n",
            "Epoch 112/200\n",
            "60000/60000 [==============================] - 3s 43us/step - loss: 0.1481 - acc: 0.9549 - val_loss: 0.1059 - val_acc: 0.9706\n",
            "Epoch 113/200\n",
            "60000/60000 [==============================] - 3s 42us/step - loss: 0.1431 - acc: 0.9566 - val_loss: 0.1037 - val_acc: 0.9705\n",
            "Epoch 114/200\n",
            "60000/60000 [==============================] - 3s 42us/step - loss: 0.1446 - acc: 0.9559 - val_loss: 0.1047 - val_acc: 0.9701\n",
            "Epoch 115/200\n",
            "60000/60000 [==============================] - 2s 41us/step - loss: 0.1447 - acc: 0.9559 - val_loss: 0.1047 - val_acc: 0.9706\n",
            "Epoch 116/200\n",
            "60000/60000 [==============================] - 2s 40us/step - loss: 0.1453 - acc: 0.9565 - val_loss: 0.1018 - val_acc: 0.9715\n",
            "Epoch 117/200\n",
            "60000/60000 [==============================] - 2s 39us/step - loss: 0.1451 - acc: 0.9551 - val_loss: 0.1010 - val_acc: 0.9704\n",
            "Epoch 118/200\n",
            "60000/60000 [==============================] - 2s 40us/step - loss: 0.1430 - acc: 0.9568 - val_loss: 0.1047 - val_acc: 0.9705\n",
            "Epoch 119/200\n",
            "60000/60000 [==============================] - 2s 39us/step - loss: 0.1453 - acc: 0.9558 - val_loss: 0.1027 - val_acc: 0.9709\n",
            "Epoch 120/200\n",
            "60000/60000 [==============================] - 2s 41us/step - loss: 0.1450 - acc: 0.9554 - val_loss: 0.1050 - val_acc: 0.9709\n",
            "Epoch 121/200\n",
            "60000/60000 [==============================] - 2s 40us/step - loss: 0.1443 - acc: 0.9562 - val_loss: 0.1054 - val_acc: 0.9692\n",
            "Epoch 122/200\n",
            "60000/60000 [==============================] - 2s 38us/step - loss: 0.1414 - acc: 0.9570 - val_loss: 0.1067 - val_acc: 0.9720\n",
            "Epoch 123/200\n",
            "60000/60000 [==============================] - 2s 40us/step - loss: 0.1444 - acc: 0.9566 - val_loss: 0.1031 - val_acc: 0.9712\n",
            "Epoch 124/200\n",
            "60000/60000 [==============================] - 2s 41us/step - loss: 0.1433 - acc: 0.9575 - val_loss: 0.1050 - val_acc: 0.9710\n",
            "Epoch 125/200\n",
            "60000/60000 [==============================] - 2s 41us/step - loss: 0.1443 - acc: 0.9558 - val_loss: 0.1048 - val_acc: 0.9698\n",
            "Epoch 126/200\n",
            "60000/60000 [==============================] - 2s 41us/step - loss: 0.1410 - acc: 0.9575 - val_loss: 0.1049 - val_acc: 0.9722\n",
            "Epoch 127/200\n",
            "60000/60000 [==============================] - 3s 43us/step - loss: 0.1405 - acc: 0.9569 - val_loss: 0.1013 - val_acc: 0.9716\n",
            "Epoch 128/200\n",
            "60000/60000 [==============================] - 2s 41us/step - loss: 0.1454 - acc: 0.9562 - val_loss: 0.1019 - val_acc: 0.9714\n",
            "Epoch 129/200\n",
            "60000/60000 [==============================] - 2s 40us/step - loss: 0.1421 - acc: 0.9575 - val_loss: 0.1049 - val_acc: 0.9705\n",
            "Epoch 130/200\n",
            "60000/60000 [==============================] - 3s 45us/step - loss: 0.1418 - acc: 0.9569 - val_loss: 0.1054 - val_acc: 0.9702\n",
            "Epoch 131/200\n",
            "60000/60000 [==============================] - 3s 48us/step - loss: 0.1439 - acc: 0.9563 - val_loss: 0.1023 - val_acc: 0.9713\n",
            "Epoch 132/200\n",
            "60000/60000 [==============================] - 3s 45us/step - loss: 0.1427 - acc: 0.9569 - val_loss: 0.1068 - val_acc: 0.9716\n",
            "Epoch 133/200\n",
            "60000/60000 [==============================] - 3s 45us/step - loss: 0.1395 - acc: 0.9582 - val_loss: 0.1020 - val_acc: 0.9718\n",
            "Epoch 134/200\n",
            "60000/60000 [==============================] - 3s 45us/step - loss: 0.1400 - acc: 0.9570 - val_loss: 0.1072 - val_acc: 0.9715\n",
            "Epoch 135/200\n",
            "60000/60000 [==============================] - 3s 44us/step - loss: 0.1388 - acc: 0.9584 - val_loss: 0.1017 - val_acc: 0.9723\n",
            "Epoch 136/200\n",
            "60000/60000 [==============================] - 3s 44us/step - loss: 0.1410 - acc: 0.9573 - val_loss: 0.1054 - val_acc: 0.9718\n",
            "Epoch 137/200\n",
            "60000/60000 [==============================] - 2s 40us/step - loss: 0.1402 - acc: 0.9575 - val_loss: 0.1078 - val_acc: 0.9716\n",
            "Epoch 138/200\n",
            "60000/60000 [==============================] - 2s 40us/step - loss: 0.1402 - acc: 0.9573 - val_loss: 0.1021 - val_acc: 0.9713\n",
            "Epoch 139/200\n",
            "60000/60000 [==============================] - 2s 41us/step - loss: 0.1385 - acc: 0.9578 - val_loss: 0.1034 - val_acc: 0.9722\n",
            "Epoch 140/200\n",
            "60000/60000 [==============================] - 3s 43us/step - loss: 0.1372 - acc: 0.9581 - val_loss: 0.1022 - val_acc: 0.9717\n",
            "Epoch 141/200\n",
            "60000/60000 [==============================] - 3s 44us/step - loss: 0.1417 - acc: 0.9565 - val_loss: 0.1028 - val_acc: 0.9708\n",
            "Epoch 142/200\n",
            "60000/60000 [==============================] - 3s 47us/step - loss: 0.1393 - acc: 0.9578 - val_loss: 0.1056 - val_acc: 0.9706\n",
            "Epoch 143/200\n",
            "60000/60000 [==============================] - 3s 48us/step - loss: 0.1388 - acc: 0.9578 - val_loss: 0.1047 - val_acc: 0.9724\n",
            "Epoch 144/200\n",
            "60000/60000 [==============================] - 3s 50us/step - loss: 0.1415 - acc: 0.9568 - val_loss: 0.1045 - val_acc: 0.9721\n",
            "Epoch 145/200\n",
            "60000/60000 [==============================] - 3s 46us/step - loss: 0.1398 - acc: 0.9577 - val_loss: 0.1035 - val_acc: 0.9724\n",
            "Epoch 146/200\n",
            "60000/60000 [==============================] - 3s 48us/step - loss: 0.1387 - acc: 0.9579 - val_loss: 0.1062 - val_acc: 0.9726\n",
            "Epoch 147/200\n",
            "60000/60000 [==============================] - 2s 40us/step - loss: 0.1381 - acc: 0.9580 - val_loss: 0.1037 - val_acc: 0.9724\n",
            "Epoch 148/200\n",
            "60000/60000 [==============================] - 3s 43us/step - loss: 0.1397 - acc: 0.9578 - val_loss: 0.1076 - val_acc: 0.9706\n",
            "Epoch 149/200\n",
            "60000/60000 [==============================] - 3s 48us/step - loss: 0.1392 - acc: 0.9570 - val_loss: 0.1046 - val_acc: 0.9718\n",
            "Epoch 150/200\n",
            "60000/60000 [==============================] - 3s 46us/step - loss: 0.1394 - acc: 0.9568 - val_loss: 0.1041 - val_acc: 0.9726\n",
            "Epoch 151/200\n",
            "60000/60000 [==============================] - 3s 46us/step - loss: 0.1398 - acc: 0.9574 - val_loss: 0.1040 - val_acc: 0.9726\n",
            "Epoch 152/200\n",
            "60000/60000 [==============================] - 2s 41us/step - loss: 0.1399 - acc: 0.9572 - val_loss: 0.1029 - val_acc: 0.9728\n",
            "Epoch 153/200\n",
            "60000/60000 [==============================] - 2s 42us/step - loss: 0.1406 - acc: 0.9565 - val_loss: 0.1073 - val_acc: 0.9713\n",
            "Epoch 154/200\n",
            "60000/60000 [==============================] - 3s 43us/step - loss: 0.1376 - acc: 0.9579 - val_loss: 0.1048 - val_acc: 0.9720\n",
            "Epoch 155/200\n",
            "60000/60000 [==============================] - 2s 40us/step - loss: 0.1339 - acc: 0.9594 - val_loss: 0.1046 - val_acc: 0.9717\n",
            "Epoch 156/200\n",
            "60000/60000 [==============================] - 3s 47us/step - loss: 0.1399 - acc: 0.9578 - val_loss: 0.1068 - val_acc: 0.9712\n",
            "Epoch 157/200\n",
            "60000/60000 [==============================] - 3s 46us/step - loss: 0.1389 - acc: 0.9578 - val_loss: 0.1058 - val_acc: 0.9716\n",
            "Epoch 158/200\n",
            "60000/60000 [==============================] - 3s 46us/step - loss: 0.1356 - acc: 0.9579 - val_loss: 0.1116 - val_acc: 0.9710\n",
            "Epoch 159/200\n",
            "60000/60000 [==============================] - 3s 44us/step - loss: 0.1394 - acc: 0.9579 - val_loss: 0.1066 - val_acc: 0.9714\n",
            "Epoch 160/200\n",
            "60000/60000 [==============================] - 3s 45us/step - loss: 0.1364 - acc: 0.9584 - val_loss: 0.1069 - val_acc: 0.9711\n",
            "Epoch 161/200\n",
            "60000/60000 [==============================] - 3s 45us/step - loss: 0.1347 - acc: 0.9588 - val_loss: 0.1064 - val_acc: 0.9705\n",
            "Epoch 162/200\n",
            "60000/60000 [==============================] - 3s 46us/step - loss: 0.1353 - acc: 0.9581 - val_loss: 0.1060 - val_acc: 0.9705\n",
            "Epoch 163/200\n",
            "60000/60000 [==============================] - 3s 47us/step - loss: 0.1377 - acc: 0.9585 - val_loss: 0.1068 - val_acc: 0.9706\n",
            "Epoch 164/200\n",
            "60000/60000 [==============================] - 3s 52us/step - loss: 0.1334 - acc: 0.9600 - val_loss: 0.1045 - val_acc: 0.9721\n",
            "Epoch 165/200\n",
            "60000/60000 [==============================] - 3s 45us/step - loss: 0.1390 - acc: 0.9570 - val_loss: 0.1052 - val_acc: 0.9710\n",
            "Epoch 166/200\n",
            "60000/60000 [==============================] - 3s 45us/step - loss: 0.1378 - acc: 0.9584 - val_loss: 0.1057 - val_acc: 0.9724\n",
            "Epoch 167/200\n",
            "60000/60000 [==============================] - 3s 46us/step - loss: 0.1340 - acc: 0.9587 - val_loss: 0.1054 - val_acc: 0.9706\n",
            "Epoch 168/200\n",
            "60000/60000 [==============================] - 3s 46us/step - loss: 0.1371 - acc: 0.9579 - val_loss: 0.1044 - val_acc: 0.9725\n",
            "Epoch 169/200\n",
            "60000/60000 [==============================] - 3s 47us/step - loss: 0.1371 - acc: 0.9592 - val_loss: 0.1033 - val_acc: 0.9714\n",
            "Epoch 170/200\n",
            "60000/60000 [==============================] - 3s 46us/step - loss: 0.1345 - acc: 0.9593 - val_loss: 0.1058 - val_acc: 0.9710\n",
            "Epoch 171/200\n",
            "60000/60000 [==============================] - 3s 42us/step - loss: 0.1362 - acc: 0.9583 - val_loss: 0.1069 - val_acc: 0.9710\n",
            "Epoch 172/200\n",
            "60000/60000 [==============================] - 3s 43us/step - loss: 0.1344 - acc: 0.9585 - val_loss: 0.1085 - val_acc: 0.9711\n",
            "Epoch 173/200\n",
            "60000/60000 [==============================] - 3s 45us/step - loss: 0.1349 - acc: 0.9578 - val_loss: 0.1097 - val_acc: 0.9711\n",
            "Epoch 174/200\n",
            "60000/60000 [==============================] - 3s 44us/step - loss: 0.1391 - acc: 0.9587 - val_loss: 0.1024 - val_acc: 0.9717\n",
            "Epoch 175/200\n",
            "60000/60000 [==============================] - 3s 48us/step - loss: 0.1354 - acc: 0.9586 - val_loss: 0.1048 - val_acc: 0.9709\n",
            "Epoch 176/200\n",
            "60000/60000 [==============================] - 3s 47us/step - loss: 0.1348 - acc: 0.9595 - val_loss: 0.1069 - val_acc: 0.9715\n",
            "Epoch 177/200\n",
            "60000/60000 [==============================] - 3s 46us/step - loss: 0.1332 - acc: 0.9593 - val_loss: 0.1063 - val_acc: 0.9718\n",
            "Epoch 178/200\n",
            "60000/60000 [==============================] - 3s 42us/step - loss: 0.1318 - acc: 0.9585 - val_loss: 0.1085 - val_acc: 0.9712\n",
            "Epoch 179/200\n",
            "60000/60000 [==============================] - 3s 47us/step - loss: 0.1298 - acc: 0.9605 - val_loss: 0.1069 - val_acc: 0.9713\n",
            "Epoch 180/200\n",
            "60000/60000 [==============================] - 3s 43us/step - loss: 0.1312 - acc: 0.9596 - val_loss: 0.1135 - val_acc: 0.9704\n",
            "Epoch 181/200\n",
            "60000/60000 [==============================] - 2s 41us/step - loss: 0.1348 - acc: 0.9595 - val_loss: 0.1084 - val_acc: 0.9716\n",
            "Epoch 182/200\n",
            "60000/60000 [==============================] - 3s 46us/step - loss: 0.1317 - acc: 0.9588 - val_loss: 0.1070 - val_acc: 0.9705\n",
            "Epoch 183/200\n",
            "60000/60000 [==============================] - 3s 48us/step - loss: 0.1360 - acc: 0.9583 - val_loss: 0.1075 - val_acc: 0.9716\n",
            "Epoch 184/200\n",
            "60000/60000 [==============================] - 3s 47us/step - loss: 0.1342 - acc: 0.9585 - val_loss: 0.1087 - val_acc: 0.9717\n",
            "Epoch 185/200\n",
            "60000/60000 [==============================] - 3s 45us/step - loss: 0.1315 - acc: 0.9599 - val_loss: 0.1055 - val_acc: 0.9722\n",
            "Epoch 186/200\n",
            "60000/60000 [==============================] - 3s 44us/step - loss: 0.1354 - acc: 0.9582 - val_loss: 0.1074 - val_acc: 0.9710\n",
            "Epoch 187/200\n",
            "60000/60000 [==============================] - 2s 37us/step - loss: 0.1309 - acc: 0.9594 - val_loss: 0.1063 - val_acc: 0.9723\n",
            "Epoch 188/200\n",
            "60000/60000 [==============================] - 2s 37us/step - loss: 0.1333 - acc: 0.9585 - val_loss: 0.1094 - val_acc: 0.9719\n",
            "Epoch 189/200\n",
            "60000/60000 [==============================] - 2s 40us/step - loss: 0.1311 - acc: 0.9591 - val_loss: 0.1086 - val_acc: 0.9707\n",
            "Epoch 190/200\n",
            "60000/60000 [==============================] - 2s 35us/step - loss: 0.1329 - acc: 0.9591 - val_loss: 0.1110 - val_acc: 0.9712\n",
            "Epoch 191/200\n",
            "60000/60000 [==============================] - 2s 37us/step - loss: 0.1330 - acc: 0.9597 - val_loss: 0.1095 - val_acc: 0.9700\n",
            "Epoch 192/200\n",
            "60000/60000 [==============================] - 2s 37us/step - loss: 0.1320 - acc: 0.9603 - val_loss: 0.1093 - val_acc: 0.9721\n",
            "Epoch 193/200\n",
            "60000/60000 [==============================] - 2s 36us/step - loss: 0.1304 - acc: 0.9595 - val_loss: 0.1082 - val_acc: 0.9715\n",
            "Epoch 194/200\n",
            "60000/60000 [==============================] - 2s 37us/step - loss: 0.1340 - acc: 0.9596 - val_loss: 0.1080 - val_acc: 0.9714\n",
            "Epoch 195/200\n",
            "60000/60000 [==============================] - 2s 36us/step - loss: 0.1335 - acc: 0.9591 - val_loss: 0.1084 - val_acc: 0.9711\n",
            "Epoch 196/200\n",
            "60000/60000 [==============================] - 2s 37us/step - loss: 0.1315 - acc: 0.9590 - val_loss: 0.1063 - val_acc: 0.9723\n",
            "Epoch 197/200\n",
            "60000/60000 [==============================] - 2s 37us/step - loss: 0.1329 - acc: 0.9599 - val_loss: 0.1050 - val_acc: 0.9711\n",
            "Epoch 198/200\n",
            "60000/60000 [==============================] - 2s 37us/step - loss: 0.1310 - acc: 0.9599 - val_loss: 0.1079 - val_acc: 0.9710\n",
            "Epoch 199/200\n",
            "60000/60000 [==============================] - 2s 36us/step - loss: 0.1297 - acc: 0.9596 - val_loss: 0.1091 - val_acc: 0.9708\n",
            "Epoch 200/200\n",
            "60000/60000 [==============================] - 2s 37us/step - loss: 0.1316 - acc: 0.9601 - val_loss: 0.1105 - val_acc: 0.9711\n"
          ],
          "name": "stdout"
        },
        {
          "output_type": "execute_result",
          "data": {
            "text/plain": [
              "<keras.callbacks.History at 0x7fb0856ed588>"
            ]
          },
          "metadata": {
            "tags": []
          },
          "execution_count": 23
        }
      ]
    },
    {
      "cell_type": "code",
      "metadata": {
        "id": "QC2VO4p_gUV_",
        "colab_type": "code",
        "colab": {}
      },
      "source": [
        ""
      ],
      "execution_count": 0,
      "outputs": []
    }
  ]
}