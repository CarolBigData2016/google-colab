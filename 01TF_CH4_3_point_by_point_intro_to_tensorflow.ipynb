{
  "nbformat": 4,
  "nbformat_minor": 0,
  "metadata": {
    "kernelspec": {
      "display_name": "Python 3",
      "language": "python",
      "name": "python3"
    },
    "language_info": {
      "codemirror_mode": {
        "name": "ipython",
        "version": 3
      },
      "file_extension": ".py",
      "mimetype": "text/x-python",
      "name": "python",
      "nbconvert_exporter": "python",
      "pygments_lexer": "ipython3",
      "version": "3.6.1"
    },
    "colab": {
      "name": "01TF_CH4.3_point_by_point_intro_to_tensorflow.ipynb",
      "provenance": [],
      "collapsed_sections": [],
      "include_colab_link": true
    }
  },
  "cells": [
    {
      "cell_type": "markdown",
      "metadata": {
        "id": "view-in-github",
        "colab_type": "text"
      },
      "source": [
        "<a href=\"https://colab.research.google.com/github/CarolBigData2016/google-colab/blob/master/01TF_CH4_3_point_by_point_intro_to_tensorflow.ipynb\" target=\"_parent\"><img src=\"https://colab.research.google.com/assets/colab-badge.svg\" alt=\"Open In Colab\"/></a>"
      ]
    },
    {
      "cell_type": "markdown",
      "metadata": {
        "id": "1IsQ1JT6fgC7",
        "colab_type": "text"
      },
      "source": [
        "# Introduction to TensorFlow, fitting point by point"
      ]
    },
    {
      "cell_type": "markdown",
      "metadata": {
        "id": "oIWBoFPufgDD",
        "colab_type": "text"
      },
      "source": [
        "In this notebook, we introduce TensorFlow by fitting a line of the form y=m\\*x+b point by point. This is a derivation of Jared Ostmeyer's [Naked Tensor](https://github.com/jostmey/NakedTensor/) code. "
      ]
    },
    {
      "cell_type": "markdown",
      "metadata": {
        "id": "NDYEQ_5MfgDG",
        "colab_type": "text"
      },
      "source": [
        "#### Load dependencies and set seeds for reproducibility"
      ]
    },
    {
      "cell_type": "code",
      "metadata": {
        "id": "RwFeI9pZfgDI",
        "colab_type": "code",
        "colab": {
          "base_uri": "https://localhost:8080/",
          "height": 63
        },
        "outputId": "253b2e98-6d0b-4787-9b68-804e8ef053f4"
      },
      "source": [
        "import numpy as np\n",
        "np.random.seed(42)\n",
        "import pandas as pd\n",
        "import matplotlib.pyplot as plt\n",
        "%matplotlib inline\n",
        "import tensorflow as tf\n",
        "tf.set_random_seed(42)"
      ],
      "execution_count": 1,
      "outputs": [
        {
          "output_type": "display_data",
          "data": {
            "text/html": [
              "<p style=\"color: red;\">\n",
              "The default version of TensorFlow in Colab will soon switch to TensorFlow 2.x.<br>\n",
              "We recommend you <a href=\"https://www.tensorflow.org/guide/migrate\" target=\"_blank\">upgrade</a> now \n",
              "or ensure your notebook will continue to use TensorFlow 1.x via the <code>%tensorflow_version 1.x</code> magic:\n",
              "<a href=\"https://colab.research.google.com/notebooks/tensorflow_version.ipynb\" target=\"_blank\">more info</a>.</p>\n"
            ],
            "text/plain": [
              "<IPython.core.display.HTML object>"
            ]
          },
          "metadata": {
            "tags": []
          }
        }
      ]
    },
    {
      "cell_type": "markdown",
      "metadata": {
        "id": "76XdKr4bfgDP",
        "colab_type": "text"
      },
      "source": [
        "#### Create a very small data set"
      ]
    },
    {
      "cell_type": "code",
      "metadata": {
        "id": "2-Uro51NfgDR",
        "colab_type": "code",
        "colab": {}
      },
      "source": [
        "xs = [0., 1., 2., 3., 4., 5., 6., 7.] # feature (independent variable)\n",
        "ys = [-.82, -.94, -.12, .26, .39, .64, 1.02, 1.] # labels (dependent variable)"
      ],
      "execution_count": 0,
      "outputs": []
    },
    {
      "cell_type": "code",
      "metadata": {
        "id": "mF1uq6V8fgDY",
        "colab_type": "code",
        "colab": {},
        "outputId": "6c39dbd7-167c-48d1-e312-677eede101f9"
      },
      "source": [
        "fig, ax = plt.subplots()\n",
        "_ = ax.scatter(xs, ys)\n",
        "# we see that there is a liniear coordination between these points. This we want to learn with tensor flow."
      ],
      "execution_count": 0,
      "outputs": [
        {
          "output_type": "display_data",
          "data": {
            "image/png": "[encoded data removed]",
            "text/plain": [
              "<matplotlib.figure.Figure at 0x7f19b45c1be0>"
            ]
          },
          "metadata": {
            "tags": []
          }
        }
      ]
    },
    {
      "cell_type": "markdown",
      "metadata": {
        "id": "nTFK1LP5fgDk",
        "colab_type": "text"
      },
      "source": [
        "#### Define *variables* -- the model parameters we'll learn -- and initialize them with \"random\" values"
      ]
    },
    {
      "cell_type": "code",
      "metadata": {
        "id": "2szKUBKnfgDl",
        "colab_type": "code",
        "colab": {}
      },
      "source": [
        "# m will be the slope of the line. We can see that it will have a positive slope, never the less, we will initiate it with a neg. slope value.\n",
        "# b the intercept also needs to be defined, set it to 1. It doesn't really matter what you set these 2 values to, close to zero is fine.\n",
        "m = tf.Variable(-0.5)\n",
        "b = tf.Variable(1.0)"
      ],
      "execution_count": 0,
      "outputs": []
    },
    {
      "cell_type": "markdown",
      "metadata": {
        "id": "fdGZYZSRfgDr",
        "colab_type": "text"
      },
      "source": [
        "#### One single point at a time, define the error between the true label and the model's prediction of the label"
      ]
    },
    {
      "cell_type": "code",
      "metadata": {
        "id": "28oEFXFHfgDt",
        "colab_type": "code",
        "colab": {}
      },
      "source": [
        "# Let's compute the quadratic cost, although we know, it's not quiet accurate.\n",
        "# start with a total error of 0\n",
        "total_error = 0.0\n",
        "# zip x and y together, so we can work with the values side-by-side in a single object\n",
        "for x,y in zip(xs, ys):\n",
        "    y_model = m*x + b # the predicted model output here y_model; but also often called y_hat\n",
        "    total_error += (y-y_model)**2 # sum of squared error between true and predicted y; the \"cost\" is to be minimized"
      ],
      "execution_count": 0,
      "outputs": []
    },
    {
      "cell_type": "markdown",
      "metadata": {
        "id": "fBX92K3SfgDx",
        "colab_type": "text"
      },
      "source": [
        "#### Define optimizer as SSE-minimizing gradient descent"
      ]
    },
    {
      "cell_type": "code",
      "metadata": {
        "id": "DYZtzV-7fgDz",
        "colab_type": "code",
        "colab": {
          "base_uri": "https://localhost:8080/",
          "height": 88
        },
        "outputId": "59bbd0f8-ffb1-46dd-8a3e-7b2655fb45ea"
      },
      "source": [
        "optimizer_operation = tf.train.GradientDescentOptimizer(learning_rate=0.001).minimize(total_error) \n",
        "# illustrate learning rate too high: \n",
        "# optimizer_operation = tf.train.GradientDescentOptimizer(learning_rate=0.01).minimize(total_error) \n",
        "# optimizer_operation = tf.train.GradientDescentOptimizer(learning_rate=0.1).minimize(total_error) "
      ],
      "execution_count": 6,
      "outputs": [
        {
          "output_type": "stream",
          "text": [
            "WARNING:tensorflow:From /usr/local/lib/python3.6/dist-packages/tensorflow_core/python/ops/math_grad.py:1375: where (from tensorflow.python.ops.array_ops) is deprecated and will be removed in a future version.\n",
            "Instructions for updating:\n",
            "Use tf.where in 2.0, which has the same broadcast rule as np.where\n"
          ],
          "name": "stdout"
        }
      ]
    },
    {
      "cell_type": "markdown",
      "metadata": {
        "id": "eytjNX_tfgD6",
        "colab_type": "text"
      },
      "source": [
        "#### Define an operator that will initialize the graph with all available global variables"
      ]
    },
    {
      "cell_type": "code",
      "metadata": {
        "id": "CXY5AiblfgD8",
        "colab_type": "code",
        "colab": {}
      },
      "source": [
        "initializer_operation = tf.global_variables_initializer()"
      ],
      "execution_count": 0,
      "outputs": []
    },
    {
      "cell_type": "markdown",
      "metadata": {
        "id": "Z5pM9p3lfgED",
        "colab_type": "text"
      },
      "source": [
        "#### With the computational graph designed, we initialize a session to execute it"
      ]
    },
    {
      "cell_type": "code",
      "metadata": {
        "id": "wVbNPrtffgEF",
        "colab_type": "code",
        "colab": {}
      },
      "source": [
        "with tf.Session() as session:\n",
        "    \n",
        "    session.run(initializer_operation) \n",
        "        \n",
        "    n_epochs = 1000 # run notebook through with 10, then run again with 1000\n",
        "    for iteration in range(n_epochs):\n",
        "        session.run(optimizer_operation) # this line executes the graph once, taking a single step toward minimizing cost\n",
        "    \n",
        "    slope, intercept = session.run([m, b])  # fetch the m and b operators"
      ],
      "execution_count": 0,
      "outputs": []
    },
    {
      "cell_type": "code",
      "metadata": {
        "id": "sODEjg7yfgEJ",
        "colab_type": "code",
        "colab": {
          "base_uri": "https://localhost:8080/",
          "height": 34
        },
        "outputId": "81ec9c07-0381-4865-a048-9b4f60ecb197"
      },
      "source": [
        "slope"
      ],
      "execution_count": 9,
      "outputs": [
        {
          "output_type": "execute_result",
          "data": {
            "text/plain": [
              "0.29314372"
            ]
          },
          "metadata": {
            "tags": []
          },
          "execution_count": 9
        }
      ]
    },
    {
      "cell_type": "code",
      "metadata": {
        "id": "cR5C2UqAfgEO",
        "colab_type": "code",
        "colab": {
          "base_uri": "https://localhost:8080/",
          "height": 34
        },
        "outputId": "a879ad1b-b740-4c8e-bf00-77cb4cadac28"
      },
      "source": [
        "intercept"
      ],
      "execution_count": 10,
      "outputs": [
        {
          "output_type": "execute_result",
          "data": {
            "text/plain": [
              "-0.84175235"
            ]
          },
          "metadata": {
            "tags": []
          },
          "execution_count": 10
        }
      ]
    },
    {
      "cell_type": "markdown",
      "metadata": {
        "id": "9qAOxJbnfgES",
        "colab_type": "text"
      },
      "source": [
        "#### Calculate the predicted model outputs given the inputs xs"
      ]
    },
    {
      "cell_type": "code",
      "metadata": {
        "id": "z6IzGfAEfgEV",
        "colab_type": "code",
        "colab": {}
      },
      "source": [
        "y_hat = intercept + slope*np.array(xs)\n",
        "# need to use np.array to fix the xs together"
      ],
      "execution_count": 0,
      "outputs": []
    },
    {
      "cell_type": "code",
      "metadata": {
        "id": "KEUPRwN-fgEd",
        "colab_type": "code",
        "colab": {
          "base_uri": "https://localhost:8080/",
          "height": 297
        },
        "outputId": "66129d81-f208-4b5b-815a-23a4d7e28059"
      },
      "source": [
        "pd.DataFrame(list(zip(ys, y_hat)), columns=['y', 'y_hat'])"
      ],
      "execution_count": 12,
      "outputs": [
        {
          "output_type": "execute_result",
          "data": {
            "text/html": [
              "<div>\n",
              "<style scoped>\n",
              "    .dataframe tbody tr th:only-of-type {\n",
              "        vertical-align: middle;\n",
              "    }\n",
              "\n",
              "    .dataframe tbody tr th {\n",
              "        vertical-align: top;\n",
              "    }\n",
              "\n",
              "    .dataframe thead th {\n",
              "        text-align: right;\n",
              "    }\n",
              "</style>\n",
              "<table border=\"1\" class=\"dataframe\">\n",
              "  <thead>\n",
              "    <tr style=\"text-align: right;\">\n",
              "      <th></th>\n",
              "      <th>y</th>\n",
              "      <th>y_hat</th>\n",
              "    </tr>\n",
              "  </thead>\n",
              "  <tbody>\n",
              "    <tr>\n",
              "      <th>0</th>\n",
              "      <td>-0.82</td>\n",
              "      <td>-0.841752</td>\n",
              "    </tr>\n",
              "    <tr>\n",
              "      <th>1</th>\n",
              "      <td>-0.94</td>\n",
              "      <td>-0.548609</td>\n",
              "    </tr>\n",
              "    <tr>\n",
              "      <th>2</th>\n",
              "      <td>-0.12</td>\n",
              "      <td>-0.255465</td>\n",
              "    </tr>\n",
              "    <tr>\n",
              "      <th>3</th>\n",
              "      <td>0.26</td>\n",
              "      <td>0.037679</td>\n",
              "    </tr>\n",
              "    <tr>\n",
              "      <th>4</th>\n",
              "      <td>0.39</td>\n",
              "      <td>0.330823</td>\n",
              "    </tr>\n",
              "    <tr>\n",
              "      <th>5</th>\n",
              "      <td>0.64</td>\n",
              "      <td>0.623966</td>\n",
              "    </tr>\n",
              "    <tr>\n",
              "      <th>6</th>\n",
              "      <td>1.02</td>\n",
              "      <td>0.917110</td>\n",
              "    </tr>\n",
              "    <tr>\n",
              "      <th>7</th>\n",
              "      <td>1.00</td>\n",
              "      <td>1.210254</td>\n",
              "    </tr>\n",
              "  </tbody>\n",
              "</table>\n",
              "</div>"
            ],
            "text/plain": [
              "      y     y_hat\n",
              "0 -0.82 -0.841752\n",
              "1 -0.94 -0.548609\n",
              "2 -0.12 -0.255465\n",
              "3  0.26  0.037679\n",
              "4  0.39  0.330823\n",
              "5  0.64  0.623966\n",
              "6  1.02  0.917110\n",
              "7  1.00  1.210254"
            ]
          },
          "metadata": {
            "tags": []
          },
          "execution_count": 12
        }
      ]
    },
    {
      "cell_type": "code",
      "metadata": {
        "id": "gOgFBIMGfgEn",
        "colab_type": "code",
        "colab": {
          "base_uri": "https://localhost:8080/",
          "height": 266
        },
        "outputId": "ea2c4dfc-3807-46c1-8b91-8a47001fd774"
      },
      "source": [
        "fig, ax = plt.subplots()\n",
        "\n",
        "ax.scatter(xs, ys)\n",
        "x_min, x_max = ax.get_xlim()\n",
        "y_min, y_max = intercept, intercept + slope*(x_max-x_min)\n",
        "\n",
        "ax.plot([x_min, x_max], [y_min, y_max])\n",
        "_ = ax.set_xlim([x_min, x_max])"
      ],
      "execution_count": 13,
      "outputs": [
        {
          "output_type": "display_data",
          "data": {
            "image/png": "[encoded data removed]",
            "text/plain": [
              "<Figure size 432x288 with 1 Axes>"
            ]
          },
          "metadata": {
            "tags": []
          }
        }
      ]
    },
    {
      "cell_type": "code",
      "metadata": {
        "id": "GIPPnmEEfgEw",
        "colab_type": "code",
        "colab": {}
      },
      "source": [
        ""
      ],
      "execution_count": 0,
      "outputs": []
    }
  ]
}