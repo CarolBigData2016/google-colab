{
  "nbformat": 4,
  "nbformat_minor": 0,
  "metadata": {
    "kernelspec": {
      "display_name": "Python 3",
      "language": "python",
      "name": "python3"
    },
    "language_info": {
      "codemirror_mode": {
        "name": "ipython",
        "version": 3
      },
      "file_extension": ".py",
      "mimetype": "text/x-python",
      "name": "python",
      "nbconvert_exporter": "python",
      "pygments_lexer": "ipython3",
      "version": "3.6.1"
    },
    "colab": {
      "name": "01TF_CH4.3_intro_to_tensorflow_times_a_million.ipynb",
      "provenance": [],
      "collapsed_sections": [],
      "include_colab_link": true
    }
  },
  "cells": [
    {
      "cell_type": "markdown",
      "metadata": {
        "id": "view-in-github",
        "colab_type": "text"
      },
      "source": [
        "<a href=\"https://colab.research.google.com/github/CarolBigData2016/google-colab/blob/master/01TF_CH4_3_intro_to_tensorflow_times_a_million.ipynb\" target=\"_parent\"><img src=\"https://colab.research.google.com/assets/colab-badge.svg\" alt=\"Open In Colab\"/></a>"
      ]
    },
    {
      "cell_type": "markdown",
      "metadata": {
        "id": "DorphqF8pzLD",
        "colab_type": "text"
      },
      "source": [
        "# (Introduction to Tensorflow) * 10^6"
      ]
    },
    {
      "cell_type": "markdown",
      "metadata": {
        "id": "PGBNXYZEpzLI",
        "colab_type": "text"
      },
      "source": [
        "In this notebook, we modify the [tensor-fied intro to TensorFlow notebook](https://github.com/the-deep-learners/TensorFlow-LiveLessons/blob/master/notebooks/tensor-fied_intro_to_tensorflow.ipynb) to use placeholder tensors and feed in data from a data set of millions of points. This is a derivation of Jared Ostmeyer's [Naked Tensor](https://github.com/jostmey/NakedTensor/) code. "
      ]
    },
    {
      "cell_type": "code",
      "metadata": {
        "id": "fZY1fqzfpzLJ",
        "colab_type": "code",
        "colab": {
          "base_uri": "https://localhost:8080/",
          "height": 63
        },
        "outputId": "81af269a-e1a4-4829-faff-3642cb263e74"
      },
      "source": [
        "import numpy as np\n",
        "np.random.seed(42)\n",
        "import pandas as pd\n",
        "import matplotlib.pyplot as plt\n",
        "%matplotlib inline\n",
        "import tensorflow as tf\n",
        "tf.set_random_seed(42)"
      ],
      "execution_count": 1,
      "outputs": [
        {
          "output_type": "display_data",
          "data": {
            "text/html": [
              "<p style=\"color: red;\">\n",
              "The default version of TensorFlow in Colab will soon switch to TensorFlow 2.x.<br>\n",
              "We recommend you <a href=\"https://www.tensorflow.org/guide/migrate\" target=\"_blank\">upgrade</a> now \n",
              "or ensure your notebook will continue to use TensorFlow 1.x via the <code>%tensorflow_version 1.x</code> magic:\n",
              "<a href=\"https://colab.research.google.com/notebooks/tensorflow_version.ipynb\" target=\"_blank\">more info</a>.</p>\n"
            ],
            "text/plain": [
              "<IPython.core.display.HTML object>"
            ]
          },
          "metadata": {
            "tags": []
          }
        }
      ]
    },
    {
      "cell_type": "code",
      "metadata": {
        "id": "rx2dqDOypzLS",
        "colab_type": "code",
        "colab": {}
      },
      "source": [
        "xs = np.linspace(0., 8., 8000000) # eight million points spaced evenly over the interval zero to eight, can be created with np.linspace method.\n",
        "ys = 0.3*xs-0.8+np.random.normal(scale=0.25, size=len(xs)) # eight million labels given xs, m=0.3, b=-0.8, plus normally-distributed noise"
      ],
      "execution_count": 0,
      "outputs": []
    },
    {
      "cell_type": "code",
      "metadata": {
        "id": "VyTDntfHpzLY",
        "colab_type": "code",
        "colab": {
          "base_uri": "https://localhost:8080/",
          "height": 265
        },
        "outputId": "8dea0c75-0155-41a3-a5b4-f780a8c42c27"
      },
      "source": [
        "fig, ax = plt.subplots()\n",
        "data_subset = pd.DataFrame(list(zip(xs, ys)), columns=['x', 'y']).sample(n=1000) # sample some 1000 points for plotting, since 8 million points will be too many\n",
        "_ = ax.scatter(data_subset.x, data_subset.y)"
      ],
      "execution_count": 13,
      "outputs": [
        {
          "output_type": "display_data",
          "data": {
            "image/png": "[encoded data removed]",
            "text/plain": [
              "<Figure size 432x288 with 1 Axes>"
            ]
          },
          "metadata": {
            "tags": []
          }
        }
      ]
    },
    {
      "cell_type": "code",
      "metadata": {
        "id": "FohvkzpspzLf",
        "colab_type": "code",
        "colab": {}
      },
      "source": [
        "m = tf.Variable(-0.5)\n",
        "b = tf.Variable(1.0)"
      ],
      "execution_count": 0,
      "outputs": []
    },
    {
      "cell_type": "code",
      "metadata": {
        "id": "aKm7QF3kpzLl",
        "colab_type": "code",
        "colab": {}
      },
      "source": [
        "batch_size = 8 # sample mini-batches of size eight for each step of gradient descent"
      ],
      "execution_count": 0,
      "outputs": []
    },
    {
      "cell_type": "markdown",
      "metadata": {
        "id": "8_WDjJIPpzLq",
        "colab_type": "text"
      },
      "source": [
        "#### Define *placeholder tensors* of length *batch_size* whose values will be filled in during graph execution"
      ]
    },
    {
      "cell_type": "code",
      "metadata": {
        "id": "Qhjg95HJpzLr",
        "colab_type": "code",
        "colab": {}
      },
      "source": [
        "xs_placeholder = tf.placeholder(tf.float32, [batch_size])\n",
        "ys_placeholder = tf.placeholder(tf.float32, [batch_size])"
      ],
      "execution_count": 0,
      "outputs": []
    },
    {
      "cell_type": "markdown",
      "metadata": {
        "id": "oM-jBFvPpzLz",
        "colab_type": "text"
      },
      "source": [
        "#### Define graph that incorporates placeholders"
      ]
    },
    {
      "cell_type": "code",
      "metadata": {
        "id": "7qONISp6pzL0",
        "colab_type": "code",
        "colab": {}
      },
      "source": [
        "ys_model = m*xs_placeholder+b\n",
        "total_error = tf.reduce_sum((ys_placeholder-ys_model)**2)"
      ],
      "execution_count": 0,
      "outputs": []
    },
    {
      "cell_type": "code",
      "metadata": {
        "id": "-3YdrXYcpzL6",
        "colab_type": "code",
        "colab": {}
      },
      "source": [
        "optimizer_operation = tf.train.GradientDescentOptimizer(learning_rate=0.001).minimize(total_error) # demo 0.01, 0.0001"
      ],
      "execution_count": 0,
      "outputs": []
    },
    {
      "cell_type": "code",
      "metadata": {
        "id": "QOjalC-ypzL-",
        "colab_type": "code",
        "colab": {}
      },
      "source": [
        "initializer_operation = tf.global_variables_initializer()"
      ],
      "execution_count": 0,
      "outputs": []
    },
    {
      "cell_type": "markdown",
      "metadata": {
        "id": "MfSRxKy_pzMC",
        "colab_type": "text"
      },
      "source": [
        "#### Sample from the full data set while running the session"
      ]
    },
    {
      "cell_type": "code",
      "metadata": {
        "id": "KK4yPM1GpzMD",
        "colab_type": "code",
        "colab": {}
      },
      "source": [
        "with tf.Session() as session:\n",
        "    \n",
        "    session.run(initializer_operation)\n",
        "    \n",
        "    n_batches = 1000 # 10, then 1000\n",
        "    for iteration in range(n_batches):\n",
        "        random_indices = np.random.randint(len(xs), size=batch_size) # sample the batch by random selection\n",
        "        feed = { # feeds are dictionaries\n",
        "            xs_placeholder: xs[random_indices],\n",
        "            ys_placeholder: ys[random_indices]\n",
        "        }\n",
        "        session.run(optimizer_operation, feed_dict=feed) # minimize cost with the mini-batch\n",
        "    \n",
        "    slope, intercept = session.run([m, b])"
      ],
      "execution_count": 0,
      "outputs": []
    },
    {
      "cell_type": "code",
      "metadata": {
        "id": "e-gx-uVSpzMH",
        "colab_type": "code",
        "colab": {
          "base_uri": "https://localhost:8080/",
          "height": 34
        },
        "outputId": "aa959243-c5d6-4125-85f1-a9f75ddf30c1"
      },
      "source": [
        "slope"
      ],
      "execution_count": 11,
      "outputs": [
        {
          "output_type": "execute_result",
          "data": {
            "text/plain": [
              "0.30601835"
            ]
          },
          "metadata": {
            "tags": []
          },
          "execution_count": 11
        }
      ]
    },
    {
      "cell_type": "code",
      "metadata": {
        "id": "vsavkRIKpzML",
        "colab_type": "code",
        "colab": {
          "base_uri": "https://localhost:8080/",
          "height": 34
        },
        "outputId": "22ae8706-49b3-477a-94c0-70cb8ea71c10"
      },
      "source": [
        "intercept"
      ],
      "execution_count": 12,
      "outputs": [
        {
          "output_type": "execute_result",
          "data": {
            "text/plain": [
              "-0.77169347"
            ]
          },
          "metadata": {
            "tags": []
          },
          "execution_count": 12
        }
      ]
    },
    {
      "cell_type": "code",
      "metadata": {
        "id": "p1Y6dXNVpzMP",
        "colab_type": "code",
        "colab": {}
      },
      "source": [
        ""
      ],
      "execution_count": 0,
      "outputs": []
    }
  ]
}