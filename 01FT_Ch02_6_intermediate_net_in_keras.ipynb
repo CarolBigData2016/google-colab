{
  "nbformat": 4,
  "nbformat_minor": 0,
  "metadata": {
    "kernelspec": {
      "display_name": "Python 3",
      "language": "python",
      "name": "python3"
    },
    "language_info": {
      "codemirror_mode": {
        "name": "ipython",
        "version": 3
      },
      "file_extension": ".py",
      "mimetype": "text/x-python",
      "name": "python",
      "nbconvert_exporter": "python",
      "pygments_lexer": "ipython3",
      "version": "3.5.2"
    },
    "colab": {
      "name": "01FT_Ch02.6_intermediate_net_in_keras.ipynb",
      "provenance": [],
      "collapsed_sections": [],
      "include_colab_link": true
    }
  },
  "cells": [
    {
      "cell_type": "markdown",
      "metadata": {
        "id": "view-in-github",
        "colab_type": "text"
      },
      "source": [
        "<a href=\"https://colab.research.google.com/github/CarolBigData2016/google-colab/blob/master/01FT_Ch02_6_intermediate_net_in_keras.ipynb\" target=\"_parent\"><img src=\"https://colab.research.google.com/assets/colab-badge.svg\" alt=\"Open In Colab\"/></a>"
      ]
    },
    {
      "cell_type": "markdown",
      "metadata": {
        "id": "W6HaPUmJG9zF",
        "colab_type": "text"
      },
      "source": [
        "# Intermediate Neural Network in Keras"
      ]
    },
    {
      "cell_type": "markdown",
      "metadata": {
        "id": "fKrXQlwrG9zO",
        "colab_type": "text"
      },
      "source": [
        "In this notebook, we improve our [introductory shallow net](https://github.com/the-deep-learners/TensorFlow-LiveLessons/blob/master/notebooks/shallow_net_in_keras.ipynb) from Lesson 1 by applying the theory we have covered since. "
      ]
    },
    {
      "cell_type": "markdown",
      "metadata": {
        "id": "nszGRbYYG9zS",
        "colab_type": "text"
      },
      "source": [
        "#### Set seed for reproducibility"
      ]
    },
    {
      "cell_type": "code",
      "metadata": {
        "id": "aMOzGhgdG9zW",
        "colab_type": "code",
        "colab": {}
      },
      "source": [
        "import numpy as np\n",
        "np.random.seed(42)"
      ],
      "execution_count": 0,
      "outputs": []
    },
    {
      "cell_type": "markdown",
      "metadata": {
        "id": "J8gXaXPXG9zj",
        "colab_type": "text"
      },
      "source": [
        "#### Load dependencies"
      ]
    },
    {
      "cell_type": "code",
      "metadata": {
        "id": "ktzwpCLUG9zm",
        "colab_type": "code",
        "colab": {
          "base_uri": "https://localhost:8080/",
          "height": 80
        },
        "outputId": "d211e56a-70b1-4be1-e972-3f7993a5a868"
      },
      "source": [
        "import keras\n",
        "from keras.datasets import mnist\n",
        "from keras.models import Sequential\n",
        "from keras.layers import Dense\n",
        "from keras.optimizers import SGD"
      ],
      "execution_count": 2,
      "outputs": [
        {
          "output_type": "stream",
          "text": [
            "Using TensorFlow backend.\n"
          ],
          "name": "stderr"
        },
        {
          "output_type": "display_data",
          "data": {
            "text/html": [
              "<p style=\"color: red;\">\n",
              "The default version of TensorFlow in Colab will soon switch to TensorFlow 2.x.<br>\n",
              "We recommend you <a href=\"https://www.tensorflow.org/guide/migrate\" target=\"_blank\">upgrade</a> now \n",
              "or ensure your notebook will continue to use TensorFlow 1.x via the <code>%tensorflow_version 1.x</code> magic:\n",
              "<a href=\"https://colab.research.google.com/notebooks/tensorflow_version.ipynb\" target=\"_blank\">more info</a>.</p>\n"
            ],
            "text/plain": [
              "<IPython.core.display.HTML object>"
            ]
          },
          "metadata": {
            "tags": []
          }
        }
      ]
    },
    {
      "cell_type": "markdown",
      "metadata": {
        "id": "FmkctI_2G9zw",
        "colab_type": "text"
      },
      "source": [
        "#### Load data"
      ]
    },
    {
      "cell_type": "code",
      "metadata": {
        "id": "ICICAXjRG9zy",
        "colab_type": "code",
        "colab": {
          "base_uri": "https://localhost:8080/",
          "height": 51
        },
        "outputId": "50367cd0-7fa6-4e8e-a95b-a2abca26b4d0"
      },
      "source": [
        "(X_train, y_train), (X_test, y_test) = mnist.load_data()"
      ],
      "execution_count": 3,
      "outputs": [
        {
          "output_type": "stream",
          "text": [
            "Downloading data from https://s3.amazonaws.com/img-datasets/mnist.npz\n",
            "11493376/11490434 [==============================] - 2s 0us/step\n"
          ],
          "name": "stdout"
        }
      ]
    },
    {
      "cell_type": "markdown",
      "metadata": {
        "id": "ex_NDiu1G9z7",
        "colab_type": "text"
      },
      "source": [
        "#### Preprocess data"
      ]
    },
    {
      "cell_type": "code",
      "metadata": {
        "id": "ymVlZKdvG9z-",
        "colab_type": "code",
        "colab": {}
      },
      "source": [
        "X_train = X_train.reshape(60000, 784).astype('float32')\n",
        "X_test = X_test.reshape(10000, 784).astype('float32')"
      ],
      "execution_count": 0,
      "outputs": []
    },
    {
      "cell_type": "code",
      "metadata": {
        "id": "JRkm4D8qG90H",
        "colab_type": "code",
        "colab": {}
      },
      "source": [
        "X_train /= 255\n",
        "X_test /= 255"
      ],
      "execution_count": 0,
      "outputs": []
    },
    {
      "cell_type": "code",
      "metadata": {
        "id": "ZPaWScQfG90U",
        "colab_type": "code",
        "colab": {}
      },
      "source": [
        "n_classes = 10\n",
        "y_train = keras.utils.to_categorical(y_train, n_classes)\n",
        "y_test = keras.utils.to_categorical(y_test, n_classes)"
      ],
      "execution_count": 0,
      "outputs": []
    },
    {
      "cell_type": "markdown",
      "metadata": {
        "id": "MBC5gqYvG90f",
        "colab_type": "text"
      },
      "source": [
        "#### Design neural network architecture"
      ]
    },
    {
      "cell_type": "code",
      "metadata": {
        "id": "MuwZO1huG90i",
        "colab_type": "code",
        "colab": {
          "base_uri": "https://localhost:8080/",
          "height": 139
        },
        "outputId": "a310a3ce-c773-4e7a-9b00-6e69755c0e1a"
      },
      "source": [
        "model = Sequential()\n",
        "model.add(Dense(64, activation='relu', input_shape=(784,)))\n",
        "model.add(Dense(64, activation='relu'))\n",
        "model.add(Dense(10, activation='softmax'))"
      ],
      "execution_count": 7,
      "outputs": [
        {
          "output_type": "stream",
          "text": [
            "WARNING:tensorflow:From /usr/local/lib/python3.6/dist-packages/keras/backend/tensorflow_backend.py:66: The name tf.get_default_graph is deprecated. Please use tf.compat.v1.get_default_graph instead.\n",
            "\n",
            "WARNING:tensorflow:From /usr/local/lib/python3.6/dist-packages/keras/backend/tensorflow_backend.py:541: The name tf.placeholder is deprecated. Please use tf.compat.v1.placeholder instead.\n",
            "\n",
            "WARNING:tensorflow:From /usr/local/lib/python3.6/dist-packages/keras/backend/tensorflow_backend.py:4432: The name tf.random_uniform is deprecated. Please use tf.random.uniform instead.\n",
            "\n"
          ],
          "name": "stdout"
        }
      ]
    },
    {
      "cell_type": "code",
      "metadata": {
        "id": "Ys8qLxFfG90q",
        "colab_type": "code",
        "colab": {
          "base_uri": "https://localhost:8080/",
          "height": 255
        },
        "outputId": "25d516b9-0336-4880-fde9-8e449b4dd4f2"
      },
      "source": [
        "model.summary()"
      ],
      "execution_count": 8,
      "outputs": [
        {
          "output_type": "stream",
          "text": [
            "Model: \"sequential_1\"\n",
            "_________________________________________________________________\n",
            "Layer (type)                 Output Shape              Param #   \n",
            "=================================================================\n",
            "dense_1 (Dense)              (None, 64)                50240     \n",
            "_________________________________________________________________\n",
            "dense_2 (Dense)              (None, 64)                4160      \n",
            "_________________________________________________________________\n",
            "dense_3 (Dense)              (None, 10)                650       \n",
            "=================================================================\n",
            "Total params: 55,050\n",
            "Trainable params: 55,050\n",
            "Non-trainable params: 0\n",
            "_________________________________________________________________\n"
          ],
          "name": "stdout"
        }
      ]
    },
    {
      "cell_type": "markdown",
      "metadata": {
        "id": "wfVTj0NyG902",
        "colab_type": "text"
      },
      "source": [
        "#### Configure model"
      ]
    },
    {
      "cell_type": "code",
      "metadata": {
        "id": "5rmSB9ucG906",
        "colab_type": "code",
        "colab": {
          "base_uri": "https://localhost:8080/",
          "height": 85
        },
        "outputId": "0cd646d7-93f8-4f72-fa22-280c71991cb0"
      },
      "source": [
        "model.compile(loss='categorical_crossentropy', optimizer=SGD(lr=0.1), metrics=['accuracy'])"
      ],
      "execution_count": 9,
      "outputs": [
        {
          "output_type": "stream",
          "text": [
            "WARNING:tensorflow:From /usr/local/lib/python3.6/dist-packages/keras/optimizers.py:793: The name tf.train.Optimizer is deprecated. Please use tf.compat.v1.train.Optimizer instead.\n",
            "\n",
            "WARNING:tensorflow:From /usr/local/lib/python3.6/dist-packages/keras/backend/tensorflow_backend.py:3576: The name tf.log is deprecated. Please use tf.math.log instead.\n",
            "\n"
          ],
          "name": "stdout"
        }
      ]
    },
    {
      "cell_type": "markdown",
      "metadata": {
        "id": "EUWrq75SG91D",
        "colab_type": "text"
      },
      "source": [
        "#### Train!"
      ]
    },
    {
      "cell_type": "code",
      "metadata": {
        "id": "C27z1d--G91F",
        "colab_type": "code",
        "colab": {
          "base_uri": "https://localhost:8080/",
          "height": 1000
        },
        "outputId": "6ef22e7d-e49f-4735-eeb9-a9cd109d1ef7"
      },
      "source": [
        "model.fit(X_train, y_train, batch_size=128, epochs=200, verbose=1, validation_data=(X_test, y_test))"
      ],
      "execution_count": 10,
      "outputs": [
        {
          "output_type": "stream",
          "text": [
            "WARNING:tensorflow:From /usr/local/lib/python3.6/dist-packages/tensorflow_core/python/ops/math_grad.py:1424: where (from tensorflow.python.ops.array_ops) is deprecated and will be removed in a future version.\n",
            "Instructions for updating:\n",
            "Use tf.where in 2.0, which has the same broadcast rule as np.where\n",
            "WARNING:tensorflow:From /usr/local/lib/python3.6/dist-packages/keras/backend/tensorflow_backend.py:1033: The name tf.assign_add is deprecated. Please use tf.compat.v1.assign_add instead.\n",
            "\n",
            "WARNING:tensorflow:From /usr/local/lib/python3.6/dist-packages/keras/backend/tensorflow_backend.py:1020: The name tf.assign is deprecated. Please use tf.compat.v1.assign instead.\n",
            "\n",
            "WARNING:tensorflow:From /usr/local/lib/python3.6/dist-packages/keras/backend/tensorflow_backend.py:3005: The name tf.Session is deprecated. Please use tf.compat.v1.Session instead.\n",
            "\n",
            "Train on 60000 samples, validate on 10000 samples\n",
            "Epoch 1/200\n",
            "WARNING:tensorflow:From /usr/local/lib/python3.6/dist-packages/keras/backend/tensorflow_backend.py:190: The name tf.get_default_session is deprecated. Please use tf.compat.v1.get_default_session instead.\n",
            "\n",
            "WARNING:tensorflow:From /usr/local/lib/python3.6/dist-packages/keras/backend/tensorflow_backend.py:197: The name tf.ConfigProto is deprecated. Please use tf.compat.v1.ConfigProto instead.\n",
            "\n",
            "WARNING:tensorflow:From /usr/local/lib/python3.6/dist-packages/keras/backend/tensorflow_backend.py:207: The name tf.global_variables is deprecated. Please use tf.compat.v1.global_variables instead.\n",
            "\n",
            "WARNING:tensorflow:From /usr/local/lib/python3.6/dist-packages/keras/backend/tensorflow_backend.py:216: The name tf.is_variable_initialized is deprecated. Please use tf.compat.v1.is_variable_initialized instead.\n",
            "\n",
            "WARNING:tensorflow:From /usr/local/lib/python3.6/dist-packages/keras/backend/tensorflow_backend.py:223: The name tf.variables_initializer is deprecated. Please use tf.compat.v1.variables_initializer instead.\n",
            "\n",
            "60000/60000 [==============================] - 2s 41us/step - loss: 0.4791 - acc: 0.8638 - val_loss: 0.2495 - val_acc: 0.9262\n",
            "Epoch 2/200\n",
            "60000/60000 [==============================] - 2s 25us/step - loss: 0.2255 - acc: 0.9349 - val_loss: 0.1977 - val_acc: 0.9418\n",
            "Epoch 3/200\n",
            "60000/60000 [==============================] - 2s 26us/step - loss: 0.1728 - acc: 0.9495 - val_loss: 0.1510 - val_acc: 0.9549\n",
            "Epoch 4/200\n",
            "60000/60000 [==============================] - 1s 24us/step - loss: 0.1427 - acc: 0.9580 - val_loss: 0.1321 - val_acc: 0.9603\n",
            "Epoch 5/200\n",
            "60000/60000 [==============================] - 2s 25us/step - loss: 0.1215 - acc: 0.9647 - val_loss: 0.1298 - val_acc: 0.9600\n",
            "Epoch 6/200\n",
            "60000/60000 [==============================] - 2s 26us/step - loss: 0.1061 - acc: 0.9689 - val_loss: 0.1073 - val_acc: 0.9668\n",
            "Epoch 7/200\n",
            "60000/60000 [==============================] - 2s 26us/step - loss: 0.0942 - acc: 0.9720 - val_loss: 0.1001 - val_acc: 0.9701\n",
            "Epoch 8/200\n",
            "60000/60000 [==============================] - 1s 24us/step - loss: 0.0841 - acc: 0.9756 - val_loss: 0.0932 - val_acc: 0.9717\n",
            "Epoch 9/200\n",
            "60000/60000 [==============================] - 2s 25us/step - loss: 0.0773 - acc: 0.9769 - val_loss: 0.0902 - val_acc: 0.9724\n",
            "Epoch 10/200\n",
            "60000/60000 [==============================] - 1s 24us/step - loss: 0.0695 - acc: 0.9793 - val_loss: 0.0945 - val_acc: 0.9716\n",
            "Epoch 11/200\n",
            "60000/60000 [==============================] - 2s 26us/step - loss: 0.0644 - acc: 0.9806 - val_loss: 0.0877 - val_acc: 0.9745\n",
            "Epoch 12/200\n",
            "60000/60000 [==============================] - 1s 24us/step - loss: 0.0587 - acc: 0.9827 - val_loss: 0.0837 - val_acc: 0.9748\n",
            "Epoch 13/200\n",
            "60000/60000 [==============================] - 2s 26us/step - loss: 0.0533 - acc: 0.9841 - val_loss: 0.0884 - val_acc: 0.9724\n",
            "Epoch 14/200\n",
            "60000/60000 [==============================] - 1s 25us/step - loss: 0.0500 - acc: 0.9853 - val_loss: 0.0845 - val_acc: 0.9746\n",
            "Epoch 15/200\n",
            "60000/60000 [==============================] - 2s 26us/step - loss: 0.0468 - acc: 0.9866 - val_loss: 0.0860 - val_acc: 0.9728\n",
            "Epoch 16/200\n",
            "60000/60000 [==============================] - 1s 24us/step - loss: 0.0431 - acc: 0.9872 - val_loss: 0.0888 - val_acc: 0.9731\n",
            "Epoch 17/200\n",
            "60000/60000 [==============================] - 2s 26us/step - loss: 0.0408 - acc: 0.9877 - val_loss: 0.0848 - val_acc: 0.9747\n",
            "Epoch 18/200\n",
            "60000/60000 [==============================] - 1s 25us/step - loss: 0.0374 - acc: 0.9892 - val_loss: 0.0751 - val_acc: 0.9776\n",
            "Epoch 19/200\n",
            "60000/60000 [==============================] - 2s 26us/step - loss: 0.0345 - acc: 0.9904 - val_loss: 0.0811 - val_acc: 0.9751\n",
            "Epoch 20/200\n",
            "60000/60000 [==============================] - 1s 23us/step - loss: 0.0322 - acc: 0.9907 - val_loss: 0.0798 - val_acc: 0.9768\n",
            "Epoch 21/200\n",
            "60000/60000 [==============================] - 2s 27us/step - loss: 0.0314 - acc: 0.9912 - val_loss: 0.0805 - val_acc: 0.9756\n",
            "Epoch 22/200\n",
            "60000/60000 [==============================] - 1s 23us/step - loss: 0.0285 - acc: 0.9921 - val_loss: 0.0769 - val_acc: 0.9787\n",
            "Epoch 23/200\n",
            "60000/60000 [==============================] - 2s 25us/step - loss: 0.0265 - acc: 0.9923 - val_loss: 0.0785 - val_acc: 0.9777\n",
            "Epoch 24/200\n",
            "60000/60000 [==============================] - 1s 24us/step - loss: 0.0253 - acc: 0.9929 - val_loss: 0.0788 - val_acc: 0.9776\n",
            "Epoch 25/200\n",
            "60000/60000 [==============================] - 2s 25us/step - loss: 0.0232 - acc: 0.9934 - val_loss: 0.0848 - val_acc: 0.9756\n",
            "Epoch 26/200\n",
            "60000/60000 [==============================] - 1s 22us/step - loss: 0.0221 - acc: 0.9941 - val_loss: 0.0832 - val_acc: 0.9765\n",
            "Epoch 27/200\n",
            "60000/60000 [==============================] - 2s 27us/step - loss: 0.0199 - acc: 0.9948 - val_loss: 0.0825 - val_acc: 0.9773\n",
            "Epoch 28/200\n",
            "60000/60000 [==============================] - 1s 24us/step - loss: 0.0183 - acc: 0.9953 - val_loss: 0.0815 - val_acc: 0.9765\n",
            "Epoch 29/200\n",
            "60000/60000 [==============================] - 2s 25us/step - loss: 0.0172 - acc: 0.9959 - val_loss: 0.0805 - val_acc: 0.9782\n",
            "Epoch 30/200\n",
            "60000/60000 [==============================] - 1s 24us/step - loss: 0.0153 - acc: 0.9965 - val_loss: 0.0835 - val_acc: 0.9778\n",
            "Epoch 31/200\n",
            "60000/60000 [==============================] - 2s 25us/step - loss: 0.0150 - acc: 0.9965 - val_loss: 0.0808 - val_acc: 0.9775\n",
            "Epoch 32/200\n",
            "60000/60000 [==============================] - 1s 23us/step - loss: 0.0136 - acc: 0.9968 - val_loss: 0.0828 - val_acc: 0.9783\n",
            "Epoch 33/200\n",
            "60000/60000 [==============================] - 1s 25us/step - loss: 0.0121 - acc: 0.9974 - val_loss: 0.0852 - val_acc: 0.9765\n",
            "Epoch 34/200\n",
            "60000/60000 [==============================] - 1s 23us/step - loss: 0.0117 - acc: 0.9975 - val_loss: 0.0851 - val_acc: 0.9767\n",
            "Epoch 35/200\n",
            "60000/60000 [==============================] - 1s 24us/step - loss: 0.0109 - acc: 0.9979 - val_loss: 0.0994 - val_acc: 0.9728\n",
            "Epoch 36/200\n",
            "60000/60000 [==============================] - 1s 24us/step - loss: 0.0104 - acc: 0.9979 - val_loss: 0.0857 - val_acc: 0.9773\n",
            "Epoch 37/200\n",
            "60000/60000 [==============================] - 2s 26us/step - loss: 0.0096 - acc: 0.9982 - val_loss: 0.0872 - val_acc: 0.9771\n",
            "Epoch 38/200\n",
            "60000/60000 [==============================] - 1s 24us/step - loss: 0.0085 - acc: 0.9988 - val_loss: 0.0885 - val_acc: 0.9761\n",
            "Epoch 39/200\n",
            "60000/60000 [==============================] - 2s 26us/step - loss: 0.0079 - acc: 0.9989 - val_loss: 0.0963 - val_acc: 0.9748\n",
            "Epoch 40/200\n",
            "60000/60000 [==============================] - 1s 25us/step - loss: 0.0073 - acc: 0.9990 - val_loss: 0.0901 - val_acc: 0.9778\n",
            "Epoch 41/200\n",
            "60000/60000 [==============================] - 2s 27us/step - loss: 0.0073 - acc: 0.9989 - val_loss: 0.0887 - val_acc: 0.9765\n",
            "Epoch 42/200\n",
            "60000/60000 [==============================] - 1s 24us/step - loss: 0.0064 - acc: 0.9992 - val_loss: 0.0904 - val_acc: 0.9777\n",
            "Epoch 43/200\n",
            "60000/60000 [==============================] - 2s 27us/step - loss: 0.0059 - acc: 0.9993 - val_loss: 0.0927 - val_acc: 0.9776\n",
            "Epoch 44/200\n",
            "60000/60000 [==============================] - 1s 24us/step - loss: 0.0052 - acc: 0.9995 - val_loss: 0.0913 - val_acc: 0.9780\n",
            "Epoch 45/200\n",
            "60000/60000 [==============================] - 2s 26us/step - loss: 0.0052 - acc: 0.9996 - val_loss: 0.0924 - val_acc: 0.9773\n",
            "Epoch 46/200\n",
            "60000/60000 [==============================] - 1s 24us/step - loss: 0.0046 - acc: 0.9997 - val_loss: 0.0928 - val_acc: 0.9774\n",
            "Epoch 47/200\n",
            "60000/60000 [==============================] - 2s 26us/step - loss: 0.0044 - acc: 0.9997 - val_loss: 0.0928 - val_acc: 0.9778\n",
            "Epoch 48/200\n",
            "60000/60000 [==============================] - 1s 23us/step - loss: 0.0040 - acc: 0.9999 - val_loss: 0.0963 - val_acc: 0.9767\n",
            "Epoch 49/200\n",
            "60000/60000 [==============================] - 1s 24us/step - loss: 0.0038 - acc: 0.9998 - val_loss: 0.0949 - val_acc: 0.9774\n",
            "Epoch 50/200\n",
            "60000/60000 [==============================] - 1s 24us/step - loss: 0.0036 - acc: 0.9998 - val_loss: 0.0953 - val_acc: 0.9776\n",
            "Epoch 51/200\n",
            "60000/60000 [==============================] - 1s 23us/step - loss: 0.0033 - acc: 0.9999 - val_loss: 0.0963 - val_acc: 0.9777\n",
            "Epoch 52/200\n",
            "60000/60000 [==============================] - 1s 25us/step - loss: 0.0032 - acc: 0.9998 - val_loss: 0.0969 - val_acc: 0.9770\n",
            "Epoch 53/200\n",
            "60000/60000 [==============================] - 1s 23us/step - loss: 0.0031 - acc: 0.9999 - val_loss: 0.0959 - val_acc: 0.9777\n",
            "Epoch 54/200\n",
            "60000/60000 [==============================] - 1s 24us/step - loss: 0.0030 - acc: 0.9998 - val_loss: 0.0982 - val_acc: 0.9773\n",
            "Epoch 55/200\n",
            "60000/60000 [==============================] - 1s 23us/step - loss: 0.0029 - acc: 0.9999 - val_loss: 0.0981 - val_acc: 0.9783\n",
            "Epoch 56/200\n",
            "60000/60000 [==============================] - 1s 23us/step - loss: 0.0027 - acc: 0.9999 - val_loss: 0.0976 - val_acc: 0.9782\n",
            "Epoch 57/200\n",
            "60000/60000 [==============================] - 1s 25us/step - loss: 0.0025 - acc: 0.9999 - val_loss: 0.0980 - val_acc: 0.9777\n",
            "Epoch 58/200\n",
            "60000/60000 [==============================] - 2s 25us/step - loss: 0.0025 - acc: 1.0000 - val_loss: 0.0978 - val_acc: 0.9777\n",
            "Epoch 59/200\n",
            "60000/60000 [==============================] - 1s 23us/step - loss: 0.0023 - acc: 1.0000 - val_loss: 0.0994 - val_acc: 0.9777\n",
            "Epoch 60/200\n",
            "60000/60000 [==============================] - 1s 24us/step - loss: 0.0022 - acc: 1.0000 - val_loss: 0.1003 - val_acc: 0.9776\n",
            "Epoch 61/200\n",
            "60000/60000 [==============================] - 1s 23us/step - loss: 0.0021 - acc: 1.0000 - val_loss: 0.1012 - val_acc: 0.9778\n",
            "Epoch 62/200\n",
            "60000/60000 [==============================] - 1s 23us/step - loss: 0.0021 - acc: 1.0000 - val_loss: 0.1023 - val_acc: 0.9776\n",
            "Epoch 63/200\n",
            "60000/60000 [==============================] - 1s 23us/step - loss: 0.0020 - acc: 1.0000 - val_loss: 0.1021 - val_acc: 0.9776\n",
            "Epoch 64/200\n",
            "60000/60000 [==============================] - 2s 25us/step - loss: 0.0020 - acc: 1.0000 - val_loss: 0.1019 - val_acc: 0.9785\n",
            "Epoch 65/200\n",
            "60000/60000 [==============================] - 2s 25us/step - loss: 0.0019 - acc: 1.0000 - val_loss: 0.1027 - val_acc: 0.9781\n",
            "Epoch 66/200\n",
            "60000/60000 [==============================] - 2s 27us/step - loss: 0.0018 - acc: 1.0000 - val_loss: 0.1041 - val_acc: 0.9777\n",
            "Epoch 67/200\n",
            "60000/60000 [==============================] - 2s 27us/step - loss: 0.0018 - acc: 1.0000 - val_loss: 0.1029 - val_acc: 0.9778\n",
            "Epoch 68/200\n",
            "60000/60000 [==============================] - 2s 28us/step - loss: 0.0017 - acc: 1.0000 - val_loss: 0.1031 - val_acc: 0.9779\n",
            "Epoch 69/200\n",
            "60000/60000 [==============================] - 1s 24us/step - loss: 0.0017 - acc: 1.0000 - val_loss: 0.1050 - val_acc: 0.9776\n",
            "Epoch 70/200\n",
            "60000/60000 [==============================] - 1s 23us/step - loss: 0.0016 - acc: 1.0000 - val_loss: 0.1054 - val_acc: 0.9776\n",
            "Epoch 71/200\n",
            "60000/60000 [==============================] - 1s 23us/step - loss: 0.0016 - acc: 1.0000 - val_loss: 0.1047 - val_acc: 0.9776\n",
            "Epoch 72/200\n",
            "60000/60000 [==============================] - 1s 24us/step - loss: 0.0016 - acc: 1.0000 - val_loss: 0.1058 - val_acc: 0.9777\n",
            "Epoch 73/200\n",
            "60000/60000 [==============================] - 1s 23us/step - loss: 0.0015 - acc: 1.0000 - val_loss: 0.1050 - val_acc: 0.9782\n",
            "Epoch 74/200\n",
            "60000/60000 [==============================] - 1s 23us/step - loss: 0.0015 - acc: 1.0000 - val_loss: 0.1065 - val_acc: 0.9783\n",
            "Epoch 75/200\n",
            "60000/60000 [==============================] - 1s 23us/step - loss: 0.0014 - acc: 1.0000 - val_loss: 0.1060 - val_acc: 0.9783\n",
            "Epoch 76/200\n",
            "60000/60000 [==============================] - 1s 23us/step - loss: 0.0014 - acc: 1.0000 - val_loss: 0.1066 - val_acc: 0.9777\n",
            "Epoch 77/200\n",
            "60000/60000 [==============================] - 1s 24us/step - loss: 0.0014 - acc: 1.0000 - val_loss: 0.1069 - val_acc: 0.9782\n",
            "Epoch 78/200\n",
            "60000/60000 [==============================] - 1s 23us/step - loss: 0.0014 - acc: 1.0000 - val_loss: 0.1070 - val_acc: 0.9781\n",
            "Epoch 79/200\n",
            "60000/60000 [==============================] - 1s 24us/step - loss: 0.0013 - acc: 1.0000 - val_loss: 0.1079 - val_acc: 0.9781\n",
            "Epoch 80/200\n",
            "60000/60000 [==============================] - 1s 23us/step - loss: 0.0013 - acc: 1.0000 - val_loss: 0.1074 - val_acc: 0.9782\n",
            "Epoch 81/200\n",
            "60000/60000 [==============================] - 1s 25us/step - loss: 0.0013 - acc: 1.0000 - val_loss: 0.1099 - val_acc: 0.9776\n",
            "Epoch 82/200\n",
            "60000/60000 [==============================] - 1s 24us/step - loss: 0.0012 - acc: 1.0000 - val_loss: 0.1087 - val_acc: 0.9777\n",
            "Epoch 83/200\n",
            "60000/60000 [==============================] - 1s 24us/step - loss: 0.0012 - acc: 1.0000 - val_loss: 0.1084 - val_acc: 0.9781\n",
            "Epoch 84/200\n",
            "60000/60000 [==============================] - 1s 23us/step - loss: 0.0012 - acc: 1.0000 - val_loss: 0.1092 - val_acc: 0.9787\n",
            "Epoch 85/200\n",
            "60000/60000 [==============================] - 1s 24us/step - loss: 0.0012 - acc: 1.0000 - val_loss: 0.1091 - val_acc: 0.9779\n",
            "Epoch 86/200\n",
            "60000/60000 [==============================] - 2s 26us/step - loss: 0.0012 - acc: 1.0000 - val_loss: 0.1104 - val_acc: 0.9777\n",
            "Epoch 87/200\n",
            "60000/60000 [==============================] - 1s 24us/step - loss: 0.0011 - acc: 1.0000 - val_loss: 0.1095 - val_acc: 0.9781\n",
            "Epoch 88/200\n",
            "60000/60000 [==============================] - 1s 24us/step - loss: 0.0011 - acc: 1.0000 - val_loss: 0.1102 - val_acc: 0.9781\n",
            "Epoch 89/200\n",
            "60000/60000 [==============================] - 1s 24us/step - loss: 0.0011 - acc: 1.0000 - val_loss: 0.1103 - val_acc: 0.9779\n",
            "Epoch 90/200\n",
            "60000/60000 [==============================] - 1s 23us/step - loss: 0.0011 - acc: 1.0000 - val_loss: 0.1109 - val_acc: 0.9777\n",
            "Epoch 91/200\n",
            "60000/60000 [==============================] - 1s 23us/step - loss: 0.0011 - acc: 1.0000 - val_loss: 0.1114 - val_acc: 0.9777\n",
            "Epoch 92/200\n",
            "60000/60000 [==============================] - 1s 24us/step - loss: 0.0011 - acc: 1.0000 - val_loss: 0.1111 - val_acc: 0.9778\n",
            "Epoch 93/200\n",
            "60000/60000 [==============================] - 1s 24us/step - loss: 0.0010 - acc: 1.0000 - val_loss: 0.1120 - val_acc: 0.9777\n",
            "Epoch 94/200\n",
            "60000/60000 [==============================] - 1s 24us/step - loss: 0.0010 - acc: 1.0000 - val_loss: 0.1118 - val_acc: 0.9778\n",
            "Epoch 95/200\n",
            "60000/60000 [==============================] - 1s 24us/step - loss: 0.0010 - acc: 1.0000 - val_loss: 0.1122 - val_acc: 0.9778\n",
            "Epoch 96/200\n",
            "60000/60000 [==============================] - 1s 22us/step - loss: 9.9881e-04 - acc: 1.0000 - val_loss: 0.1121 - val_acc: 0.9782\n",
            "Epoch 97/200\n",
            "60000/60000 [==============================] - 1s 24us/step - loss: 9.8592e-04 - acc: 1.0000 - val_loss: 0.1119 - val_acc: 0.9777\n",
            "Epoch 98/200\n",
            "60000/60000 [==============================] - 1s 24us/step - loss: 9.7382e-04 - acc: 1.0000 - val_loss: 0.1123 - val_acc: 0.9780\n",
            "Epoch 99/200\n",
            "60000/60000 [==============================] - 1s 23us/step - loss: 9.5498e-04 - acc: 1.0000 - val_loss: 0.1126 - val_acc: 0.9778\n",
            "Epoch 100/200\n",
            "60000/60000 [==============================] - 1s 24us/step - loss: 9.4555e-04 - acc: 1.0000 - val_loss: 0.1124 - val_acc: 0.9779\n",
            "Epoch 101/200\n",
            "60000/60000 [==============================] - 1s 23us/step - loss: 9.3639e-04 - acc: 1.0000 - val_loss: 0.1133 - val_acc: 0.9782\n",
            "Epoch 102/200\n",
            "60000/60000 [==============================] - 1s 25us/step - loss: 9.2306e-04 - acc: 1.0000 - val_loss: 0.1136 - val_acc: 0.9780\n",
            "Epoch 103/200\n",
            "60000/60000 [==============================] - 1s 23us/step - loss: 9.1808e-04 - acc: 1.0000 - val_loss: 0.1137 - val_acc: 0.9784\n",
            "Epoch 104/200\n",
            "60000/60000 [==============================] - 1s 24us/step - loss: 8.9960e-04 - acc: 1.0000 - val_loss: 0.1138 - val_acc: 0.9784\n",
            "Epoch 105/200\n",
            "60000/60000 [==============================] - 1s 23us/step - loss: 8.8745e-04 - acc: 1.0000 - val_loss: 0.1140 - val_acc: 0.9778\n",
            "Epoch 106/200\n",
            "60000/60000 [==============================] - 1s 23us/step - loss: 8.8444e-04 - acc: 1.0000 - val_loss: 0.1144 - val_acc: 0.9776\n",
            "Epoch 107/200\n",
            "60000/60000 [==============================] - 1s 24us/step - loss: 8.7102e-04 - acc: 1.0000 - val_loss: 0.1142 - val_acc: 0.9781\n",
            "Epoch 108/200\n",
            "60000/60000 [==============================] - 1s 23us/step - loss: 8.6139e-04 - acc: 1.0000 - val_loss: 0.1144 - val_acc: 0.9780\n",
            "Epoch 109/200\n",
            "60000/60000 [==============================] - 1s 23us/step - loss: 8.5181e-04 - acc: 1.0000 - val_loss: 0.1146 - val_acc: 0.9780\n",
            "Epoch 110/200\n",
            "60000/60000 [==============================] - 1s 24us/step - loss: 8.4287e-04 - acc: 1.0000 - val_loss: 0.1150 - val_acc: 0.9782\n",
            "Epoch 111/200\n",
            "60000/60000 [==============================] - 1s 24us/step - loss: 8.3393e-04 - acc: 1.0000 - val_loss: 0.1151 - val_acc: 0.9776\n",
            "Epoch 112/200\n",
            "60000/60000 [==============================] - 1s 23us/step - loss: 8.2484e-04 - acc: 1.0000 - val_loss: 0.1159 - val_acc: 0.9779\n",
            "Epoch 113/200\n",
            "60000/60000 [==============================] - 2s 26us/step - loss: 8.2112e-04 - acc: 1.0000 - val_loss: 0.1158 - val_acc: 0.9779\n",
            "Epoch 114/200\n",
            "60000/60000 [==============================] - 2s 25us/step - loss: 8.0961e-04 - acc: 1.0000 - val_loss: 0.1159 - val_acc: 0.9780\n",
            "Epoch 115/200\n",
            "60000/60000 [==============================] - 1s 23us/step - loss: 7.9900e-04 - acc: 1.0000 - val_loss: 0.1159 - val_acc: 0.9777\n",
            "Epoch 116/200\n",
            "60000/60000 [==============================] - 2s 26us/step - loss: 7.9369e-04 - acc: 1.0000 - val_loss: 0.1162 - val_acc: 0.9777\n",
            "Epoch 117/200\n",
            "60000/60000 [==============================] - 1s 23us/step - loss: 7.8642e-04 - acc: 1.0000 - val_loss: 0.1170 - val_acc: 0.9778\n",
            "Epoch 118/200\n",
            "60000/60000 [==============================] - 1s 24us/step - loss: 7.7279e-04 - acc: 1.0000 - val_loss: 0.1164 - val_acc: 0.9779\n",
            "Epoch 119/200\n",
            "60000/60000 [==============================] - 1s 24us/step - loss: 7.7029e-04 - acc: 1.0000 - val_loss: 0.1169 - val_acc: 0.9781\n",
            "Epoch 120/200\n",
            "60000/60000 [==============================] - 1s 23us/step - loss: 7.6349e-04 - acc: 1.0000 - val_loss: 0.1170 - val_acc: 0.9779\n",
            "Epoch 121/200\n",
            "60000/60000 [==============================] - 2s 25us/step - loss: 7.5785e-04 - acc: 1.0000 - val_loss: 0.1172 - val_acc: 0.9783\n",
            "Epoch 122/200\n",
            "60000/60000 [==============================] - 2s 29us/step - loss: 7.5256e-04 - acc: 1.0000 - val_loss: 0.1174 - val_acc: 0.9780\n",
            "Epoch 123/200\n",
            "60000/60000 [==============================] - 2s 27us/step - loss: 7.4458e-04 - acc: 1.0000 - val_loss: 0.1174 - val_acc: 0.9776\n",
            "Epoch 124/200\n",
            "60000/60000 [==============================] - 2s 32us/step - loss: 7.3851e-04 - acc: 1.0000 - val_loss: 0.1174 - val_acc: 0.9780\n",
            "Epoch 125/200\n",
            "60000/60000 [==============================] - 2s 28us/step - loss: 7.3213e-04 - acc: 1.0000 - val_loss: 0.1179 - val_acc: 0.9779\n",
            "Epoch 126/200\n",
            "60000/60000 [==============================] - 2s 28us/step - loss: 7.2403e-04 - acc: 1.0000 - val_loss: 0.1179 - val_acc: 0.9778\n",
            "Epoch 127/200\n",
            "60000/60000 [==============================] - 2s 27us/step - loss: 7.1803e-04 - acc: 1.0000 - val_loss: 0.1180 - val_acc: 0.9779\n",
            "Epoch 128/200\n",
            "60000/60000 [==============================] - 1s 25us/step - loss: 7.1497e-04 - acc: 1.0000 - val_loss: 0.1187 - val_acc: 0.9775\n",
            "Epoch 129/200\n",
            "60000/60000 [==============================] - 1s 23us/step - loss: 7.0801e-04 - acc: 1.0000 - val_loss: 0.1183 - val_acc: 0.9783\n",
            "Epoch 130/200\n",
            "60000/60000 [==============================] - 1s 25us/step - loss: 7.0211e-04 - acc: 1.0000 - val_loss: 0.1186 - val_acc: 0.9776\n",
            "Epoch 131/200\n",
            "60000/60000 [==============================] - 1s 24us/step - loss: 6.9632e-04 - acc: 1.0000 - val_loss: 0.1188 - val_acc: 0.9780\n",
            "Epoch 132/200\n",
            "60000/60000 [==============================] - 1s 25us/step - loss: 6.9224e-04 - acc: 1.0000 - val_loss: 0.1188 - val_acc: 0.9780\n",
            "Epoch 133/200\n",
            "60000/60000 [==============================] - 1s 25us/step - loss: 6.8806e-04 - acc: 1.0000 - val_loss: 0.1190 - val_acc: 0.9777\n",
            "Epoch 134/200\n",
            "60000/60000 [==============================] - 1s 25us/step - loss: 6.8215e-04 - acc: 1.0000 - val_loss: 0.1190 - val_acc: 0.9778\n",
            "Epoch 135/200\n",
            "60000/60000 [==============================] - 1s 22us/step - loss: 6.7503e-04 - acc: 1.0000 - val_loss: 0.1191 - val_acc: 0.9776\n",
            "Epoch 136/200\n",
            "60000/60000 [==============================] - 1s 25us/step - loss: 6.7188e-04 - acc: 1.0000 - val_loss: 0.1199 - val_acc: 0.9779\n",
            "Epoch 137/200\n",
            "60000/60000 [==============================] - 1s 24us/step - loss: 6.6648e-04 - acc: 1.0000 - val_loss: 0.1195 - val_acc: 0.9777\n",
            "Epoch 138/200\n",
            "60000/60000 [==============================] - 1s 24us/step - loss: 6.6191e-04 - acc: 1.0000 - val_loss: 0.1202 - val_acc: 0.9777\n",
            "Epoch 139/200\n",
            "60000/60000 [==============================] - 2s 29us/step - loss: 6.5815e-04 - acc: 1.0000 - val_loss: 0.1202 - val_acc: 0.9781\n",
            "Epoch 140/200\n",
            "60000/60000 [==============================] - 1s 25us/step - loss: 6.5363e-04 - acc: 1.0000 - val_loss: 0.1202 - val_acc: 0.9778\n",
            "Epoch 141/200\n",
            "60000/60000 [==============================] - 1s 24us/step - loss: 6.5085e-04 - acc: 1.0000 - val_loss: 0.1206 - val_acc: 0.9778\n",
            "Epoch 142/200\n",
            "60000/60000 [==============================] - 2s 26us/step - loss: 6.4556e-04 - acc: 1.0000 - val_loss: 0.1204 - val_acc: 0.9779\n",
            "Epoch 143/200\n",
            "60000/60000 [==============================] - 1s 24us/step - loss: 6.4083e-04 - acc: 1.0000 - val_loss: 0.1206 - val_acc: 0.9779\n",
            "Epoch 144/200\n",
            "60000/60000 [==============================] - 2s 26us/step - loss: 6.3772e-04 - acc: 1.0000 - val_loss: 0.1208 - val_acc: 0.9778\n",
            "Epoch 145/200\n",
            "60000/60000 [==============================] - 2s 28us/step - loss: 6.3293e-04 - acc: 1.0000 - val_loss: 0.1210 - val_acc: 0.9780\n",
            "Epoch 146/200\n",
            "60000/60000 [==============================] - 2s 26us/step - loss: 6.2844e-04 - acc: 1.0000 - val_loss: 0.1211 - val_acc: 0.9778\n",
            "Epoch 147/200\n",
            "60000/60000 [==============================] - 2s 28us/step - loss: 6.2537e-04 - acc: 1.0000 - val_loss: 0.1208 - val_acc: 0.9778\n",
            "Epoch 148/200\n",
            "60000/60000 [==============================] - 1s 24us/step - loss: 6.2121e-04 - acc: 1.0000 - val_loss: 0.1209 - val_acc: 0.9777\n",
            "Epoch 149/200\n",
            "60000/60000 [==============================] - 1s 25us/step - loss: 6.1736e-04 - acc: 1.0000 - val_loss: 0.1216 - val_acc: 0.9776\n",
            "Epoch 150/200\n",
            "60000/60000 [==============================] - 1s 24us/step - loss: 6.1314e-04 - acc: 1.0000 - val_loss: 0.1215 - val_acc: 0.9776\n",
            "Epoch 151/200\n",
            "60000/60000 [==============================] - 1s 25us/step - loss: 6.1113e-04 - acc: 1.0000 - val_loss: 0.1218 - val_acc: 0.9781\n",
            "Epoch 152/200\n",
            "60000/60000 [==============================] - 1s 25us/step - loss: 6.0701e-04 - acc: 1.0000 - val_loss: 0.1218 - val_acc: 0.9776\n",
            "Epoch 153/200\n",
            "60000/60000 [==============================] - 2s 28us/step - loss: 6.0335e-04 - acc: 1.0000 - val_loss: 0.1221 - val_acc: 0.9781\n",
            "Epoch 154/200\n",
            "60000/60000 [==============================] - 1s 25us/step - loss: 5.9932e-04 - acc: 1.0000 - val_loss: 0.1224 - val_acc: 0.9775\n",
            "Epoch 155/200\n",
            "60000/60000 [==============================] - 2s 26us/step - loss: 5.9634e-04 - acc: 1.0000 - val_loss: 0.1223 - val_acc: 0.9778\n",
            "Epoch 156/200\n",
            "60000/60000 [==============================] - 1s 25us/step - loss: 5.9372e-04 - acc: 1.0000 - val_loss: 0.1225 - val_acc: 0.9779\n",
            "Epoch 157/200\n",
            "60000/60000 [==============================] - 1s 25us/step - loss: 5.9115e-04 - acc: 1.0000 - val_loss: 0.1223 - val_acc: 0.9777\n",
            "Epoch 158/200\n",
            "60000/60000 [==============================] - 1s 23us/step - loss: 5.8654e-04 - acc: 1.0000 - val_loss: 0.1226 - val_acc: 0.9779\n",
            "Epoch 159/200\n",
            "60000/60000 [==============================] - 1s 24us/step - loss: 5.8304e-04 - acc: 1.0000 - val_loss: 0.1230 - val_acc: 0.9779\n",
            "Epoch 160/200\n",
            "60000/60000 [==============================] - 1s 25us/step - loss: 5.7978e-04 - acc: 1.0000 - val_loss: 0.1225 - val_acc: 0.9778\n",
            "Epoch 161/200\n",
            "60000/60000 [==============================] - 2s 26us/step - loss: 5.7796e-04 - acc: 1.0000 - val_loss: 0.1232 - val_acc: 0.9777\n",
            "Epoch 162/200\n",
            "60000/60000 [==============================] - 2s 25us/step - loss: 5.7425e-04 - acc: 1.0000 - val_loss: 0.1230 - val_acc: 0.9778\n",
            "Epoch 163/200\n",
            "60000/60000 [==============================] - 2s 28us/step - loss: 5.7216e-04 - acc: 1.0000 - val_loss: 0.1235 - val_acc: 0.9777\n",
            "Epoch 164/200\n",
            "60000/60000 [==============================] - 2s 26us/step - loss: 5.6970e-04 - acc: 1.0000 - val_loss: 0.1233 - val_acc: 0.9777\n",
            "Epoch 165/200\n",
            "60000/60000 [==============================] - 2s 28us/step - loss: 5.6697e-04 - acc: 1.0000 - val_loss: 0.1235 - val_acc: 0.9776\n",
            "Epoch 166/200\n",
            "60000/60000 [==============================] - 1s 25us/step - loss: 5.6417e-04 - acc: 1.0000 - val_loss: 0.1237 - val_acc: 0.9776\n",
            "Epoch 167/200\n",
            "60000/60000 [==============================] - 2s 28us/step - loss: 5.6093e-04 - acc: 1.0000 - val_loss: 0.1238 - val_acc: 0.9778\n",
            "Epoch 168/200\n",
            "60000/60000 [==============================] - 2s 25us/step - loss: 5.5828e-04 - acc: 1.0000 - val_loss: 0.1238 - val_acc: 0.9778\n",
            "Epoch 169/200\n",
            "60000/60000 [==============================] - 2s 28us/step - loss: 5.5594e-04 - acc: 1.0000 - val_loss: 0.1241 - val_acc: 0.9779\n",
            "Epoch 170/200\n",
            "60000/60000 [==============================] - 2s 25us/step - loss: 5.5371e-04 - acc: 1.0000 - val_loss: 0.1241 - val_acc: 0.9778\n",
            "Epoch 171/200\n",
            "60000/60000 [==============================] - 1s 24us/step - loss: 5.5070e-04 - acc: 1.0000 - val_loss: 0.1240 - val_acc: 0.9779\n",
            "Epoch 172/200\n",
            "60000/60000 [==============================] - 2s 27us/step - loss: 5.4765e-04 - acc: 1.0000 - val_loss: 0.1244 - val_acc: 0.9777\n",
            "Epoch 173/200\n",
            "60000/60000 [==============================] - 2s 27us/step - loss: 5.4667e-04 - acc: 1.0000 - val_loss: 0.1246 - val_acc: 0.9777\n",
            "Epoch 174/200\n",
            "60000/60000 [==============================] - 2s 25us/step - loss: 5.4214e-04 - acc: 1.0000 - val_loss: 0.1244 - val_acc: 0.9778\n",
            "Epoch 175/200\n",
            "60000/60000 [==============================] - 2s 26us/step - loss: 5.4135e-04 - acc: 1.0000 - val_loss: 0.1245 - val_acc: 0.9779\n",
            "Epoch 176/200\n",
            "60000/60000 [==============================] - 2s 26us/step - loss: 5.3851e-04 - acc: 1.0000 - val_loss: 0.1245 - val_acc: 0.9778\n",
            "Epoch 177/200\n",
            "60000/60000 [==============================] - 2s 25us/step - loss: 5.3588e-04 - acc: 1.0000 - val_loss: 0.1246 - val_acc: 0.9778\n",
            "Epoch 178/200\n",
            "60000/60000 [==============================] - 2s 27us/step - loss: 5.3363e-04 - acc: 1.0000 - val_loss: 0.1248 - val_acc: 0.9780\n",
            "Epoch 179/200\n",
            "60000/60000 [==============================] - 2s 26us/step - loss: 5.3080e-04 - acc: 1.0000 - val_loss: 0.1249 - val_acc: 0.9779\n",
            "Epoch 180/200\n",
            "60000/60000 [==============================] - 2s 25us/step - loss: 5.2954e-04 - acc: 1.0000 - val_loss: 0.1249 - val_acc: 0.9779\n",
            "Epoch 181/200\n",
            "60000/60000 [==============================] - 2s 27us/step - loss: 5.2774e-04 - acc: 1.0000 - val_loss: 0.1252 - val_acc: 0.9780\n",
            "Epoch 182/200\n",
            "60000/60000 [==============================] - 2s 27us/step - loss: 5.2485e-04 - acc: 1.0000 - val_loss: 0.1255 - val_acc: 0.9778\n",
            "Epoch 183/200\n",
            "60000/60000 [==============================] - 1s 25us/step - loss: 5.2373e-04 - acc: 1.0000 - val_loss: 0.1256 - val_acc: 0.9778\n",
            "Epoch 184/200\n",
            "60000/60000 [==============================] - 1s 24us/step - loss: 5.2124e-04 - acc: 1.0000 - val_loss: 0.1258 - val_acc: 0.9780\n",
            "Epoch 185/200\n",
            "60000/60000 [==============================] - 1s 25us/step - loss: 5.1938e-04 - acc: 1.0000 - val_loss: 0.1257 - val_acc: 0.9780\n",
            "Epoch 186/200\n",
            "60000/60000 [==============================] - 2s 27us/step - loss: 5.1685e-04 - acc: 1.0000 - val_loss: 0.1258 - val_acc: 0.9779\n",
            "Epoch 187/200\n",
            "60000/60000 [==============================] - 2s 26us/step - loss: 5.1512e-04 - acc: 1.0000 - val_loss: 0.1260 - val_acc: 0.9779\n",
            "Epoch 188/200\n",
            "60000/60000 [==============================] - 2s 27us/step - loss: 5.1314e-04 - acc: 1.0000 - val_loss: 0.1259 - val_acc: 0.9780\n",
            "Epoch 189/200\n",
            "60000/60000 [==============================] - 2s 26us/step - loss: 5.1172e-04 - acc: 1.0000 - val_loss: 0.1261 - val_acc: 0.9780\n",
            "Epoch 190/200\n",
            "60000/60000 [==============================] - 1s 25us/step - loss: 5.0913e-04 - acc: 1.0000 - val_loss: 0.1262 - val_acc: 0.9778\n",
            "Epoch 191/200\n",
            "60000/60000 [==============================] - 1s 24us/step - loss: 5.0642e-04 - acc: 1.0000 - val_loss: 0.1261 - val_acc: 0.9778\n",
            "Epoch 192/200\n",
            "60000/60000 [==============================] - 2s 27us/step - loss: 5.0598e-04 - acc: 1.0000 - val_loss: 0.1265 - val_acc: 0.9780\n",
            "Epoch 193/200\n",
            "60000/60000 [==============================] - 1s 25us/step - loss: 5.0375e-04 - acc: 1.0000 - val_loss: 0.1265 - val_acc: 0.9777\n",
            "Epoch 194/200\n",
            "60000/60000 [==============================] - 2s 26us/step - loss: 5.0257e-04 - acc: 1.0000 - val_loss: 0.1266 - val_acc: 0.9778\n",
            "Epoch 195/200\n",
            "60000/60000 [==============================] - 1s 24us/step - loss: 4.9980e-04 - acc: 1.0000 - val_loss: 0.1268 - val_acc: 0.9777\n",
            "Epoch 196/200\n",
            "60000/60000 [==============================] - 2s 27us/step - loss: 4.9819e-04 - acc: 1.0000 - val_loss: 0.1269 - val_acc: 0.9778\n",
            "Epoch 197/200\n",
            "60000/60000 [==============================] - 1s 24us/step - loss: 4.9649e-04 - acc: 1.0000 - val_loss: 0.1272 - val_acc: 0.9780\n",
            "Epoch 198/200\n",
            "60000/60000 [==============================] - 2s 27us/step - loss: 4.9503e-04 - acc: 1.0000 - val_loss: 0.1273 - val_acc: 0.9776\n",
            "Epoch 199/200\n",
            "60000/60000 [==============================] - 2s 26us/step - loss: 4.9356e-04 - acc: 1.0000 - val_loss: 0.1271 - val_acc: 0.9778\n",
            "Epoch 200/200\n",
            "60000/60000 [==============================] - 2s 27us/step - loss: 4.9116e-04 - acc: 1.0000 - val_loss: 0.1273 - val_acc: 0.9778\n"
          ],
          "name": "stdout"
        },
        {
          "output_type": "execute_result",
          "data": {
            "text/plain": [
              "<keras.callbacks.History at 0x7f9544a5e470>"
            ]
          },
          "metadata": {
            "tags": []
          },
          "execution_count": 10
        }
      ]
    },
    {
      "cell_type": "code",
      "metadata": {
        "id": "iLCsDFm4G91M",
        "colab_type": "code",
        "colab": {}
      },
      "source": [
        ""
      ],
      "execution_count": 0,
      "outputs": []
    }
  ]
}