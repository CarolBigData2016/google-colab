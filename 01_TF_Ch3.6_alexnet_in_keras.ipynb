{
  "nbformat": 4,
  "nbformat_minor": 0,
  "metadata": {
    "kernelspec": {
      "display_name": "Python 3",
      "language": "python",
      "name": "python3"
    },
    "language_info": {
      "codemirror_mode": {
        "name": "ipython",
        "version": 3
      },
      "file_extension": ".py",
      "mimetype": "text/x-python",
      "name": "python",
      "nbconvert_exporter": "python",
      "pygments_lexer": "ipython3",
      "version": "3.6.8"
    },
    "colab": {
      "name": "alexnet_in_keras.ipynb",
      "provenance": [],
      "collapsed_sections": [],
      "include_colab_link": true
    }
  },
  "cells": [
    {
      "cell_type": "markdown",
      "metadata": {
        "id": "view-in-github",
        "colab_type": "text"
      },
      "source": [
        "<a href=\"https://colab.research.google.com/github/CarolBigData2016/google-colab/blob/master/01_TF_Ch3.6_alexnet_in_keras.ipynb\" target=\"_parent\"><img src=\"https://colab.research.google.com/assets/colab-badge.svg\" alt=\"Open In Colab\"/></a>"
      ]
    },
    {
      "cell_type": "markdown",
      "metadata": {
        "id": "r6YRNHVWjKwz",
        "colab_type": "text"
      },
      "source": [
        "# AlexNet in Keras"
      ]
    },
    {
      "cell_type": "markdown",
      "metadata": {
        "id": "d_bcBO3MjKw-",
        "colab_type": "text"
      },
      "source": [
        "In this notebook, we leverage an [AlexNet](https://papers.nips.cc/paper/4824-imagenet-classification-with-deep-convolutional-neural-networks)-like deep, convolutional neural network to classify flowers into the 17 categories of the [Oxford Flowers](http://www.robots.ox.ac.uk/~vgg/data/flowers/17/) data set. Derived from [this earlier notebook](https://github.com/the-deep-learners/TensorFlow-LiveLessons/blob/master/notebooks/old/L3-3b__TFLearn_AlexNet.ipynb)."
      ]
    },
    {
      "cell_type": "markdown",
      "metadata": {
        "id": "st7lli8LjKxB",
        "colab_type": "text"
      },
      "source": [
        "#### Set seed for reproducibility"
      ]
    },
    {
      "cell_type": "code",
      "metadata": {
        "id": "aaMvfbptjKxE",
        "colab_type": "code",
        "colab": {}
      },
      "source": [
        "import numpy as np\n",
        "np.random.seed(42)"
      ],
      "execution_count": 0,
      "outputs": []
    },
    {
      "cell_type": "markdown",
      "metadata": {
        "id": "h9URCkarjKxN",
        "colab_type": "text"
      },
      "source": [
        "#### Load dependencies"
      ]
    },
    {
      "cell_type": "code",
      "metadata": {
        "id": "3V55ZGnhjKxR",
        "colab_type": "code",
        "colab": {
          "base_uri": "https://localhost:8080/",
          "height": 80
        },
        "outputId": "ffa9ea5e-65c0-4871-df81-6dbdf481a9bc"
      },
      "source": [
        "import keras\n",
        "from keras.models import Sequential\n",
        "from keras.layers import Dense, Dropout, Flatten, Conv2D, MaxPooling2D\n",
        "from keras.layers.normalization import BatchNormalization\n",
        "from keras.callbacks import TensorBoard # for part 3.5 on TensorBoard"
      ],
      "execution_count": 2,
      "outputs": [
        {
          "output_type": "stream",
          "text": [
            "Using TensorFlow backend.\n"
          ],
          "name": "stderr"
        },
        {
          "output_type": "display_data",
          "data": {
            "text/html": [
              "<p style=\"color: red;\">\n",
              "The default version of TensorFlow in Colab will soon switch to TensorFlow 2.x.<br>\n",
              "We recommend you <a href=\"https://www.tensorflow.org/guide/migrate\" target=\"_blank\">upgrade</a> now \n",
              "or ensure your notebook will continue to use TensorFlow 1.x via the <code>%tensorflow_version 1.x</code> magic:\n",
              "<a href=\"https://colab.research.google.com/notebooks/tensorflow_version.ipynb\" target=\"_blank\">more info</a>.</p>\n"
            ],
            "text/plain": [
              "<IPython.core.display.HTML object>"
            ]
          },
          "metadata": {
            "tags": []
          }
        }
      ]
    },
    {
      "cell_type": "markdown",
      "metadata": {
        "id": "8UbxID0wjKxc",
        "colab_type": "text"
      },
      "source": [
        "#### Load *and preprocess* data"
      ]
    },
    {
      "cell_type": "code",
      "metadata": {
        "id": "ZT8eg1nQjKxe",
        "colab_type": "code",
        "colab": {
          "base_uri": "https://localhost:8080/",
          "height": 343
        },
        "outputId": "287bdfca-0830-4a08-e32f-909f69a9e622"
      },
      "source": [
        "import tflearn.datasets.oxflower17 as oxflower17\n",
        "X, Y = oxflower17.load_data(one_hot=True)"
      ],
      "execution_count": 3,
      "outputs": [
        {
          "output_type": "stream",
          "text": [
            "WARNING:tensorflow:From /usr/local/lib/python3.6/dist-packages/tflearn/helpers/summarizer.py:9: The name tf.summary.merge is deprecated. Please use tf.compat.v1.summary.merge instead.\n",
            "\n",
            "WARNING:tensorflow:From /usr/local/lib/python3.6/dist-packages/tflearn/helpers/trainer.py:25: The name tf.summary.FileWriter is deprecated. Please use tf.compat.v1.summary.FileWriter instead.\n",
            "\n",
            "WARNING:tensorflow:From /usr/local/lib/python3.6/dist-packages/tflearn/collections.py:13: The name tf.GraphKeys is deprecated. Please use tf.compat.v1.GraphKeys instead.\n",
            "\n",
            "WARNING:tensorflow:From /usr/local/lib/python3.6/dist-packages/tflearn/config.py:123: The name tf.get_collection is deprecated. Please use tf.compat.v1.get_collection instead.\n",
            "\n",
            "WARNING:tensorflow:From /usr/local/lib/python3.6/dist-packages/tflearn/config.py:129: The name tf.add_to_collection is deprecated. Please use tf.compat.v1.add_to_collection instead.\n",
            "\n",
            "WARNING:tensorflow:From /usr/local/lib/python3.6/dist-packages/tflearn/config.py:131: The name tf.assign is deprecated. Please use tf.compat.v1.assign instead.\n",
            "\n",
            "Downloading Oxford 17 category Flower Dataset, Please wait...\n"
          ],
          "name": "stdout"
        },
        {
          "output_type": "stream",
          "text": [
            "100.0% 60276736 / 60270631\n"
          ],
          "name": "stderr"
        },
        {
          "output_type": "stream",
          "text": [
            "('Succesfully downloaded', '17flowers.tgz', 60270631, 'bytes.')\n",
            "File Extracted\n",
            "Starting to parse images...\n",
            "Parsing Done!\n"
          ],
          "name": "stdout"
        }
      ]
    },
    {
      "cell_type": "markdown",
      "metadata": {
        "id": "-23cWSLajKxm",
        "colab_type": "text"
      },
      "source": [
        "#### Design neural network architecture"
      ]
    },
    {
      "cell_type": "code",
      "metadata": {
        "id": "XlQGcpLQjKxo",
        "colab_type": "code",
        "colab": {
          "base_uri": "https://localhost:8080/",
          "height": 496
        },
        "outputId": "3c693296-1ecd-439f-80f6-ab32ac9e0eea"
      },
      "source": [
        "model = Sequential()\n",
        "\n",
        "model.add(Conv2D(96, kernel_size=(11, 11), strides=(4, 4), activation='relu', input_shape=(224, 224, 3)))\n",
        "model.add(MaxPooling2D(pool_size=(3, 3), strides=(2, 2)))\n",
        "model.add(BatchNormalization())\n",
        "\n",
        "model.add(Conv2D(256, kernel_size=(5, 5), activation='relu'))\n",
        "model.add(MaxPooling2D(pool_size=(3, 3), strides=(2, 2)))\n",
        "model.add(BatchNormalization())\n",
        "\n",
        "model.add(Conv2D(256, kernel_size=(3, 3), activation='relu'))\n",
        "model.add(Conv2D(384, kernel_size=(3, 3), activation='relu'))\n",
        "model.add(Conv2D(384, kernel_size=(3, 3), activation='relu'))\n",
        "model.add(MaxPooling2D(pool_size=(3, 3), strides=(2, 2)))\n",
        "model.add(BatchNormalization())\n",
        "\n",
        "model.add(Flatten())\n",
        "model.add(Dense(4096, activation='tanh'))\n",
        "model.add(Dropout(0.5))\n",
        "model.add(Dense(4096, activation='tanh'))\n",
        "model.add(Dropout(0.5))\n",
        "\n",
        "model.add(Dense(17, activation='softmax'))"
      ],
      "execution_count": 4,
      "outputs": [
        {
          "output_type": "stream",
          "text": [
            "WARNING:tensorflow:From /usr/local/lib/python3.6/dist-packages/keras/backend/tensorflow_backend.py:66: The name tf.get_default_graph is deprecated. Please use tf.compat.v1.get_default_graph instead.\n",
            "\n",
            "WARNING:tensorflow:From /usr/local/lib/python3.6/dist-packages/keras/backend/tensorflow_backend.py:541: The name tf.placeholder is deprecated. Please use tf.compat.v1.placeholder instead.\n",
            "\n",
            "WARNING:tensorflow:From /usr/local/lib/python3.6/dist-packages/keras/backend/tensorflow_backend.py:4432: The name tf.random_uniform is deprecated. Please use tf.random.uniform instead.\n",
            "\n",
            "WARNING:tensorflow:From /usr/local/lib/python3.6/dist-packages/keras/backend/tensorflow_backend.py:4267: The name tf.nn.max_pool is deprecated. Please use tf.nn.max_pool2d instead.\n",
            "\n",
            "WARNING:tensorflow:From /usr/local/lib/python3.6/dist-packages/keras/backend/tensorflow_backend.py:190: The name tf.get_default_session is deprecated. Please use tf.compat.v1.get_default_session instead.\n",
            "\n",
            "WARNING:tensorflow:From /usr/local/lib/python3.6/dist-packages/keras/backend/tensorflow_backend.py:197: The name tf.ConfigProto is deprecated. Please use tf.compat.v1.ConfigProto instead.\n",
            "\n",
            "WARNING:tensorflow:From /usr/local/lib/python3.6/dist-packages/keras/backend/tensorflow_backend.py:203: The name tf.Session is deprecated. Please use tf.compat.v1.Session instead.\n",
            "\n",
            "WARNING:tensorflow:From /usr/local/lib/python3.6/dist-packages/keras/backend/tensorflow_backend.py:207: The name tf.global_variables is deprecated. Please use tf.compat.v1.global_variables instead.\n",
            "\n",
            "WARNING:tensorflow:From /usr/local/lib/python3.6/dist-packages/keras/backend/tensorflow_backend.py:216: The name tf.is_variable_initialized is deprecated. Please use tf.compat.v1.is_variable_initialized instead.\n",
            "\n",
            "WARNING:tensorflow:From /usr/local/lib/python3.6/dist-packages/keras/backend/tensorflow_backend.py:223: The name tf.variables_initializer is deprecated. Please use tf.compat.v1.variables_initializer instead.\n",
            "\n",
            "WARNING:tensorflow:From /usr/local/lib/python3.6/dist-packages/keras/backend/tensorflow_backend.py:2041: The name tf.nn.fused_batch_norm is deprecated. Please use tf.compat.v1.nn.fused_batch_norm instead.\n",
            "\n",
            "WARNING:tensorflow:From /usr/local/lib/python3.6/dist-packages/keras/backend/tensorflow_backend.py:148: The name tf.placeholder_with_default is deprecated. Please use tf.compat.v1.placeholder_with_default instead.\n",
            "\n",
            "WARNING:tensorflow:From /usr/local/lib/python3.6/dist-packages/keras/backend/tensorflow_backend.py:3733: calling dropout (from tensorflow.python.ops.nn_ops) with keep_prob is deprecated and will be removed in a future version.\n",
            "Instructions for updating:\n",
            "Please use `rate` instead of `keep_prob`. Rate should be set to `rate = 1 - keep_prob`.\n"
          ],
          "name": "stdout"
        }
      ]
    },
    {
      "cell_type": "code",
      "metadata": {
        "id": "iBrfoTf3jKxw",
        "colab_type": "code",
        "colab": {
          "base_uri": "https://localhost:8080/",
          "height": 731
        },
        "outputId": "38514247-823d-42c3-f14c-619f53d756a3"
      },
      "source": [
        "model.summary()"
      ],
      "execution_count": 5,
      "outputs": [
        {
          "output_type": "stream",
          "text": [
            "Model: \"sequential_1\"\n",
            "_________________________________________________________________\n",
            "Layer (type)                 Output Shape              Param #   \n",
            "=================================================================\n",
            "conv2d_1 (Conv2D)            (None, 54, 54, 96)        34944     \n",
            "_________________________________________________________________\n",
            "max_pooling2d_1 (MaxPooling2 (None, 26, 26, 96)        0         \n",
            "_________________________________________________________________\n",
            "batch_normalization_1 (Batch (None, 26, 26, 96)        384       \n",
            "_________________________________________________________________\n",
            "conv2d_2 (Conv2D)            (None, 22, 22, 256)       614656    \n",
            "_________________________________________________________________\n",
            "max_pooling2d_2 (MaxPooling2 (None, 10, 10, 256)       0         \n",
            "_________________________________________________________________\n",
            "batch_normalization_2 (Batch (None, 10, 10, 256)       1024      \n",
            "_________________________________________________________________\n",
            "conv2d_3 (Conv2D)            (None, 8, 8, 256)         590080    \n",
            "_________________________________________________________________\n",
            "conv2d_4 (Conv2D)            (None, 6, 6, 384)         885120    \n",
            "_________________________________________________________________\n",
            "conv2d_5 (Conv2D)            (None, 4, 4, 384)         1327488   \n",
            "_________________________________________________________________\n",
            "max_pooling2d_3 (MaxPooling2 (None, 1, 1, 384)         0         \n",
            "_________________________________________________________________\n",
            "batch_normalization_3 (Batch (None, 1, 1, 384)         1536      \n",
            "_________________________________________________________________\n",
            "flatten_1 (Flatten)          (None, 384)               0         \n",
            "_________________________________________________________________\n",
            "dense_1 (Dense)              (None, 4096)              1576960   \n",
            "_________________________________________________________________\n",
            "dropout_1 (Dropout)          (None, 4096)              0         \n",
            "_________________________________________________________________\n",
            "dense_2 (Dense)              (None, 4096)              16781312  \n",
            "_________________________________________________________________\n",
            "dropout_2 (Dropout)          (None, 4096)              0         \n",
            "_________________________________________________________________\n",
            "dense_3 (Dense)              (None, 17)                69649     \n",
            "=================================================================\n",
            "Total params: 21,883,153\n",
            "Trainable params: 21,881,681\n",
            "Non-trainable params: 1,472\n",
            "_________________________________________________________________\n"
          ],
          "name": "stdout"
        }
      ]
    },
    {
      "cell_type": "markdown",
      "metadata": {
        "id": "_ZU6bLYGjKx2",
        "colab_type": "text"
      },
      "source": [
        "#### Configure model"
      ]
    },
    {
      "cell_type": "code",
      "metadata": {
        "id": "dgMN5jsKjKx4",
        "colab_type": "code",
        "colab": {
          "base_uri": "https://localhost:8080/",
          "height": 85
        },
        "outputId": "5e684f3b-6ebf-4d4c-bfec-9f3e093fada7"
      },
      "source": [
        "model.compile(loss='categorical_crossentropy', optimizer='adam', metrics=['accuracy'])"
      ],
      "execution_count": 6,
      "outputs": [
        {
          "output_type": "stream",
          "text": [
            "WARNING:tensorflow:From /usr/local/lib/python3.6/dist-packages/keras/optimizers.py:793: The name tf.train.Optimizer is deprecated. Please use tf.compat.v1.train.Optimizer instead.\n",
            "\n",
            "WARNING:tensorflow:From /usr/local/lib/python3.6/dist-packages/keras/backend/tensorflow_backend.py:3576: The name tf.log is deprecated. Please use tf.math.log instead.\n",
            "\n"
          ],
          "name": "stdout"
        }
      ]
    },
    {
      "cell_type": "markdown",
      "metadata": {
        "id": "Lwbgja3kjKyA",
        "colab_type": "text"
      },
      "source": [
        "#### Configure TensorBoard (for part 5 of lesson 3)"
      ]
    },
    {
      "cell_type": "code",
      "metadata": {
        "id": "SVS8bG98jKyD",
        "colab_type": "code",
        "colab": {}
      },
      "source": [
        "tensorbrd = TensorBoard('logs/alexnet') "
      ],
      "execution_count": 0,
      "outputs": []
    },
    {
      "cell_type": "markdown",
      "metadata": {
        "id": "tkhd8jw0jKyM",
        "colab_type": "text"
      },
      "source": [
        "#### Train!"
      ]
    },
    {
      "cell_type": "code",
      "metadata": {
        "id": "pKC91icRjKyP",
        "colab_type": "code",
        "colab": {
          "base_uri": "https://localhost:8080/",
          "height": 1000
        },
        "outputId": "2fa1e951-2dae-4cf3-ae9d-512407083119"
      },
      "source": [
        "model.fit(X, Y, batch_size=64, epochs=100, verbose=1, validation_split=0.1, shuffle=True, \n",
        "          callbacks=[tensorbrd])"
      ],
      "execution_count": 8,
      "outputs": [
        {
          "output_type": "stream",
          "text": [
            "WARNING:tensorflow:From /usr/local/lib/python3.6/dist-packages/tensorflow_core/python/ops/math_grad.py:1424: where (from tensorflow.python.ops.array_ops) is deprecated and will be removed in a future version.\n",
            "Instructions for updating:\n",
            "Use tf.where in 2.0, which has the same broadcast rule as np.where\n",
            "WARNING:tensorflow:From /usr/local/lib/python3.6/dist-packages/keras/backend/tensorflow_backend.py:1033: The name tf.assign_add is deprecated. Please use tf.compat.v1.assign_add instead.\n",
            "\n",
            "Train on 1224 samples, validate on 136 samples\n",
            "WARNING:tensorflow:From /usr/local/lib/python3.6/dist-packages/keras/callbacks.py:1122: The name tf.summary.merge_all is deprecated. Please use tf.compat.v1.summary.merge_all instead.\n",
            "\n",
            "Epoch 1/100\n",
            "1224/1224 [==============================] - 88s 72ms/step - loss: 5.7948 - acc: 0.1536 - val_loss: 8.3222 - val_acc: 0.0809\n",
            "WARNING:tensorflow:From /usr/local/lib/python3.6/dist-packages/keras/callbacks.py:1265: The name tf.Summary is deprecated. Please use tf.compat.v1.Summary instead.\n",
            "\n",
            "Epoch 2/100\n",
            "1224/1224 [==============================] - 87s 71ms/step - loss: 3.3752 - acc: 0.1887 - val_loss: 4.2896 - val_acc: 0.1544\n",
            "Epoch 3/100\n",
            "1224/1224 [==============================] - 87s 71ms/step - loss: 2.9984 - acc: 0.2116 - val_loss: 3.8465 - val_acc: 0.1176\n",
            "Epoch 4/100\n",
            "1224/1224 [==============================] - 87s 71ms/step - loss: 2.8825 - acc: 0.2451 - val_loss: 3.7187 - val_acc: 0.1985\n",
            "Epoch 5/100\n",
            "1224/1224 [==============================] - 87s 71ms/step - loss: 2.7302 - acc: 0.2598 - val_loss: 3.9147 - val_acc: 0.1250\n",
            "Epoch 6/100\n",
            "1224/1224 [==============================] - 87s 71ms/step - loss: 2.8281 - acc: 0.2868 - val_loss: 3.4689 - val_acc: 0.1985\n",
            "Epoch 7/100\n",
            "1224/1224 [==============================] - 86s 71ms/step - loss: 2.7129 - acc: 0.2859 - val_loss: 2.6973 - val_acc: 0.2721\n",
            "Epoch 8/100\n",
            "1224/1224 [==============================] - 86s 70ms/step - loss: 2.4388 - acc: 0.3252 - val_loss: 3.6734 - val_acc: 0.2279\n",
            "Epoch 9/100\n",
            "1224/1224 [==============================] - 86s 70ms/step - loss: 2.3722 - acc: 0.3423 - val_loss: 3.4436 - val_acc: 0.2868\n",
            "Epoch 10/100\n",
            "1224/1224 [==============================] - 86s 71ms/step - loss: 2.3040 - acc: 0.3587 - val_loss: 2.7262 - val_acc: 0.2794\n",
            "Epoch 11/100\n",
            "1224/1224 [==============================] - 86s 70ms/step - loss: 2.3498 - acc: 0.3750 - val_loss: 2.9928 - val_acc: 0.3750\n",
            "Epoch 12/100\n",
            "1224/1224 [==============================] - 86s 70ms/step - loss: 2.2159 - acc: 0.4060 - val_loss: 2.6234 - val_acc: 0.4044\n",
            "Epoch 13/100\n",
            "1224/1224 [==============================] - 86s 70ms/step - loss: 2.1220 - acc: 0.4028 - val_loss: 2.3109 - val_acc: 0.3897\n",
            "Epoch 14/100\n",
            "1224/1224 [==============================] - 86s 70ms/step - loss: 2.0592 - acc: 0.4502 - val_loss: 2.6120 - val_acc: 0.3676\n",
            "Epoch 15/100\n",
            "1224/1224 [==============================] - 86s 71ms/step - loss: 1.9548 - acc: 0.4338 - val_loss: 2.5794 - val_acc: 0.4265\n",
            "Epoch 16/100\n",
            "1224/1224 [==============================] - 86s 70ms/step - loss: 1.9480 - acc: 0.4853 - val_loss: 5.9851 - val_acc: 0.1544\n",
            "Epoch 17/100\n",
            "1224/1224 [==============================] - 87s 71ms/step - loss: 2.1634 - acc: 0.4559 - val_loss: 2.6405 - val_acc: 0.3529\n",
            "Epoch 18/100\n",
            "1224/1224 [==============================] - 86s 70ms/step - loss: 1.8574 - acc: 0.4877 - val_loss: 3.9924 - val_acc: 0.2279\n",
            "Epoch 19/100\n",
            "1224/1224 [==============================] - 86s 70ms/step - loss: 1.8696 - acc: 0.4918 - val_loss: 4.8835 - val_acc: 0.2279\n",
            "Epoch 20/100\n",
            "1224/1224 [==============================] - 86s 70ms/step - loss: 2.1448 - acc: 0.4216 - val_loss: 3.7781 - val_acc: 0.3456\n",
            "Epoch 21/100\n",
            "1224/1224 [==============================] - 86s 70ms/step - loss: 1.9537 - acc: 0.4690 - val_loss: 3.4914 - val_acc: 0.3309\n",
            "Epoch 22/100\n",
            "1224/1224 [==============================] - 86s 70ms/step - loss: 1.7969 - acc: 0.4943 - val_loss: 3.4158 - val_acc: 0.3529\n",
            "Epoch 23/100\n",
            "1224/1224 [==============================] - 86s 70ms/step - loss: 1.8677 - acc: 0.5131 - val_loss: 3.7581 - val_acc: 0.3382\n",
            "Epoch 24/100\n",
            "1224/1224 [==============================] - 86s 70ms/step - loss: 2.1180 - acc: 0.4616 - val_loss: 4.4830 - val_acc: 0.2794\n",
            "Epoch 25/100\n",
            "1224/1224 [==============================] - 86s 70ms/step - loss: 1.6462 - acc: 0.5400 - val_loss: 2.6526 - val_acc: 0.4044\n",
            "Epoch 26/100\n",
            "1224/1224 [==============================] - 86s 70ms/step - loss: 1.5057 - acc: 0.5466 - val_loss: 2.2673 - val_acc: 0.4926\n",
            "Epoch 27/100\n",
            "1224/1224 [==============================] - 86s 70ms/step - loss: 1.6875 - acc: 0.5441 - val_loss: 2.6343 - val_acc: 0.4485\n",
            "Epoch 28/100\n",
            "1224/1224 [==============================] - 86s 70ms/step - loss: 1.5674 - acc: 0.5703 - val_loss: 2.1039 - val_acc: 0.4926\n",
            "Epoch 29/100\n",
            "1224/1224 [==============================] - 86s 70ms/step - loss: 1.6595 - acc: 0.5310 - val_loss: 2.6137 - val_acc: 0.4118\n",
            "Epoch 30/100\n",
            "1224/1224 [==============================] - 85s 70ms/step - loss: 1.6503 - acc: 0.5694 - val_loss: 3.2092 - val_acc: 0.4926\n",
            "Epoch 31/100\n",
            "1224/1224 [==============================] - 86s 70ms/step - loss: 1.7576 - acc: 0.5408 - val_loss: 2.6430 - val_acc: 0.4265\n",
            "Epoch 32/100\n",
            "1224/1224 [==============================] - 86s 70ms/step - loss: 1.5518 - acc: 0.5891 - val_loss: 2.0600 - val_acc: 0.5368\n",
            "Epoch 33/100\n",
            "1224/1224 [==============================] - 86s 70ms/step - loss: 1.7651 - acc: 0.5515 - val_loss: 2.2738 - val_acc: 0.4926\n",
            "Epoch 34/100\n",
            "1224/1224 [==============================] - 85s 70ms/step - loss: 1.4376 - acc: 0.5915 - val_loss: 2.8013 - val_acc: 0.4779\n",
            "Epoch 35/100\n",
            "1224/1224 [==============================] - 85s 70ms/step - loss: 1.4782 - acc: 0.5940 - val_loss: 1.9212 - val_acc: 0.5588\n",
            "Epoch 36/100\n",
            "1224/1224 [==============================] - 86s 70ms/step - loss: 1.3403 - acc: 0.6201 - val_loss: 2.0572 - val_acc: 0.5588\n",
            "Epoch 37/100\n",
            "1224/1224 [==============================] - 86s 70ms/step - loss: 1.3044 - acc: 0.6234 - val_loss: 1.9689 - val_acc: 0.5735\n",
            "Epoch 38/100\n",
            "1224/1224 [==============================] - 86s 70ms/step - loss: 1.1765 - acc: 0.6577 - val_loss: 2.3179 - val_acc: 0.5221\n",
            "Epoch 39/100\n",
            "1224/1224 [==============================] - 85s 70ms/step - loss: 1.1597 - acc: 0.6658 - val_loss: 1.9467 - val_acc: 0.5368\n",
            "Epoch 40/100\n",
            "1224/1224 [==============================] - 86s 70ms/step - loss: 1.2400 - acc: 0.6585 - val_loss: 1.8101 - val_acc: 0.5441\n",
            "Epoch 41/100\n",
            "1224/1224 [==============================] - 86s 70ms/step - loss: 1.1991 - acc: 0.6569 - val_loss: 1.5070 - val_acc: 0.5882\n",
            "Epoch 42/100\n",
            "1224/1224 [==============================] - 86s 70ms/step - loss: 1.1882 - acc: 0.6740 - val_loss: 2.2003 - val_acc: 0.5147\n",
            "Epoch 43/100\n",
            "1224/1224 [==============================] - 86s 70ms/step - loss: 1.2630 - acc: 0.6511 - val_loss: 1.9947 - val_acc: 0.5662\n",
            "Epoch 44/100\n",
            "1224/1224 [==============================] - 86s 70ms/step - loss: 0.9587 - acc: 0.7108 - val_loss: 2.3214 - val_acc: 0.5368\n",
            "Epoch 45/100\n",
            "1224/1224 [==============================] - 86s 70ms/step - loss: 1.1729 - acc: 0.6855 - val_loss: 3.2221 - val_acc: 0.4412\n",
            "Epoch 46/100\n",
            "1224/1224 [==============================] - 86s 70ms/step - loss: 1.4633 - acc: 0.6348 - val_loss: 4.5218 - val_acc: 0.2794\n",
            "Epoch 47/100\n",
            "1224/1224 [==============================] - 86s 70ms/step - loss: 1.4903 - acc: 0.6021 - val_loss: 3.5683 - val_acc: 0.3309\n",
            "Epoch 48/100\n",
            "1224/1224 [==============================] - 86s 70ms/step - loss: 1.1386 - acc: 0.6658 - val_loss: 2.4911 - val_acc: 0.3897\n",
            "Epoch 49/100\n",
            "1224/1224 [==============================] - 86s 70ms/step - loss: 1.0292 - acc: 0.6789 - val_loss: 1.6512 - val_acc: 0.5441\n",
            "Epoch 50/100\n",
            "1224/1224 [==============================] - 86s 70ms/step - loss: 1.2292 - acc: 0.6544 - val_loss: 1.8665 - val_acc: 0.5662\n",
            "Epoch 51/100\n",
            "1224/1224 [==============================] - 86s 70ms/step - loss: 0.9915 - acc: 0.6953 - val_loss: 1.8835 - val_acc: 0.5662\n",
            "Epoch 52/100\n",
            "1224/1224 [==============================] - 86s 70ms/step - loss: 0.9594 - acc: 0.7165 - val_loss: 2.1414 - val_acc: 0.5588\n",
            "Epoch 53/100\n",
            "1224/1224 [==============================] - 86s 70ms/step - loss: 0.9056 - acc: 0.7214 - val_loss: 2.5976 - val_acc: 0.4853\n",
            "Epoch 54/100\n",
            "1224/1224 [==============================] - 86s 70ms/step - loss: 0.9331 - acc: 0.7141 - val_loss: 1.9765 - val_acc: 0.6103\n",
            "Epoch 55/100\n",
            "1224/1224 [==============================] - 86s 70ms/step - loss: 1.0110 - acc: 0.7247 - val_loss: 2.2295 - val_acc: 0.5294\n",
            "Epoch 56/100\n",
            "1224/1224 [==============================] - 86s 71ms/step - loss: 0.9775 - acc: 0.7328 - val_loss: 1.7757 - val_acc: 0.6544\n",
            "Epoch 57/100\n",
            "1224/1224 [==============================] - 86s 70ms/step - loss: 1.0336 - acc: 0.7149 - val_loss: 1.5233 - val_acc: 0.6250\n",
            "Epoch 58/100\n",
            "1224/1224 [==============================] - 86s 70ms/step - loss: 0.9228 - acc: 0.7353 - val_loss: 2.3986 - val_acc: 0.5588\n",
            "Epoch 59/100\n",
            "1224/1224 [==============================] - 86s 70ms/step - loss: 0.9334 - acc: 0.7435 - val_loss: 2.3236 - val_acc: 0.5515\n",
            "Epoch 60/100\n",
            "1224/1224 [==============================] - 85s 70ms/step - loss: 0.9686 - acc: 0.7190 - val_loss: 2.4279 - val_acc: 0.6103\n",
            "Epoch 61/100\n",
            "1224/1224 [==============================] - 86s 70ms/step - loss: 0.7494 - acc: 0.7729 - val_loss: 1.5575 - val_acc: 0.6397\n",
            "Epoch 62/100\n",
            "1224/1224 [==============================] - 86s 70ms/step - loss: 0.6235 - acc: 0.8105 - val_loss: 1.8594 - val_acc: 0.6324\n",
            "Epoch 63/100\n",
            "1224/1224 [==============================] - 85s 69ms/step - loss: 0.6562 - acc: 0.8137 - val_loss: 1.7936 - val_acc: 0.6029\n",
            "Epoch 64/100\n",
            "1224/1224 [==============================] - 86s 70ms/step - loss: 0.5322 - acc: 0.8317 - val_loss: 1.6715 - val_acc: 0.6103\n",
            "Epoch 65/100\n",
            "1224/1224 [==============================] - 86s 70ms/step - loss: 0.4911 - acc: 0.8415 - val_loss: 1.7786 - val_acc: 0.5882\n",
            "Epoch 66/100\n",
            "1224/1224 [==============================] - 86s 70ms/step - loss: 0.6086 - acc: 0.8129 - val_loss: 1.8597 - val_acc: 0.6618\n",
            "Epoch 67/100\n",
            "1224/1224 [==============================] - 86s 70ms/step - loss: 0.6520 - acc: 0.7958 - val_loss: 2.6564 - val_acc: 0.5588\n",
            "Epoch 68/100\n",
            "1224/1224 [==============================] - 86s 70ms/step - loss: 0.8494 - acc: 0.7737 - val_loss: 2.2820 - val_acc: 0.6176\n",
            "Epoch 69/100\n",
            "1224/1224 [==============================] - 86s 70ms/step - loss: 0.9949 - acc: 0.7500 - val_loss: 3.4839 - val_acc: 0.4632\n",
            "Epoch 70/100\n",
            "1224/1224 [==============================] - 86s 70ms/step - loss: 0.6561 - acc: 0.8162 - val_loss: 1.6230 - val_acc: 0.6691\n",
            "Epoch 71/100\n",
            "1224/1224 [==============================] - 86s 70ms/step - loss: 1.4292 - acc: 0.6708 - val_loss: 5.5945 - val_acc: 0.1471\n",
            "Epoch 72/100\n",
            "1224/1224 [==============================] - 86s 70ms/step - loss: 1.6463 - acc: 0.6062 - val_loss: 4.0472 - val_acc: 0.3603\n",
            "Epoch 73/100\n",
            "1224/1224 [==============================] - 86s 70ms/step - loss: 1.2621 - acc: 0.6544 - val_loss: 4.6290 - val_acc: 0.3088\n",
            "Epoch 74/100\n",
            "1224/1224 [==============================] - 86s 70ms/step - loss: 1.1203 - acc: 0.6830 - val_loss: 3.3848 - val_acc: 0.4191\n",
            "Epoch 75/100\n",
            "1224/1224 [==============================] - 86s 70ms/step - loss: 1.1343 - acc: 0.6855 - val_loss: 5.7622 - val_acc: 0.3088\n",
            "Epoch 76/100\n",
            "1224/1224 [==============================] - 86s 70ms/step - loss: 2.3946 - acc: 0.4959 - val_loss: 5.6445 - val_acc: 0.2206\n",
            "Epoch 77/100\n",
            "1224/1224 [==============================] - 86s 70ms/step - loss: 1.9817 - acc: 0.4967 - val_loss: 3.5961 - val_acc: 0.3309\n",
            "Epoch 78/100\n",
            "1224/1224 [==============================] - 85s 70ms/step - loss: 1.6725 - acc: 0.5441 - val_loss: 2.9169 - val_acc: 0.3088\n",
            "Epoch 79/100\n",
            "1224/1224 [==============================] - 85s 70ms/step - loss: 1.8101 - acc: 0.5417 - val_loss: 2.8588 - val_acc: 0.3897\n",
            "Epoch 80/100\n",
            "1224/1224 [==============================] - 86s 70ms/step - loss: 1.6109 - acc: 0.5956 - val_loss: 3.1393 - val_acc: 0.3897\n",
            "Epoch 81/100\n",
            "1224/1224 [==============================] - 86s 70ms/step - loss: 1.3229 - acc: 0.6332 - val_loss: 2.4654 - val_acc: 0.5000\n",
            "Epoch 82/100\n",
            "1224/1224 [==============================] - 86s 70ms/step - loss: 1.1309 - acc: 0.6871 - val_loss: 2.4947 - val_acc: 0.4853\n",
            "Epoch 83/100\n",
            "1224/1224 [==============================] - 86s 70ms/step - loss: 1.3232 - acc: 0.6413 - val_loss: 3.7928 - val_acc: 0.3897\n",
            "Epoch 84/100\n",
            "1224/1224 [==============================] - 86s 70ms/step - loss: 1.1946 - acc: 0.6765 - val_loss: 3.2757 - val_acc: 0.4485\n",
            "Epoch 85/100\n",
            "1224/1224 [==============================] - 86s 70ms/step - loss: 1.1844 - acc: 0.6822 - val_loss: 4.1499 - val_acc: 0.3309\n",
            "Epoch 86/100\n",
            "1224/1224 [==============================] - 86s 70ms/step - loss: 0.8795 - acc: 0.7361 - val_loss: 2.1193 - val_acc: 0.5294\n",
            "Epoch 87/100\n",
            "1224/1224 [==============================] - 86s 70ms/step - loss: 0.9343 - acc: 0.7337 - val_loss: 2.8844 - val_acc: 0.4338\n",
            "Epoch 88/100\n",
            "1224/1224 [==============================] - 86s 70ms/step - loss: 0.8845 - acc: 0.7467 - val_loss: 1.7512 - val_acc: 0.6176\n",
            "Epoch 89/100\n",
            "1224/1224 [==============================] - 85s 70ms/step - loss: 0.8251 - acc: 0.7508 - val_loss: 1.8789 - val_acc: 0.5882\n",
            "Epoch 90/100\n",
            "1224/1224 [==============================] - 85s 70ms/step - loss: 0.7696 - acc: 0.7655 - val_loss: 2.4732 - val_acc: 0.5441\n",
            "Epoch 91/100\n",
            "1224/1224 [==============================] - 86s 70ms/step - loss: 0.7178 - acc: 0.7990 - val_loss: 2.4713 - val_acc: 0.5221\n",
            "Epoch 92/100\n",
            "1224/1224 [==============================] - 86s 70ms/step - loss: 0.6560 - acc: 0.7876 - val_loss: 1.8023 - val_acc: 0.5735\n",
            "Epoch 93/100\n",
            "1224/1224 [==============================] - 85s 70ms/step - loss: 0.9255 - acc: 0.7712 - val_loss: 2.4864 - val_acc: 0.5588\n",
            "Epoch 94/100\n",
            "1224/1224 [==============================] - 86s 70ms/step - loss: 0.8308 - acc: 0.7696 - val_loss: 1.5474 - val_acc: 0.6691\n",
            "Epoch 95/100\n",
            "1224/1224 [==============================] - 86s 70ms/step - loss: 0.9711 - acc: 0.7296 - val_loss: 2.0152 - val_acc: 0.5956\n",
            "Epoch 96/100\n",
            "1224/1224 [==============================] - 86s 70ms/step - loss: 0.8364 - acc: 0.7484 - val_loss: 1.7197 - val_acc: 0.5956\n",
            "Epoch 97/100\n",
            "1224/1224 [==============================] - 86s 70ms/step - loss: 0.7368 - acc: 0.7810 - val_loss: 1.8294 - val_acc: 0.6471\n",
            "Epoch 98/100\n",
            "1224/1224 [==============================] - 86s 70ms/step - loss: 0.7020 - acc: 0.7925 - val_loss: 1.9957 - val_acc: 0.6250\n",
            "Epoch 99/100\n",
            "1224/1224 [==============================] - 86s 70ms/step - loss: 0.8886 - acc: 0.7647 - val_loss: 2.5906 - val_acc: 0.5588\n",
            "Epoch 100/100\n",
            "1224/1224 [==============================] - 86s 70ms/step - loss: 0.6394 - acc: 0.8170 - val_loss: 1.8918 - val_acc: 0.6176\n"
          ],
          "name": "stdout"
        },
        {
          "output_type": "execute_result",
          "data": {
            "text/plain": [
              "<keras.callbacks.History at 0x7fb2462607f0>"
            ]
          },
          "metadata": {
            "tags": []
          },
          "execution_count": 8
        }
      ]
    },
    {
      "cell_type": "code",
      "metadata": {
        "id": "_03PzElajKyV",
        "colab_type": "code",
        "colab": {}
      },
      "source": [
        ""
      ],
      "execution_count": 0,
      "outputs": []
    }
  ]
}