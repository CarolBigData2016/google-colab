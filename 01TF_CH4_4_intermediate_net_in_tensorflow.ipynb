{
  "nbformat": 4,
  "nbformat_minor": 0,
  "metadata": {
    "kernelspec": {
      "display_name": "Python 3",
      "language": "python",
      "name": "python3"
    },
    "language_info": {
      "codemirror_mode": {
        "name": "ipython",
        "version": 3
      },
      "file_extension": ".py",
      "mimetype": "text/x-python",
      "name": "python",
      "nbconvert_exporter": "python",
      "pygments_lexer": "ipython3",
      "version": "3.5.2"
    },
    "colab": {
      "name": "01TF_CH4.4_intermediate_net_in_tensorflow.ipynb",
      "provenance": [],
      "collapsed_sections": [],
      "include_colab_link": true
    }
  },
  "cells": [
    {
      "cell_type": "markdown",
      "metadata": {
        "id": "view-in-github",
        "colab_type": "text"
      },
      "source": [
        "<a href=\"https://colab.research.google.com/github/CarolBigData2016/google-colab/blob/master/01TF_CH4_4_intermediate_net_in_tensorflow.ipynb\" target=\"_parent\"><img src=\"https://colab.research.google.com/assets/colab-badge.svg\" alt=\"Open In Colab\"/></a>"
      ]
    },
    {
      "cell_type": "markdown",
      "metadata": {
        "id": "SdCy6fsV2jVa",
        "colab_type": "text"
      },
      "source": [
        "# Intermediate Neural Network in TensorFlow"
      ]
    },
    {
      "cell_type": "markdown",
      "metadata": {
        "id": "QZk97elx2jVf",
        "colab_type": "text"
      },
      "source": [
        "In this notebook, we convert our [intermediate-depth MNIST-classifying neural network](https://github.com/the-deep-learners/TensorFlow-LiveLessons/blob/master/notebooks/intermediate_net_in_keras.ipynb) from Keras to TensorFlow (compare them side by side) following Aymeric Damien's [Multi-Layer Perceptron Notebook](https://github.com/aymericdamien/TensorFlow-Examples/blob/master/notebooks/3_NeuralNetworks/multilayer_perceptron.ipynb) style."
      ]
    },
    {
      "cell_type": "markdown",
      "metadata": {
        "id": "JdUFxqsQ2jVi",
        "colab_type": "text"
      },
      "source": [
        "#### Load dependencies"
      ]
    },
    {
      "cell_type": "code",
      "metadata": {
        "id": "ibooSP8h2jVk",
        "colab_type": "code",
        "colab": {
          "base_uri": "https://localhost:8080/",
          "height": 63
        },
        "outputId": "514f95f3-5edb-4129-e41b-06f1bf49174d"
      },
      "source": [
        "import numpy as np\n",
        "np.random.seed(42)\n",
        "import tensorflow as tf\n",
        "tf.set_random_seed(42)"
      ],
      "execution_count": 1,
      "outputs": [
        {
          "output_type": "display_data",
          "data": {
            "text/html": [
              "<p style=\"color: red;\">\n",
              "The default version of TensorFlow in Colab will soon switch to TensorFlow 2.x.<br>\n",
              "We recommend you <a href=\"https://www.tensorflow.org/guide/migrate\" target=\"_blank\">upgrade</a> now \n",
              "or ensure your notebook will continue to use TensorFlow 1.x via the <code>%tensorflow_version 1.x</code> magic:\n",
              "<a href=\"https://colab.research.google.com/notebooks/tensorflow_version.ipynb\" target=\"_blank\">more info</a>.</p>\n"
            ],
            "text/plain": [
              "<IPython.core.display.HTML object>"
            ]
          },
          "metadata": {
            "tags": []
          }
        }
      ]
    },
    {
      "cell_type": "markdown",
      "metadata": {
        "id": "ZbRbVR9l2jVt",
        "colab_type": "text"
      },
      "source": [
        "#### Load data"
      ]
    },
    {
      "cell_type": "code",
      "metadata": {
        "id": "94YqbMPB2jVv",
        "colab_type": "code",
        "colab": {
          "base_uri": "https://localhost:8080/",
          "height": 411
        },
        "outputId": "214852e2-323a-4acb-f21d-01c4a9499e2b"
      },
      "source": [
        "from tensorflow.examples.tutorials.mnist import input_data\n",
        "mnist = input_data.read_data_sets(\"MNIST_data/\", one_hot=True)\n",
        "# no pre-processing necessary"
      ],
      "execution_count": 2,
      "outputs": [
        {
          "output_type": "stream",
          "text": [
            "WARNING:tensorflow:From <ipython-input-2-8bf8ae5a5303>:2: read_data_sets (from tensorflow.contrib.learn.python.learn.datasets.mnist) is deprecated and will be removed in a future version.\n",
            "Instructions for updating:\n",
            "Please use alternatives such as official/mnist/dataset.py from tensorflow/models.\n",
            "WARNING:tensorflow:From /usr/local/lib/python3.6/dist-packages/tensorflow_core/contrib/learn/python/learn/datasets/mnist.py:260: maybe_download (from tensorflow.contrib.learn.python.learn.datasets.base) is deprecated and will be removed in a future version.\n",
            "Instructions for updating:\n",
            "Please write your own downloading logic.\n",
            "WARNING:tensorflow:From /usr/local/lib/python3.6/dist-packages/tensorflow_core/contrib/learn/python/learn/datasets/mnist.py:262: extract_images (from tensorflow.contrib.learn.python.learn.datasets.mnist) is deprecated and will be removed in a future version.\n",
            "Instructions for updating:\n",
            "Please use tf.data to implement this functionality.\n",
            "Extracting MNIST_data/train-images-idx3-ubyte.gz\n",
            "WARNING:tensorflow:From /usr/local/lib/python3.6/dist-packages/tensorflow_core/contrib/learn/python/learn/datasets/mnist.py:267: extract_labels (from tensorflow.contrib.learn.python.learn.datasets.mnist) is deprecated and will be removed in a future version.\n",
            "Instructions for updating:\n",
            "Please use tf.data to implement this functionality.\n",
            "Extracting MNIST_data/train-labels-idx1-ubyte.gz\n",
            "WARNING:tensorflow:From /usr/local/lib/python3.6/dist-packages/tensorflow_core/contrib/learn/python/learn/datasets/mnist.py:110: dense_to_one_hot (from tensorflow.contrib.learn.python.learn.datasets.mnist) is deprecated and will be removed in a future version.\n",
            "Instructions for updating:\n",
            "Please use tf.one_hot on tensors.\n",
            "Extracting MNIST_data/t10k-images-idx3-ubyte.gz\n",
            "Extracting MNIST_data/t10k-labels-idx1-ubyte.gz\n",
            "WARNING:tensorflow:From /usr/local/lib/python3.6/dist-packages/tensorflow_core/contrib/learn/python/learn/datasets/mnist.py:290: DataSet.__init__ (from tensorflow.contrib.learn.python.learn.datasets.mnist) is deprecated and will be removed in a future version.\n",
            "Instructions for updating:\n",
            "Please use alternatives such as official/mnist/dataset.py from tensorflow/models.\n"
          ],
          "name": "stdout"
        }
      ]
    },
    {
      "cell_type": "markdown",
      "metadata": {
        "id": "ud0yn2zx2jV6",
        "colab_type": "text"
      },
      "source": [
        "#### Set neural network hyperparameters (tidier at top of file!)"
      ]
    },
    {
      "cell_type": "code",
      "metadata": {
        "id": "VpdGWV9J2jV8",
        "colab_type": "code",
        "colab": {
          "base_uri": "https://localhost:8080/",
          "height": 153
        },
        "outputId": "5ab57b90-d873-43ba-81ff-4058b2edf19a"
      },
      "source": [
        "lr = 0.1\n",
        "epochs = 20\n",
        "batch_size = 128\n",
        "weight_initializer = tf.contrib.layers.xavier_initializer() # have to explicitly initialize xavier Glorot initialization, in keras as default."
      ],
      "execution_count": 3,
      "outputs": [
        {
          "output_type": "stream",
          "text": [
            "WARNING:tensorflow:\n",
            "The TensorFlow contrib module will not be included in TensorFlow 2.0.\n",
            "For more information, please see:\n",
            "  * https://github.com/tensorflow/community/blob/master/rfcs/20180907-contrib-sunset.md\n",
            "  * https://github.com/tensorflow/addons\n",
            "  * https://github.com/tensorflow/io (for I/O related ops)\n",
            "If you depend on functionality not listed there, please file an issue.\n",
            "\n"
          ],
          "name": "stdout"
        }
      ]
    },
    {
      "cell_type": "markdown",
      "metadata": {
        "id": "ivazpviQ2jWC",
        "colab_type": "text"
      },
      "source": [
        "#### Set number of neurons for each layer"
      ]
    },
    {
      "cell_type": "code",
      "metadata": {
        "id": "2yrUKz7J2jWD",
        "colab_type": "code",
        "colab": {}
      },
      "source": [
        "n_input = 784  # number of pixel for mnist dataset\n",
        "n_dense_1 = 64 # Same as keras intermediate notebook\n",
        "n_dense_2 = 64 # Same as keras intermediate notebook\n",
        "n_classes = 10 # 10 classes of output"
      ],
      "execution_count": 0,
      "outputs": []
    },
    {
      "cell_type": "markdown",
      "metadata": {
        "id": "CHbHuGFz2jWK",
        "colab_type": "text"
      },
      "source": [
        "#### Define placeholders Tensors for inputs and labels"
      ]
    },
    {
      "cell_type": "code",
      "metadata": {
        "id": "_T5rg0gu2jWN",
        "colab_type": "code",
        "colab": {}
      },
      "source": [
        "x = tf.placeholder(tf.float32, [None, n_input]) # make 2-dimensional for matrix multiplication\n",
        "y = tf.placeholder(tf.float32, [None, n_classes])"
      ],
      "execution_count": 0,
      "outputs": []
    },
    {
      "cell_type": "markdown",
      "metadata": {
        "id": "3HTna1t-2jWU",
        "colab_type": "text"
      },
      "source": [
        "#### Define types of layers"
      ]
    },
    {
      "cell_type": "code",
      "metadata": {
        "id": "6Wk3M8nf2jWX",
        "colab_type": "code",
        "colab": {}
      },
      "source": [
        "# dense layer with ReLU activation:\n",
        "def dense(x, W, b):\n",
        "    z = tf.add(tf.matmul(x, W), b)\n",
        "    a = tf.nn.relu(z)\n",
        "    return a"
      ],
      "execution_count": 0,
      "outputs": []
    },
    {
      "cell_type": "markdown",
      "metadata": {
        "id": "bHPyjljl2jWc",
        "colab_type": "text"
      },
      "source": [
        "#### Design neural network architecture"
      ]
    },
    {
      "cell_type": "code",
      "metadata": {
        "id": "3NTwMVux2jWd",
        "colab_type": "code",
        "colab": {}
      },
      "source": [
        "def network(x, weights, biases):\n",
        "    \n",
        "    # two dense hidden layers: \n",
        "    dense_1 = dense(x, weights['W1'], biases['b1'])\n",
        "    dense_2 = dense(dense_1, weights['W2'], biases['b2'])\n",
        "    \n",
        "    # linear output layer (softmax)\n",
        "    out_layer_z = tf.add(tf.matmul(dense_2, weights['W_out']), biases['b_out'])\n",
        "    \n",
        "    return out_layer_z"
      ],
      "execution_count": 0,
      "outputs": []
    },
    {
      "cell_type": "markdown",
      "metadata": {
        "id": "rfvEL6cj2jWi",
        "colab_type": "text"
      },
      "source": [
        "#### Define dictionaries for storing weights and biases for each layer -- and initialize"
      ]
    },
    {
      "cell_type": "code",
      "metadata": {
        "id": "mfIHNieR2jWj",
        "colab_type": "code",
        "colab": {}
      },
      "source": [
        "bias_dict = {\n",
        "    'b1': tf.Variable(tf.zeros([n_dense_1])), \n",
        "    'b2': tf.Variable(tf.zeros([n_dense_2])),\n",
        "    'b_out': tf.Variable(tf.zeros([n_classes]))\n",
        "}\n",
        "\n",
        "weight_dict = {\n",
        "    'W1': tf.get_variable('W1', [n_input, n_dense_1], initializer=weight_initializer),\n",
        "    'W2': tf.get_variable('W2', [n_dense_1, n_dense_2], initializer=weight_initializer),\n",
        "    'W_out': tf.get_variable('W_out', [n_dense_2, n_classes], initializer=weight_initializer)\n",
        "}"
      ],
      "execution_count": 0,
      "outputs": []
    },
    {
      "cell_type": "markdown",
      "metadata": {
        "id": "616UUxna2jWn",
        "colab_type": "text"
      },
      "source": [
        "#### Build model"
      ]
    },
    {
      "cell_type": "code",
      "metadata": {
        "id": "56jRTB702jWp",
        "colab_type": "code",
        "colab": {}
      },
      "source": [
        "predictions = network(x, weights=weight_dict, biases=bias_dict)"
      ],
      "execution_count": 0,
      "outputs": []
    },
    {
      "cell_type": "markdown",
      "metadata": {
        "id": "c2uRihIx2jWw",
        "colab_type": "text"
      },
      "source": [
        "#### Define model's loss and its optimizer"
      ]
    },
    {
      "cell_type": "code",
      "metadata": {
        "id": "4CddRRIX2jWy",
        "colab_type": "code",
        "colab": {
          "base_uri": "https://localhost:8080/",
          "height": 153
        },
        "outputId": "7e79aeb1-d7c8-4aeb-a1df-4e0e907b8d40"
      },
      "source": [
        "cost = tf.reduce_mean(tf.nn.softmax_cross_entropy_with_logits(logits=predictions, labels=y)) #use cross_entropy on softmax layer\n",
        "optimizer = tf.train.GradientDescentOptimizer(learning_rate=lr).minimize(cost) # use gradient Descent Optimizer"
      ],
      "execution_count": 10,
      "outputs": [
        {
          "output_type": "stream",
          "text": [
            "WARNING:tensorflow:From <ipython-input-10-9091e007b7dc>:1: softmax_cross_entropy_with_logits (from tensorflow.python.ops.nn_ops) is deprecated and will be removed in a future version.\n",
            "Instructions for updating:\n",
            "\n",
            "Future major versions of TensorFlow will allow gradients to flow\n",
            "into the labels input on backprop by default.\n",
            "\n",
            "See `tf.nn.softmax_cross_entropy_with_logits_v2`.\n",
            "\n"
          ],
          "name": "stdout"
        }
      ]
    },
    {
      "cell_type": "markdown",
      "metadata": {
        "id": "8LqwhfbA2jW2",
        "colab_type": "text"
      },
      "source": [
        "#### Define evaluation metrics"
      ]
    },
    {
      "cell_type": "code",
      "metadata": {
        "id": "JIleFQOP2jW4",
        "colab_type": "code",
        "colab": {}
      },
      "source": [
        "# calculate accuracy by identifying test cases where the model's highest-probability class matches the true y label: \n",
        "correct_prediction = tf.equal(tf.argmax(predictions, 1), tf.argmax(y, 1))\n",
        "accuracy_pct = tf.reduce_mean(tf.cast(correct_prediction, tf.float32)) * 100 # What accuracy % did I get correct?"
      ],
      "execution_count": 0,
      "outputs": []
    },
    {
      "cell_type": "markdown",
      "metadata": {
        "id": "q1ZY2cGd2jW9",
        "colab_type": "text"
      },
      "source": [
        "#### Create op for variable initialization"
      ]
    },
    {
      "cell_type": "code",
      "metadata": {
        "id": "KkqEzo_a2jW-",
        "colab_type": "code",
        "colab": {}
      },
      "source": [
        "initializer_op = tf.global_variables_initializer()"
      ],
      "execution_count": 0,
      "outputs": []
    },
    {
      "cell_type": "markdown",
      "metadata": {
        "id": "liWXOauA2jXD",
        "colab_type": "text"
      },
      "source": [
        "#### Train the network in a session"
      ]
    },
    {
      "cell_type": "code",
      "metadata": {
        "id": "qnew5u4M2jXE",
        "colab_type": "code",
        "colab": {
          "base_uri": "https://localhost:8080/",
          "height": 442
        },
        "outputId": "6b572258-5bf3-487a-a1fd-6f0614738e44"
      },
      "source": [
        "with tf.Session() as session:\n",
        "    session.run(initializer_op)\n",
        "    \n",
        "    print(\"Training for\", epochs, \"epochs.\")\n",
        "    \n",
        "    # loop over epochs: \n",
        "    for epoch in range(epochs):\n",
        "        \n",
        "        avg_cost = 0.0 # track cost to monitor performance during training\n",
        "        avg_accuracy_pct = 0.0\n",
        "        \n",
        "        # loop over all batches of an epoch:\n",
        "        n_batches = int(mnist.train.num_examples / batch_size)\n",
        "        for i in range(n_batches):\n",
        "            \n",
        "            batch_x, batch_y = mnist.train.next_batch(batch_size)\n",
        "            \n",
        "            # feed batch data to run optimization and fetching cost and accuracy: \n",
        "            _, batch_cost, batch_acc = session.run([optimizer, cost, accuracy_pct], \n",
        "                                                   feed_dict={x: batch_x, y: batch_y})\n",
        "            \n",
        "            # accumulate mean loss and accuracy over epoch: \n",
        "            avg_cost += batch_cost / n_batches\n",
        "            avg_accuracy_pct += batch_acc / n_batches\n",
        "            \n",
        "        # output logs at end of each epoch of training:\n",
        "        # This needs to be done explicitly in Tensorflow, what done in Keras automatically\n",
        "        print(\"Epoch \", '%03d' % (epoch+1), \n",
        "              \": cost = \", '{:.3f}'.format(avg_cost), \n",
        "              \", accuracy = \", '{:.2f}'.format(avg_accuracy_pct), \"%\", \n",
        "              sep='')\n",
        "    \n",
        "    print(\"Training Complete. Testing Model.\\n\")\n",
        "    \n",
        "    test_cost = cost.eval({x: mnist.test.images, y: mnist.test.labels})\n",
        "    test_accuracy_pct = accuracy_pct.eval({x: mnist.test.images, y: mnist.test.labels})\n",
        "    \n",
        "    print(\"Test Cost:\", '{:.3f}'.format(test_cost))\n",
        "    print(\"Test Accuracy: \", '{:.2f}'.format(test_accuracy_pct), \"%\", sep='')"
      ],
      "execution_count": 13,
      "outputs": [
        {
          "output_type": "stream",
          "text": [
            "Training for 20 epochs.\n",
            "Epoch 001: cost = 0.501, accuracy = 85.40%\n",
            "Epoch 002: cost = 0.251, accuracy = 92.71%\n",
            "Epoch 003: cost = 0.194, accuracy = 94.35%\n",
            "Epoch 004: cost = 0.159, accuracy = 95.38%\n",
            "Epoch 005: cost = 0.134, accuracy = 96.06%\n",
            "Epoch 006: cost = 0.117, accuracy = 96.59%\n",
            "Epoch 007: cost = 0.104, accuracy = 96.96%\n",
            "Epoch 008: cost = 0.093, accuracy = 97.21%\n",
            "Epoch 009: cost = 0.084, accuracy = 97.52%\n",
            "Epoch 010: cost = 0.077, accuracy = 97.73%\n",
            "Epoch 011: cost = 0.070, accuracy = 97.92%\n",
            "Epoch 012: cost = 0.064, accuracy = 98.09%\n",
            "Epoch 013: cost = 0.059, accuracy = 98.25%\n",
            "Epoch 014: cost = 0.055, accuracy = 98.36%\n",
            "Epoch 015: cost = 0.051, accuracy = 98.52%\n",
            "Epoch 016: cost = 0.047, accuracy = 98.61%\n",
            "Epoch 017: cost = 0.044, accuracy = 98.72%\n",
            "Epoch 018: cost = 0.040, accuracy = 98.89%\n",
            "Epoch 019: cost = 0.037, accuracy = 98.99%\n",
            "Epoch 020: cost = 0.035, accuracy = 99.03%\n",
            "Training Complete. Testing Model.\n",
            "\n",
            "Test Cost: 0.084\n",
            "Test Accuracy: 97.30%\n"
          ],
          "name": "stdout"
        }
      ]
    }
  ]
}